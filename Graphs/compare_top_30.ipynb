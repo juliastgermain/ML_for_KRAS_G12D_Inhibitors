{
 "cells": [
  {
   "cell_type": "code",
   "execution_count": 2,
   "id": "initial_id",
   "metadata": {
    "collapsed": true,
    "ExecuteTime": {
     "end_time": "2025-05-10T10:01:03.494901Z",
     "start_time": "2025-05-10T10:01:03.488043Z"
    }
   },
   "outputs": [],
   "source": [
    "import pandas as pd"
   ]
  },
  {
   "cell_type": "markdown",
   "source": [
    "## G12C"
   ],
   "metadata": {
    "collapsed": false
   },
   "id": "54b6ee824e1798ec"
  },
  {
   "cell_type": "code",
   "outputs": [
    {
     "name": "stdout",
     "output_type": "stream",
     "text": [
      "Overlapping entries in column 'chembl_id':\n",
      "\n",
      "Value: CHEMBL186\n",
      "Indices in Dataset 1: [27]\n",
      "Indices in Dataset 2: [1]\n",
      "----------------------------------------\n",
      "Value: CHEMBL1200962\n",
      "Indices in Dataset 1: [30]\n",
      "Indices in Dataset 2: [0]\n",
      "----------------------------------------\n"
     ]
    }
   ],
   "source": [
    "df1 = pd.read_csv('NN_molecules_Newfeatures_G12C_30.csv')\n",
    "df2 = pd.read_csv('RF_molecules_Newfeatures_G12C_top30.csv')\n",
    "\n",
    "# Specify the column to compare\n",
    "\n",
    "\n",
    "column_name = 'chembl_id'  # Replace with your column name\n",
    "\n",
    "# Find overlapping values between the two datasets\n",
    "common_values = set(df1[column_name]).intersection(set(df2[column_name]))\n",
    "\n",
    "# Print header\n",
    "print(f\"Overlapping entries in column '{column_name}':\\n\")\n",
    "\n",
    "# Check for and print matches\n",
    "for value in common_values:\n",
    "    # Find indices in both datasets\n",
    "    df1_indices = df1.index[df1[column_name] == value].tolist()\n",
    "    df2_indices = df2.index[df2[column_name] == value].tolist()\n",
    "    \n",
    "    print(f\"Value: {value}\")\n",
    "    print(f\"Indices in Dataset 1: {df1_indices}\")\n",
    "    print(f\"Indices in Dataset 2: {df2_indices}\")\n",
    "    print(\"-\" * 40)\n",
    "    \n",
    "    "
   ],
   "metadata": {
    "collapsed": false,
    "ExecuteTime": {
     "end_time": "2025-05-10T10:11:49.936023Z",
     "start_time": "2025-05-10T10:11:49.918703Z"
    }
   },
   "id": "3e288d0c8b441004",
   "execution_count": 5
  },
  {
   "cell_type": "markdown",
   "source": [
    "## G12D"
   ],
   "metadata": {
    "collapsed": false
   },
   "id": "55b83434b88c4808"
  },
  {
   "cell_type": "code",
   "outputs": [
    {
     "name": "stdout",
     "output_type": "stream",
     "text": [
      "Overlapping entries in column 'chembl_id':\n"
     ]
    }
   ],
   "source": [
    "df1 = pd.read_csv('NN_molecules_Newfeatures_G12D_new.csv')\n",
    "df2 = pd.read_csv('RF_molecules_Newfeatures_G12D_30.csv')\n",
    "\n",
    "# Specify the column to compare\n",
    "\n",
    "\n",
    "column_name = 'chembl_id'  # Replace with your column name\n",
    "\n",
    "# Find overlapping values between the two datasets\n",
    "common_values = set(df1[column_name]).intersection(set(df2[column_name]))\n",
    "\n",
    "# Print header\n",
    "print(f\"Overlapping entries in column '{column_name}':\\n\")\n",
    "\n",
    "# Check for and print matches\n",
    "for value in common_values:\n",
    "    # Find indices in both datasets\n",
    "    df1_indices = df1.index[df1[column_name] == value].tolist()\n",
    "    df2_indices = df2.index[df2[column_name] == value].tolist()\n",
    "    \n",
    "    print(f\"Value: {value}\")\n",
    "    print(f\"Indices in Dataset 1: {df1_indices}\")\n",
    "    print(f\"Indices in Dataset 2: {df2_indices}\")\n",
    "    print(\"-\" * 40)\n",
    "    \n",
    "    "
   ],
   "metadata": {
    "collapsed": false,
    "ExecuteTime": {
     "end_time": "2025-05-10T11:05:32.245844Z",
     "start_time": "2025-05-10T11:05:32.235843Z"
    }
   },
   "id": "5798b639faf487c8",
   "execution_count": 8
  },
  {
   "cell_type": "markdown",
   "source": [
    "## GTPase KRas"
   ],
   "metadata": {
    "collapsed": false
   },
   "id": "d5c2a9efec5fca7b"
  },
  {
   "cell_type": "code",
   "outputs": [
    {
     "name": "stdout",
     "output_type": "stream",
     "text": [
      "Overlapping entries in column 'chembl_id':\n",
      "\n",
      "Value: CHEMBL3301603\n",
      "Indices in Dataset 1: [5]\n",
      "Indices in Dataset 2: [25]\n",
      "----------------------------------------\n",
      "Value: CHEMBL3348963\n",
      "Indices in Dataset 1: [10]\n",
      "Indices in Dataset 2: [17]\n",
      "----------------------------------------\n",
      "Value: CHEMBL1668\n",
      "Indices in Dataset 1: [3]\n",
      "Indices in Dataset 2: [9]\n",
      "----------------------------------------\n"
     ]
    }
   ],
   "source": [
    "df1 = pd.read_csv('NN_molecules_Newfeatures_GTPase_KRAS.csv')\n",
    "df2 = pd.read_csv('RF_molecules_Newfeatures_GTPase_KRas_30.csv')\n",
    "\n",
    "# Specify the column to compare\n",
    "\n",
    "\n",
    "column_name = 'chembl_id'  # Replace with your column name\n",
    "\n",
    "# Find overlapping values between the two datasets\n",
    "common_values = set(df1[column_name]).intersection(set(df2[column_name]))\n",
    "\n",
    "# Print header\n",
    "print(f\"Overlapping entries in column '{column_name}':\\n\")\n",
    "\n",
    "# Check for and print matches\n",
    "for value in common_values:\n",
    "    # Find indices in both datasets\n",
    "    df1_indices = df1.index[df1[column_name] == value].tolist()\n",
    "    df2_indices = df2.index[df2[column_name] == value].tolist()\n",
    "    \n",
    "    print(f\"Value: {value}\")\n",
    "    print(f\"Indices in Dataset 1: {df1_indices}\")\n",
    "    print(f\"Indices in Dataset 2: {df2_indices}\")\n",
    "    print(\"-\" * 40)\n",
    "    \n",
    "    "
   ],
   "metadata": {
    "collapsed": false,
    "ExecuteTime": {
     "end_time": "2025-05-10T11:05:34.024239Z",
     "start_time": "2025-05-10T11:05:34.011228Z"
    }
   },
   "id": "e70d1415cccc7a8a",
   "execution_count": 9
  },
  {
   "cell_type": "code",
   "outputs": [],
   "source": [
    "   "
   ],
   "metadata": {
    "collapsed": false
   },
   "id": "f90d5448d3abfb8a"
  }
 ],
 "metadata": {
  "kernelspec": {
   "display_name": "Python 3",
   "language": "python",
   "name": "python3"
  },
  "language_info": {
   "codemirror_mode": {
    "name": "ipython",
    "version": 2
   },
   "file_extension": ".py",
   "mimetype": "text/x-python",
   "name": "python",
   "nbconvert_exporter": "python",
   "pygments_lexer": "ipython2",
   "version": "2.7.6"
  }
 },
 "nbformat": 4,
 "nbformat_minor": 5
}
