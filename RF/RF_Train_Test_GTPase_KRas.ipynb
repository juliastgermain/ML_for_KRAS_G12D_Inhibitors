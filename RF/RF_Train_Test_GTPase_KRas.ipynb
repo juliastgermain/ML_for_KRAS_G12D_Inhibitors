{
 "cells": [
  {
   "cell_type": "code",
   "id": "initial_id",
   "metadata": {
    "collapsed": true,
    "ExecuteTime": {
     "end_time": "2025-05-10T09:27:46.718787Z",
     "start_time": "2025-05-10T09:27:46.668269Z"
    }
   },
   "source": [
    "import numpy as np\n",
    "import matplotlib.pyplot as plt\n",
    "import pandas as pd\n",
    "import warnings\n",
    "from sklearn.ensemble import RandomForestRegressor\n",
    "from sklearn.pipeline import Pipeline\n",
    "from sklearn.preprocessing import StandardScaler\n",
    "from sklearn.model_selection import KFold\n",
    "from sklearn.model_selection import cross_val_score\n",
    "from sklearn.metrics import make_scorer, mean_squared_error, r2_score"
   ],
   "outputs": [],
   "execution_count": 6
  },
  {
   "metadata": {
    "ExecuteTime": {
     "end_time": "2025-05-10T09:27:47.221088Z",
     "start_time": "2025-05-10T09:27:47.156717Z"
    }
   },
   "cell_type": "code",
   "source": [
    "import pandas as pd\n",
    "import numpy as np\n",
    "\n",
    "# Read the CSV file and drop rows with missing values\n",
    "df = pd.read_csv('/Users/user/PycharmProjects/Drug Design FInal/FINAL_GIT/Raw Files/merged_features_IC50_gtpase_kras.csv')\n",
    "df = df.dropna()  # or use df.dropna(inplace=True)\n",
    "\n",
    "# Prepare X by dropping the non-feature columns\n",
    "X = df.drop(columns=['Standard Value', 'ChEMBL ID', 'Smiles'])\n",
    "\n",
    "# Clean the target values: remove '<' and '>' and convert to float\n",
    "#y = df['SV'].str.lstrip('<>').astype(float)\n",
    "\n",
    "# Create a DataFrame for y\n",
    "y_df = df['Standard Value']\n",
    "\n",
    "# Convert IC50 from nM to M and compute pIC50\n",
    "y_df['pIC50'] = -np.log10(df['Standard Value'] / 1e9)\n",
    "\n",
    "y_df.head()\n",
    "\n",
    "y = y_df['pIC50']"
   ],
   "id": "ac6eedd80dda8ac9",
   "outputs": [],
   "execution_count": 7
  },
  {
   "metadata": {
    "ExecuteTime": {
     "end_time": "2025-05-10T09:29:06.956436Z",
     "start_time": "2025-05-10T09:27:47.804310Z"
    }
   },
   "cell_type": "code",
   "source": [
    "model = RandomForestRegressor(max_depth=20, min_samples_leaf=10)\n",
    "pipe = Pipeline([('scaler', StandardScaler()), ('model', model)])\n",
    "\n",
    "scorers = {\n",
    "    'r2': make_scorer(r2_score),\n",
    "    'mse': make_scorer(mean_squared_error)\n",
    "}\n",
    "\n",
    "cv = KFold(n_splits=15, shuffle=True, random_state=None)\n",
    "scores_r2 = cross_val_score(pipe, X, y, cv=cv, scoring=scorers['r2'])\n",
    "scores_mse = cross_val_score(pipe, X, y, cv=cv, scoring=scorers['mse'])\n",
    "\n",
    "mean_r2 = scores_r2.mean()\n",
    "mean_mse = scores_mse.mean()\n",
    "\n",
    "print(\"Mean R2 Score:\", mean_r2)\n",
    "# print(\"Mean MSE Score:\", mean_mse)"
   ],
   "id": "16799b4f1c01f52a",
   "outputs": [
    {
     "name": "stdout",
     "output_type": "stream",
     "text": [
      "Mean R2 Score: 0.6625590722293047\n"
     ]
    }
   ],
   "execution_count": 8
  },
  {
   "metadata": {},
   "cell_type": "code",
   "execution_count": null,
   "source": [],
   "id": "fe6d35d9a14f2833",
   "outputs": []
  }
 ],
 "metadata": {
  "kernelspec": {
   "display_name": "Python 3",
   "language": "python",
   "name": "python3"
  },
  "language_info": {
   "codemirror_mode": {
    "name": "ipython",
    "version": 2
   },
   "file_extension": ".py",
   "mimetype": "text/x-python",
   "name": "python",
   "nbconvert_exporter": "python",
   "pygments_lexer": "ipython2",
   "version": "2.7.6"
  }
 },
 "nbformat": 4,
 "nbformat_minor": 5
}
