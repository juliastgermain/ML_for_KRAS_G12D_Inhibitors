{
 "cells": [
  {
   "cell_type": "code",
   "id": "initial_id",
   "metadata": {
    "collapsed": true,
    "ExecuteTime": {
     "end_time": "2025-04-03T14:47:57.053158Z",
     "start_time": "2025-04-03T14:47:55.770526Z"
    }
   },
   "source": [
    "import numpy as np\n",
    "import pandas as pd\n",
    "import warnings\n",
    "from sklearn.ensemble import RandomForestRegressor\n",
    "from sklearn.pipeline import Pipeline\n",
    "from sklearn.preprocessing import StandardScaler"
   ],
   "execution_count": 1,
   "outputs": []
  },
  {
   "metadata": {
    "ExecuteTime": {
     "end_time": "2025-04-03T14:47:58.560669Z",
     "start_time": "2025-04-03T14:47:58.552662Z"
    }
   },
   "cell_type": "code",
   "source": [
    "def pIC50(input):\n",
    "    pIC50 = []\n",
    "\n",
    "    input[\"Standard Value\"] = pd.to_numeric(input[\"Standard Value\"],errors='coerce')\n",
    "\n",
    "    for i in input[\"Standard Value\"]:\n",
    "        molar = i*(10**-9) # Converts nM to M\n",
    "        pIC50.append(-np.log10(molar))\n",
    "\n",
    "    input['pIC50'] = pIC50\n",
    "    x = input[\"pIC50\"]\n",
    "\n",
    "    return x"
   ],
   "id": "d6a0ff53b5b430d2",
   "execution_count": 3,
   "outputs": []
  },
  {
   "metadata": {
    "ExecuteTime": {
     "end_time": "2025-04-03T14:47:59.401540Z",
     "start_time": "2025-04-03T14:47:59.297013Z"
    }
   },
   "cell_type": "code",
   "source": [
    "filename = \"../Raw Files/GTPase_training.csv\"\n",
    "\n",
    "df2 = pd.read_csv(filename)\n",
    "df2.dropna(subset=['Standard Value'], inplace=True)\n",
    "df2['Standard Value'] = pIC50(df2)\n",
    "df2['Standard Value'] = df2['pIC50']  # Replace 'SV' column with pIC50 values\n",
    "\n",
    "# Drop 'pIC50' column (optional) as it's now redundant\n",
    "df2.drop(columns=['pIC50'], inplace=True)"
   ],
   "id": "93aa213cd87b7376",
   "execution_count": 4,
   "outputs": []
  },
  {
   "metadata": {
    "ExecuteTime": {
     "end_time": "2025-04-03T14:51:40.889956Z",
     "start_time": "2025-04-03T14:48:00.354301Z"
    }
   },
   "cell_type": "code",
   "source": [
    "# Load training descriptors data\n",
    "#df1 = df1.loc[:, ~df1.columns.str.contains('Unnamed')]\n",
    "df2.dropna(subset=['Standard Value'], inplace=True)\n",
    "X = df2.drop(columns=['Standard Value','Smiles', 'ChEMBL ID'])\n",
    "y = df2['Standard Value']\n",
    "\n",
    "# Initialize model and pipeline\n",
    "model = RandomForestRegressor(max_depth=20, min_samples_leaf=10)\n",
    "pipe = Pipeline([('scaler', StandardScaler()), ('model', model)])\n",
    "\n",
    "# Load new descriptors data\n",
    "new_descriptors = pd.read_csv('../Raw Files/FDA_Hyb_Features.csv')\n",
    "new_descriptors.dropna(inplace=True)\n",
    "\n",
    "# Extract ChEMBL IDs and SMILES\n",
    "chembl_id_column = new_descriptors['ChEMBL ID']\n",
    "smiles_column = new_descriptors['Smiles']\n",
    "new_descriptors.drop(columns=['ChEMBL ID', 'Smiles'], inplace=True)\n",
    "\n",
    "# Ensure new_descriptors has the same columns as X\n",
    "missing_cols = set(X.columns) - set(new_descriptors.columns)  # Columns missing in new data\n",
    "extra_cols = set(new_descriptors.columns) - set(X.columns)  # Extra columns in new data\n",
    "\n",
    "# Add missing columns with zero values\n",
    "for col in missing_cols:\n",
    "    new_descriptors[col] = 0\n",
    "\n",
    "# Drop extra columns\n",
    "new_descriptors = new_descriptors[X.columns]  # Reorder and drop extras\n",
    "\n",
    "# Now X and new_descriptors have identical columns\n",
    "\n",
    "# Initialize a DataFrame to store results\n",
    "loop_results_df = pd.DataFrame(columns=['ChEMBL ID', 'Smiles', 'Predicted Value'])\n",
    "\n",
    "# Number of iterations\n",
    "loop_n = 50\n",
    "\n",
    "# Dictionary to store predicted values for each ChEMBL ID\n",
    "predicted_values = {chembl_id: [] for chembl_id in chembl_id_column.unique()}\n",
    "\n",
    "# Run the loop to fit the model and predict the values\n",
    "for i in range(loop_n):\n",
    "    pipe.fit(X, y)\n",
    "\n",
    "    loop_predicted_values = pipe.predict(new_descriptors)\n",
    "\n",
    "    loop_df = pd.DataFrame({\n",
    "        'ChEMBL ID': chembl_id_column,\n",
    "        'Smiles': smiles_column,\n",
    "        'Predicted Value': loop_predicted_values\n",
    "    })\n",
    "    loop_df.sort_values(by='Predicted Value', ascending=False, inplace=True)\n",
    "\n",
    "    with warnings.catch_warnings():\n",
    "        warnings.filterwarnings(\"ignore\", category=FutureWarning)\n",
    "        loop_results_df = pd.concat([loop_results_df, loop_df.head(10)])\n",
    "\n",
    "    # Store the predicted values for each ChEMBL ID\n",
    "    for chembl_id, predicted_value in zip(chembl_id_column, loop_predicted_values):\n",
    "        if chembl_id in predicted_values:\n",
    "            predicted_values[chembl_id].append(predicted_value)\n",
    "\n",
    "# Calculate frequency of each ChEMBL ID in the top 10\n",
    "value_counts = loop_results_df['ChEMBL ID'].value_counts(normalize=True) * 10\n",
    "#print(value_counts)\n",
    "\n",
    "# Get the top 13 ChEMBL IDs\n",
    "top_10_chembl_ids = value_counts.head(10).index"
   ],
   "id": "6c505f5c7e1022e",
   "execution_count": 5,
   "outputs": []
  },
  {
   "metadata": {},
   "cell_type": "code",
   "outputs": [],
   "execution_count": null,
   "source": [
    "mean_values = {chembl_id: np.mean(predicted_values[chembl_id]) for chembl_id in top_10_chembl_ids}\n",
    "std_dev_values = {chembl_id: np.std(predicted_values[chembl_id]) for chembl_id in top_10_chembl_ids}\n",
    "\n",
    "summary_df = pd.DataFrame({\n",
    "    'ChEMBL ID': top_10_chembl_ids,\n",
    "    'Frequency': [value_counts[chembl_id] for chembl_id in top_10_chembl_ids],\n",
    "    'Avg Predicted Value': [mean_values[chembl_id] for chembl_id in top_10_chembl_ids]\n",
    "})\n",
    "\n",
    "summary_df.head(10)\n",
    "summary_df.to_csv(\"RF_Molecules_GTPase_KRas.csv\", index=False)"
   ],
   "id": "7d11d53cc3db93c7"
  },
  {
   "metadata": {},
   "cell_type": "code",
   "outputs": [],
   "execution_count": null,
   "source": [],
   "id": "989130a6ece740d3"
  }
 ],
 "metadata": {
  "kernelspec": {
   "display_name": "Python 3",
   "language": "python",
   "name": "python3"
  },
  "language_info": {
   "codemirror_mode": {
    "name": "ipython",
    "version": 2
   },
   "file_extension": ".py",
   "mimetype": "text/x-python",
   "name": "python",
   "nbconvert_exporter": "python",
   "pygments_lexer": "ipython2",
   "version": "2.7.6"
  }
 },
 "nbformat": 4,
 "nbformat_minor": 5
}
