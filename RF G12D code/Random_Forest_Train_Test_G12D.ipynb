{
 "cells": [
  {
   "cell_type": "code",
   "id": "initial_id",
   "metadata": {
    "collapsed": true,
    "ExecuteTime": {
     "end_time": "2025-04-03T13:31:51.146938Z",
     "start_time": "2025-04-03T13:31:51.140602Z"
    }
   },
   "source": [
    "import numpy as np\n",
    "import matplotlib.pyplot as plt\n",
    "import pandas as pd\n",
    "import warnings\n",
    "from sklearn.ensemble import RandomForestRegressor\n",
    "from sklearn.pipeline import Pipeline\n",
    "from sklearn.preprocessing import StandardScaler\n",
    "from sklearn.model_selection import KFold\n",
    "from sklearn.model_selection import cross_val_score\n",
    "from sklearn.metrics import make_scorer, mean_squared_error, r2_score"
   ],
   "outputs": [],
   "execution_count": 5
  },
  {
   "metadata": {
    "ExecuteTime": {
     "end_time": "2025-04-03T14:17:33.306346Z",
     "start_time": "2025-04-03T14:17:33.190902Z"
    }
   },
   "cell_type": "code",
   "source": [
    "import pandas as pd\n",
    "import numpy as np\n",
    "\n",
    "# Read the CSV file and drop rows with missing values\n",
    "df = pd.read_csv('C:\\\\Users\\Gebruiker\\Desktop\\pycharm\\\\new_merged_features_IC50_g12d.csv')\n",
    "df = df.dropna()  # or use df.dropna(inplace=True)\n",
    "\n",
    "# Prepare X by dropping the non-feature columns\n",
    "X = df.drop(columns=['IC50 (nM)', 'ChEMBL ID', 'Smiles'])\n",
    "\n",
    "# Clean the target values: remove '<' and '>' and convert to float\n",
    "y = df['IC50 (nM)'].str.lstrip('<>').astype(float)\n",
    "\n",
    "# Create a DataFrame for y\n",
    "y_df = pd.DataFrame({'IC50 (nM)': y})\n",
    "\n",
    "# Convert IC50 from nM to M and compute pIC50\n",
    "y_df['pIC50'] = -np.log10(y_df['IC50 (nM)'] / 1e9)\n",
    "\n",
    "y_df.head()\n",
    "\n",
    "y = y_df['pIC50']"
   ],
   "id": "3324ee9e507dcc36",
   "outputs": [
    {
     "name": "stderr",
     "output_type": "stream",
     "text": [
      "<>:5: SyntaxWarning: invalid escape sequence '\\G'\n",
      "<>:5: SyntaxWarning: invalid escape sequence '\\G'\n",
      "C:\\Users\\Gebruiker\\AppData\\Local\\Temp\\ipykernel_28412\\2161049741.py:5: SyntaxWarning: invalid escape sequence '\\G'\n",
      "  df = pd.read_csv('C:\\\\Users\\Gebruiker\\Desktop\\pycharm\\\\new_merged_features_IC50_g12d.csv')\n"
     ]
    }
   ],
   "execution_count": 7
  },
  {
   "metadata": {
    "ExecuteTime": {
     "end_time": "2025-02-27T15:59:53.666985Z",
     "start_time": "2025-02-27T15:53:12.552186Z"
    }
   },
   "cell_type": "code",
   "source": [
    "model = RandomForestRegressor(max_depth=20, min_samples_leaf=10)\n",
    "pipe = Pipeline([('scaler', StandardScaler()), ('model', model)])\n",
    "\n",
    "scorers = {\n",
    "    'r2': make_scorer(r2_score),\n",
    "    'mse': make_scorer(mean_squared_error)\n",
    "}\n",
    "\n",
    "cv = KFold(n_splits=15, shuffle=True, random_state=None)\n",
    "scores_r2 = cross_val_score(pipe, X, y, cv=cv, scoring=scorers['r2'])\n",
    "scores_mse = cross_val_score(pipe, X, y, cv=cv, scoring=scorers['mse'])\n",
    "\n",
    "mean_r2 = scores_r2.mean()\n",
    "mean_mse = scores_mse.mean()\n",
    "\n",
    "print(\"Mean R2 Score:\", mean_r2)\n",
    "# print(\"Mean MSE Score:\", mean_mse)"
   ],
   "id": "64d7d2c42b928400",
   "outputs": [
    {
     "name": "stdout",
     "output_type": "stream",
     "text": [
      "Mean R2 Score: 0.6982854967936245\n"
     ]
    }
   ],
   "execution_count": 8
  },
  {
   "metadata": {},
   "cell_type": "code",
   "outputs": [],
   "execution_count": null,
   "source": [],
   "id": "d7af028b5e2a0fcb"
  }
 ],
 "metadata": {
  "kernelspec": {
   "display_name": "Python 3",
   "language": "python",
   "name": "python3"
  },
  "language_info": {
   "codemirror_mode": {
    "name": "ipython",
    "version": 2
   },
   "file_extension": ".py",
   "mimetype": "text/x-python",
   "name": "python",
   "nbconvert_exporter": "python",
   "pygments_lexer": "ipython2",
   "version": "2.7.6"
  }
 },
 "nbformat": 4,
 "nbformat_minor": 5
}
