{
 "cells": [
  {
   "metadata": {
    "ExecuteTime": {
     "end_time": "2025-05-09T12:29:54.205866Z",
     "start_time": "2025-05-09T12:29:51.181182Z"
    }
   },
   "cell_type": "code",
   "source": [
    "import pandas as pd"
   ],
   "id": "8c9e6579ac5507f3",
   "outputs": [],
   "execution_count": 2
  },
  {
   "metadata": {
    "ExecuteTime": {
     "end_time": "2025-05-09T12:29:56.352095Z",
     "start_time": "2025-05-09T12:29:54.212894Z"
    }
   },
   "cell_type": "code",
   "source": [
    "df2 = pd.read_csv(\"C:/Users/Gianluca/OneDrive/Documenti/University/3 \"\n",
    "                  \"II/Project_Y3/Raw Files/merged_features_IC50_g12d\"\n",
    "                  \".csv\")\n",
    "df2"
   ],
   "id": "b1339ac220c3f947",
   "outputs": [
    {
     "data": {
      "text/plain": "      ChEMBL ID                                             Smiles  FC    N  \\\n0       1340697  Oc1cc(-c2nc3OC[C@@H]4[C@@H]5CC[C@H](CN4c4nc(OC...   0  348   \n1       1340710  Oc1cc(-c2nc3OC[C@@H]4[C@@H]5CC[C@H](CN4c4nc(OC...   0  362   \n2       1340721  Oc1cc(-c2nc3CC[C@@H]4[C@@H]5CC[C@H](CN4c4nc(OC...   0  440   \n3       1340735  C[Si]1(C)CCCN(CC2(COc3nc4N5C[C@H]6CC[C@H](N6)[...   0  368   \n4       1340738  C[C@H]1C[C@@H]2[C@@H]3CC[C@H](CN2c2nc(OC[C@@]4...   0  332   \n...         ...                                                ...  ..  ...   \n3519    1209825  Oc1cc(-c2ncc3c(nc(OC[C@@]45CCCN4C[C@H](F)C5)nc...   0  310   \n3520    1340667  Oc1cc(-c2nc3OC[C@@H]4[C@@H]5CC[C@H](CN4c4nc(OC...   0  328   \n3521    1340691  Oc1cc(-c2nc3OC[C@@H]4[C@@H]5CC[C@H](CN4c4nc(OC...   0  336   \n3522    1340693  Oc1cc(-c2nc3OC[C@@H]4[C@@H]5CC[C@H](CN4c4nc(OC...   0  344   \n3523    1340695  Oc1cc(-c2nc3OC[C@@H]4[C@@H]5CC[C@H](CN4c4nc(OC...   0  344   \n\n       H  Cl  Br  I  P   F  ...  fr_sulfonamd  fr_sulfone  fr_term_acetylene  \\\n0     33   0   0  0  0   2  ...             0           0                  1   \n1     35   0   0  0  0   2  ...             0           0                  1   \n2     35   0   0  0  0  11  ...             0           0                  1   \n3     44   0   0  0  0   2  ...             0           0                  1   \n4     34   0   0  0  0   4  ...             0           0                  0   \n...   ..  ..  .. .. ..  ..  ...           ...         ...                ...   \n3519  31   1   0  0  0   2  ...             0           0                  0   \n3520  31   0   0  0  0   3  ...             0           0                  1   \n3521  30   0   0  0  0   4  ...             0           0                  1   \n3522  35   0   0  0  0   3  ...             0           0                  1   \n3523  35   0   0  0  0   3  ...             0           0                  1   \n\n      fr_tetrazole  fr_thiazole  fr_thiocyan  fr_thiophene  fr_unbrch_alkane  \\\n0                0            0            0             0                 0   \n1                0            0            0             0                 0   \n2                0            0            0             0                 0   \n3                0            0            0             0                 0   \n4                0            0            0             0                 0   \n...            ...          ...          ...           ...               ...   \n3519             0            0            0             0                 0   \n3520             0            0            0             0                 0   \n3521             0            0            0             0                 0   \n3522             0            0            0             0                 0   \n3523             0            0            0             0                 0   \n\n      fr_urea  IC50 (nM)  \n0           0      0.200  \n1           0      0.200  \n2           0      0.200  \n3           0      0.200  \n4           0      0.200  \n...       ...        ...  \n3519        0      0.200  \n3520        0      0.200  \n3521        0      0.200  \n3522        0      0.200  \n3523        0      0.200  \n\n[3524 rows x 254 columns]",
      "text/html": "<div>\n<style scoped>\n    .dataframe tbody tr th:only-of-type {\n        vertical-align: middle;\n    }\n\n    .dataframe tbody tr th {\n        vertical-align: top;\n    }\n\n    .dataframe thead th {\n        text-align: right;\n    }\n</style>\n<table border=\"1\" class=\"dataframe\">\n  <thead>\n    <tr style=\"text-align: right;\">\n      <th></th>\n      <th>ChEMBL ID</th>\n      <th>Smiles</th>\n      <th>FC</th>\n      <th>N</th>\n      <th>H</th>\n      <th>Cl</th>\n      <th>Br</th>\n      <th>I</th>\n      <th>P</th>\n      <th>F</th>\n      <th>...</th>\n      <th>fr_sulfonamd</th>\n      <th>fr_sulfone</th>\n      <th>fr_term_acetylene</th>\n      <th>fr_tetrazole</th>\n      <th>fr_thiazole</th>\n      <th>fr_thiocyan</th>\n      <th>fr_thiophene</th>\n      <th>fr_unbrch_alkane</th>\n      <th>fr_urea</th>\n      <th>IC50 (nM)</th>\n    </tr>\n  </thead>\n  <tbody>\n    <tr>\n      <th>0</th>\n      <td>1340697</td>\n      <td>Oc1cc(-c2nc3OC[C@@H]4[C@@H]5CC[C@H](CN4c4nc(OC...</td>\n      <td>0</td>\n      <td>348</td>\n      <td>33</td>\n      <td>0</td>\n      <td>0</td>\n      <td>0</td>\n      <td>0</td>\n      <td>2</td>\n      <td>...</td>\n      <td>0</td>\n      <td>0</td>\n      <td>1</td>\n      <td>0</td>\n      <td>0</td>\n      <td>0</td>\n      <td>0</td>\n      <td>0</td>\n      <td>0</td>\n      <td>0.200</td>\n    </tr>\n    <tr>\n      <th>1</th>\n      <td>1340710</td>\n      <td>Oc1cc(-c2nc3OC[C@@H]4[C@@H]5CC[C@H](CN4c4nc(OC...</td>\n      <td>0</td>\n      <td>362</td>\n      <td>35</td>\n      <td>0</td>\n      <td>0</td>\n      <td>0</td>\n      <td>0</td>\n      <td>2</td>\n      <td>...</td>\n      <td>0</td>\n      <td>0</td>\n      <td>1</td>\n      <td>0</td>\n      <td>0</td>\n      <td>0</td>\n      <td>0</td>\n      <td>0</td>\n      <td>0</td>\n      <td>0.200</td>\n    </tr>\n    <tr>\n      <th>2</th>\n      <td>1340721</td>\n      <td>Oc1cc(-c2nc3CC[C@@H]4[C@@H]5CC[C@H](CN4c4nc(OC...</td>\n      <td>0</td>\n      <td>440</td>\n      <td>35</td>\n      <td>0</td>\n      <td>0</td>\n      <td>0</td>\n      <td>0</td>\n      <td>11</td>\n      <td>...</td>\n      <td>0</td>\n      <td>0</td>\n      <td>1</td>\n      <td>0</td>\n      <td>0</td>\n      <td>0</td>\n      <td>0</td>\n      <td>0</td>\n      <td>0</td>\n      <td>0.200</td>\n    </tr>\n    <tr>\n      <th>3</th>\n      <td>1340735</td>\n      <td>C[Si]1(C)CCCN(CC2(COc3nc4N5C[C@H]6CC[C@H](N6)[...</td>\n      <td>0</td>\n      <td>368</td>\n      <td>44</td>\n      <td>0</td>\n      <td>0</td>\n      <td>0</td>\n      <td>0</td>\n      <td>2</td>\n      <td>...</td>\n      <td>0</td>\n      <td>0</td>\n      <td>1</td>\n      <td>0</td>\n      <td>0</td>\n      <td>0</td>\n      <td>0</td>\n      <td>0</td>\n      <td>0</td>\n      <td>0.200</td>\n    </tr>\n    <tr>\n      <th>4</th>\n      <td>1340738</td>\n      <td>C[C@H]1C[C@@H]2[C@@H]3CC[C@H](CN2c2nc(OC[C@@]4...</td>\n      <td>0</td>\n      <td>332</td>\n      <td>34</td>\n      <td>0</td>\n      <td>0</td>\n      <td>0</td>\n      <td>0</td>\n      <td>4</td>\n      <td>...</td>\n      <td>0</td>\n      <td>0</td>\n      <td>0</td>\n      <td>0</td>\n      <td>0</td>\n      <td>0</td>\n      <td>0</td>\n      <td>0</td>\n      <td>0</td>\n      <td>0.200</td>\n    </tr>\n    <tr>\n      <th>...</th>\n      <td>...</td>\n      <td>...</td>\n      <td>...</td>\n      <td>...</td>\n      <td>...</td>\n      <td>...</td>\n      <td>...</td>\n      <td>...</td>\n      <td>...</td>\n      <td>...</td>\n      <td>...</td>\n      <td>...</td>\n      <td>...</td>\n      <td>...</td>\n      <td>...</td>\n      <td>...</td>\n      <td>...</td>\n      <td>...</td>\n      <td>...</td>\n      <td>...</td>\n      <td>...</td>\n    </tr>\n    <tr>\n      <th>3519</th>\n      <td>1209825</td>\n      <td>Oc1cc(-c2ncc3c(nc(OC[C@@]45CCCN4C[C@H](F)C5)nc...</td>\n      <td>0</td>\n      <td>310</td>\n      <td>31</td>\n      <td>1</td>\n      <td>0</td>\n      <td>0</td>\n      <td>0</td>\n      <td>2</td>\n      <td>...</td>\n      <td>0</td>\n      <td>0</td>\n      <td>0</td>\n      <td>0</td>\n      <td>0</td>\n      <td>0</td>\n      <td>0</td>\n      <td>0</td>\n      <td>0</td>\n      <td>0.200</td>\n    </tr>\n    <tr>\n      <th>3520</th>\n      <td>1340667</td>\n      <td>Oc1cc(-c2nc3OC[C@@H]4[C@@H]5CC[C@H](CN4c4nc(OC...</td>\n      <td>0</td>\n      <td>328</td>\n      <td>31</td>\n      <td>0</td>\n      <td>0</td>\n      <td>0</td>\n      <td>0</td>\n      <td>3</td>\n      <td>...</td>\n      <td>0</td>\n      <td>0</td>\n      <td>1</td>\n      <td>0</td>\n      <td>0</td>\n      <td>0</td>\n      <td>0</td>\n      <td>0</td>\n      <td>0</td>\n      <td>0.200</td>\n    </tr>\n    <tr>\n      <th>3521</th>\n      <td>1340691</td>\n      <td>Oc1cc(-c2nc3OC[C@@H]4[C@@H]5CC[C@H](CN4c4nc(OC...</td>\n      <td>0</td>\n      <td>336</td>\n      <td>30</td>\n      <td>0</td>\n      <td>0</td>\n      <td>0</td>\n      <td>0</td>\n      <td>4</td>\n      <td>...</td>\n      <td>0</td>\n      <td>0</td>\n      <td>1</td>\n      <td>0</td>\n      <td>0</td>\n      <td>0</td>\n      <td>0</td>\n      <td>0</td>\n      <td>0</td>\n      <td>0.200</td>\n    </tr>\n    <tr>\n      <th>3522</th>\n      <td>1340693</td>\n      <td>Oc1cc(-c2nc3OC[C@@H]4[C@@H]5CC[C@H](CN4c4nc(OC...</td>\n      <td>0</td>\n      <td>344</td>\n      <td>35</td>\n      <td>0</td>\n      <td>0</td>\n      <td>0</td>\n      <td>0</td>\n      <td>3</td>\n      <td>...</td>\n      <td>0</td>\n      <td>0</td>\n      <td>1</td>\n      <td>0</td>\n      <td>0</td>\n      <td>0</td>\n      <td>0</td>\n      <td>0</td>\n      <td>0</td>\n      <td>0.200</td>\n    </tr>\n    <tr>\n      <th>3523</th>\n      <td>1340695</td>\n      <td>Oc1cc(-c2nc3OC[C@@H]4[C@@H]5CC[C@H](CN4c4nc(OC...</td>\n      <td>0</td>\n      <td>344</td>\n      <td>35</td>\n      <td>0</td>\n      <td>0</td>\n      <td>0</td>\n      <td>0</td>\n      <td>3</td>\n      <td>...</td>\n      <td>0</td>\n      <td>0</td>\n      <td>1</td>\n      <td>0</td>\n      <td>0</td>\n      <td>0</td>\n      <td>0</td>\n      <td>0</td>\n      <td>0</td>\n      <td>0.200</td>\n    </tr>\n  </tbody>\n</table>\n<p>3524 rows × 254 columns</p>\n</div>"
     },
     "execution_count": 3,
     "metadata": {},
     "output_type": "execute_result"
    }
   ],
   "execution_count": 3
  },
  {
   "metadata": {
    "ExecuteTime": {
     "end_time": "2025-05-09T12:30:10.314241Z",
     "start_time": "2025-05-09T12:30:10.300276Z"
    }
   },
   "cell_type": "code",
   "source": [
    "import numpy as np\n",
    "import pandas as pd\n",
    "def pIC50(input):\n",
    "    pIC50 = []\n",
    "\n",
    "    input[\"IC50 (nM)\"] = pd.to_numeric(input[\"IC50 (nM)\"],errors='coerce')\n",
    "\n",
    "    for i in input[\"IC50 (nM)\"]:\n",
    "        molar = i*(10**-9) # Converts nM to M\n",
    "        pIC50.append(-np.log10(molar))\n",
    "\n",
    "    input['pIC50'] = pIC50\n",
    "    x = input[\"pIC50\"]\n",
    "\n",
    "    return x"
   ],
   "id": "c21ffb27073bb1db",
   "outputs": [],
   "execution_count": 4
  },
  {
   "metadata": {
    "ExecuteTime": {
     "end_time": "2025-05-09T12:30:35.698612Z",
     "start_time": "2025-05-09T12:30:34.316748Z"
    }
   },
   "cell_type": "code",
   "source": [
    "filename = (\"C:/Users/Gianluca/OneDrive/Documenti/University/3 \"\n",
    "                  \"II/Project_Y3/Raw Files/merged_features_IC50_g12d\"\n",
    "                  \".csv\")\n",
    "#df = pd.read_csv(\"fda_original.csv\",sep=\";\")\n",
    "df2 = pd.read_csv(filename)\n",
    "df2.dropna(subset=['IC50 (nM)'], inplace=True)\n",
    "df2['IC50 (nM)'] = pIC50(df2)\n",
    "df2['IC50 (nM)'] = df2['pIC50']  # Replace 'SV' column with pIC50 values\n",
    "\n",
    "# Drop 'pIC50' column (optional) as it's now redundant\n",
    "df2.drop(columns=['pIC50'], inplace=True)\n",
    "\n",
    "df2"
   ],
   "id": "506abe31172a9b28",
   "outputs": [
    {
     "data": {
      "text/plain": "      ChEMBL ID                                             Smiles  FC    N  \\\n0       1340697  Oc1cc(-c2nc3OC[C@@H]4[C@@H]5CC[C@H](CN4c4nc(OC...   0  348   \n1       1340710  Oc1cc(-c2nc3OC[C@@H]4[C@@H]5CC[C@H](CN4c4nc(OC...   0  362   \n2       1340721  Oc1cc(-c2nc3CC[C@@H]4[C@@H]5CC[C@H](CN4c4nc(OC...   0  440   \n3       1340735  C[Si]1(C)CCCN(CC2(COc3nc4N5C[C@H]6CC[C@H](N6)[...   0  368   \n4       1340738  C[C@H]1C[C@@H]2[C@@H]3CC[C@H](CN2c2nc(OC[C@@]4...   0  332   \n...         ...                                                ...  ..  ...   \n3519    1209825  Oc1cc(-c2ncc3c(nc(OC[C@@]45CCCN4C[C@H](F)C5)nc...   0  310   \n3520    1340667  Oc1cc(-c2nc3OC[C@@H]4[C@@H]5CC[C@H](CN4c4nc(OC...   0  328   \n3521    1340691  Oc1cc(-c2nc3OC[C@@H]4[C@@H]5CC[C@H](CN4c4nc(OC...   0  336   \n3522    1340693  Oc1cc(-c2nc3OC[C@@H]4[C@@H]5CC[C@H](CN4c4nc(OC...   0  344   \n3523    1340695  Oc1cc(-c2nc3OC[C@@H]4[C@@H]5CC[C@H](CN4c4nc(OC...   0  344   \n\n       H  Cl  Br  I  P   F  ...  fr_sulfonamd  fr_sulfone  fr_term_acetylene  \\\n0     33   0   0  0  0   2  ...             0           0                  1   \n1     35   0   0  0  0   2  ...             0           0                  1   \n2     35   0   0  0  0  11  ...             0           0                  1   \n3     44   0   0  0  0   2  ...             0           0                  1   \n4     34   0   0  0  0   4  ...             0           0                  0   \n...   ..  ..  .. .. ..  ..  ...           ...         ...                ...   \n3519  31   1   0  0  0   2  ...             0           0                  0   \n3520  31   0   0  0  0   3  ...             0           0                  1   \n3521  30   0   0  0  0   4  ...             0           0                  1   \n3522  35   0   0  0  0   3  ...             0           0                  1   \n3523  35   0   0  0  0   3  ...             0           0                  1   \n\n      fr_tetrazole  fr_thiazole  fr_thiocyan  fr_thiophene  fr_unbrch_alkane  \\\n0                0            0            0             0                 0   \n1                0            0            0             0                 0   \n2                0            0            0             0                 0   \n3                0            0            0             0                 0   \n4                0            0            0             0                 0   \n...            ...          ...          ...           ...               ...   \n3519             0            0            0             0                 0   \n3520             0            0            0             0                 0   \n3521             0            0            0             0                 0   \n3522             0            0            0             0                 0   \n3523             0            0            0             0                 0   \n\n      fr_urea  IC50 (nM)  \n0           0    9.69897  \n1           0    9.69897  \n2           0    9.69897  \n3           0    9.69897  \n4           0    9.69897  \n...       ...        ...  \n3519        0    9.69897  \n3520        0    9.69897  \n3521        0    9.69897  \n3522        0    9.69897  \n3523        0    9.69897  \n\n[3524 rows x 254 columns]",
      "text/html": "<div>\n<style scoped>\n    .dataframe tbody tr th:only-of-type {\n        vertical-align: middle;\n    }\n\n    .dataframe tbody tr th {\n        vertical-align: top;\n    }\n\n    .dataframe thead th {\n        text-align: right;\n    }\n</style>\n<table border=\"1\" class=\"dataframe\">\n  <thead>\n    <tr style=\"text-align: right;\">\n      <th></th>\n      <th>ChEMBL ID</th>\n      <th>Smiles</th>\n      <th>FC</th>\n      <th>N</th>\n      <th>H</th>\n      <th>Cl</th>\n      <th>Br</th>\n      <th>I</th>\n      <th>P</th>\n      <th>F</th>\n      <th>...</th>\n      <th>fr_sulfonamd</th>\n      <th>fr_sulfone</th>\n      <th>fr_term_acetylene</th>\n      <th>fr_tetrazole</th>\n      <th>fr_thiazole</th>\n      <th>fr_thiocyan</th>\n      <th>fr_thiophene</th>\n      <th>fr_unbrch_alkane</th>\n      <th>fr_urea</th>\n      <th>IC50 (nM)</th>\n    </tr>\n  </thead>\n  <tbody>\n    <tr>\n      <th>0</th>\n      <td>1340697</td>\n      <td>Oc1cc(-c2nc3OC[C@@H]4[C@@H]5CC[C@H](CN4c4nc(OC...</td>\n      <td>0</td>\n      <td>348</td>\n      <td>33</td>\n      <td>0</td>\n      <td>0</td>\n      <td>0</td>\n      <td>0</td>\n      <td>2</td>\n      <td>...</td>\n      <td>0</td>\n      <td>0</td>\n      <td>1</td>\n      <td>0</td>\n      <td>0</td>\n      <td>0</td>\n      <td>0</td>\n      <td>0</td>\n      <td>0</td>\n      <td>9.69897</td>\n    </tr>\n    <tr>\n      <th>1</th>\n      <td>1340710</td>\n      <td>Oc1cc(-c2nc3OC[C@@H]4[C@@H]5CC[C@H](CN4c4nc(OC...</td>\n      <td>0</td>\n      <td>362</td>\n      <td>35</td>\n      <td>0</td>\n      <td>0</td>\n      <td>0</td>\n      <td>0</td>\n      <td>2</td>\n      <td>...</td>\n      <td>0</td>\n      <td>0</td>\n      <td>1</td>\n      <td>0</td>\n      <td>0</td>\n      <td>0</td>\n      <td>0</td>\n      <td>0</td>\n      <td>0</td>\n      <td>9.69897</td>\n    </tr>\n    <tr>\n      <th>2</th>\n      <td>1340721</td>\n      <td>Oc1cc(-c2nc3CC[C@@H]4[C@@H]5CC[C@H](CN4c4nc(OC...</td>\n      <td>0</td>\n      <td>440</td>\n      <td>35</td>\n      <td>0</td>\n      <td>0</td>\n      <td>0</td>\n      <td>0</td>\n      <td>11</td>\n      <td>...</td>\n      <td>0</td>\n      <td>0</td>\n      <td>1</td>\n      <td>0</td>\n      <td>0</td>\n      <td>0</td>\n      <td>0</td>\n      <td>0</td>\n      <td>0</td>\n      <td>9.69897</td>\n    </tr>\n    <tr>\n      <th>3</th>\n      <td>1340735</td>\n      <td>C[Si]1(C)CCCN(CC2(COc3nc4N5C[C@H]6CC[C@H](N6)[...</td>\n      <td>0</td>\n      <td>368</td>\n      <td>44</td>\n      <td>0</td>\n      <td>0</td>\n      <td>0</td>\n      <td>0</td>\n      <td>2</td>\n      <td>...</td>\n      <td>0</td>\n      <td>0</td>\n      <td>1</td>\n      <td>0</td>\n      <td>0</td>\n      <td>0</td>\n      <td>0</td>\n      <td>0</td>\n      <td>0</td>\n      <td>9.69897</td>\n    </tr>\n    <tr>\n      <th>4</th>\n      <td>1340738</td>\n      <td>C[C@H]1C[C@@H]2[C@@H]3CC[C@H](CN2c2nc(OC[C@@]4...</td>\n      <td>0</td>\n      <td>332</td>\n      <td>34</td>\n      <td>0</td>\n      <td>0</td>\n      <td>0</td>\n      <td>0</td>\n      <td>4</td>\n      <td>...</td>\n      <td>0</td>\n      <td>0</td>\n      <td>0</td>\n      <td>0</td>\n      <td>0</td>\n      <td>0</td>\n      <td>0</td>\n      <td>0</td>\n      <td>0</td>\n      <td>9.69897</td>\n    </tr>\n    <tr>\n      <th>...</th>\n      <td>...</td>\n      <td>...</td>\n      <td>...</td>\n      <td>...</td>\n      <td>...</td>\n      <td>...</td>\n      <td>...</td>\n      <td>...</td>\n      <td>...</td>\n      <td>...</td>\n      <td>...</td>\n      <td>...</td>\n      <td>...</td>\n      <td>...</td>\n      <td>...</td>\n      <td>...</td>\n      <td>...</td>\n      <td>...</td>\n      <td>...</td>\n      <td>...</td>\n      <td>...</td>\n    </tr>\n    <tr>\n      <th>3519</th>\n      <td>1209825</td>\n      <td>Oc1cc(-c2ncc3c(nc(OC[C@@]45CCCN4C[C@H](F)C5)nc...</td>\n      <td>0</td>\n      <td>310</td>\n      <td>31</td>\n      <td>1</td>\n      <td>0</td>\n      <td>0</td>\n      <td>0</td>\n      <td>2</td>\n      <td>...</td>\n      <td>0</td>\n      <td>0</td>\n      <td>0</td>\n      <td>0</td>\n      <td>0</td>\n      <td>0</td>\n      <td>0</td>\n      <td>0</td>\n      <td>0</td>\n      <td>9.69897</td>\n    </tr>\n    <tr>\n      <th>3520</th>\n      <td>1340667</td>\n      <td>Oc1cc(-c2nc3OC[C@@H]4[C@@H]5CC[C@H](CN4c4nc(OC...</td>\n      <td>0</td>\n      <td>328</td>\n      <td>31</td>\n      <td>0</td>\n      <td>0</td>\n      <td>0</td>\n      <td>0</td>\n      <td>3</td>\n      <td>...</td>\n      <td>0</td>\n      <td>0</td>\n      <td>1</td>\n      <td>0</td>\n      <td>0</td>\n      <td>0</td>\n      <td>0</td>\n      <td>0</td>\n      <td>0</td>\n      <td>9.69897</td>\n    </tr>\n    <tr>\n      <th>3521</th>\n      <td>1340691</td>\n      <td>Oc1cc(-c2nc3OC[C@@H]4[C@@H]5CC[C@H](CN4c4nc(OC...</td>\n      <td>0</td>\n      <td>336</td>\n      <td>30</td>\n      <td>0</td>\n      <td>0</td>\n      <td>0</td>\n      <td>0</td>\n      <td>4</td>\n      <td>...</td>\n      <td>0</td>\n      <td>0</td>\n      <td>1</td>\n      <td>0</td>\n      <td>0</td>\n      <td>0</td>\n      <td>0</td>\n      <td>0</td>\n      <td>0</td>\n      <td>9.69897</td>\n    </tr>\n    <tr>\n      <th>3522</th>\n      <td>1340693</td>\n      <td>Oc1cc(-c2nc3OC[C@@H]4[C@@H]5CC[C@H](CN4c4nc(OC...</td>\n      <td>0</td>\n      <td>344</td>\n      <td>35</td>\n      <td>0</td>\n      <td>0</td>\n      <td>0</td>\n      <td>0</td>\n      <td>3</td>\n      <td>...</td>\n      <td>0</td>\n      <td>0</td>\n      <td>1</td>\n      <td>0</td>\n      <td>0</td>\n      <td>0</td>\n      <td>0</td>\n      <td>0</td>\n      <td>0</td>\n      <td>9.69897</td>\n    </tr>\n    <tr>\n      <th>3523</th>\n      <td>1340695</td>\n      <td>Oc1cc(-c2nc3OC[C@@H]4[C@@H]5CC[C@H](CN4c4nc(OC...</td>\n      <td>0</td>\n      <td>344</td>\n      <td>35</td>\n      <td>0</td>\n      <td>0</td>\n      <td>0</td>\n      <td>0</td>\n      <td>3</td>\n      <td>...</td>\n      <td>0</td>\n      <td>0</td>\n      <td>1</td>\n      <td>0</td>\n      <td>0</td>\n      <td>0</td>\n      <td>0</td>\n      <td>0</td>\n      <td>0</td>\n      <td>9.69897</td>\n    </tr>\n  </tbody>\n</table>\n<p>3524 rows × 254 columns</p>\n</div>"
     },
     "execution_count": 5,
     "metadata": {},
     "output_type": "execute_result"
    }
   ],
   "execution_count": 5
  },
  {
   "metadata": {
    "ExecuteTime": {
     "end_time": "2025-04-03T13:50:24.511229Z",
     "start_time": "2025-04-03T13:45:00.697425Z"
    }
   },
   "cell_type": "code",
   "source": [
    "import numpy as np\n",
    "import matplotlib.pyplot as plt\n",
    "import pandas as pd\n",
    "import warnings\n",
    "from sklearn.ensemble import RandomForestRegressor\n",
    "from sklearn.pipeline import Pipeline\n",
    "from sklearn.preprocessing import StandardScaler\n",
    "\n",
    "# Load training descriptors data\n",
    "#df1 = df1.loc[:, ~df1.columns.str.contains('Unnamed')]\n",
    "df2.dropna(subset=['IC50 (nM)'], inplace=True)\n",
    "X = df2.drop(columns=['IC50 (nM)','Smiles', 'ChEMBL ID'])\n",
    "y = df2['IC50 (nM)']\n",
    "\n",
    "# Initialize model and pipeline\n",
    "model = RandomForestRegressor(max_depth=20, min_samples_leaf=10)\n",
    "pipe = Pipeline([('scaler', StandardScaler()), ('model', model)])\n",
    "\n",
    "# Load new descriptors data\n",
    "new_descriptors = (pd.read_csv\n",
    "                   ('C:/Users/Gianluca/OneDrive/Documenti/University'\n",
    "                    '/3 II/Project_Y3/Raw Files/FDA_Hyb_Features.csv'))\n",
    "new_descriptors.dropna(inplace=True)\n",
    "\n",
    "# Extract ChEMBL IDs and SMILES\n",
    "chembl_id_column = new_descriptors['ChEMBL ID']\n",
    "smiles_column = new_descriptors['Smiles']\n",
    "new_descriptors.drop(columns=['ChEMBL ID', 'Smiles'], inplace=True)\n",
    "\n",
    "# Ensure new_descriptors has the same columns as X\n",
    "missing_cols = set(X.columns) - set(new_descriptors.columns)  # Columns missing in new data\n",
    "extra_cols = set(new_descriptors.columns) - set(X.columns)  # Extra columns in new data\n",
    "\n",
    "# Add missing columns with zero values\n",
    "for col in missing_cols:\n",
    "    new_descriptors[col] = 0\n",
    "\n",
    "# Drop extra columns\n",
    "new_descriptors = new_descriptors[X.columns]  # Reorder and drop extras\n",
    "\n",
    "# Now X and new_descriptors have identical columns\n",
    "\n",
    "# Initialize a DataFrame to store results\n",
    "loop_results_df = pd.DataFrame(columns=['ChEMBL ID', 'Smiles', 'Predicted Value'])\n",
    "\n",
    "# Number of iterations\n",
    "loop_n = 50\n",
    "\n",
    "# Dictionary to store predicted values for each ChEMBL ID\n",
    "predicted_values = {chembl_id: [] for chembl_id in chembl_id_column.unique()}\n",
    "\n",
    "# Run the loop to fit the model and predict the values\n",
    "for i in range(loop_n):\n",
    "    pipe.fit(X, y)\n",
    "\n",
    "    loop_predicted_values = pipe.predict(new_descriptors)\n",
    "\n",
    "    loop_df = pd.DataFrame({\n",
    "        'ChEMBL ID': chembl_id_column,\n",
    "        'Smiles': smiles_column,\n",
    "        'Predicted Value': loop_predicted_values\n",
    "    })\n",
    "    loop_df.sort_values(by='Predicted Value', ascending=False, inplace=True)\n",
    "\n",
    "    with warnings.catch_warnings():\n",
    "        warnings.filterwarnings(\"ignore\", category=FutureWarning)\n",
    "        loop_results_df = pd.concat([loop_results_df, loop_df.head(10)])\n",
    "\n",
    "    # Store the predicted values for each ChEMBL ID\n",
    "    for chembl_id, predicted_value in zip(chembl_id_column, loop_predicted_values):\n",
    "        if chembl_id in predicted_values:\n",
    "            predicted_values[chembl_id].append(predicted_value)\n",
    "\n",
    "# Calculate frequency of each ChEMBL ID in the top 10\n",
    "value_counts = loop_results_df['ChEMBL ID'].value_counts(normalize=True) * 10\n",
    "#print(value_counts)\n",
    "\n",
    "# Get the top 13 ChEMBL IDs\n",
    "top_10_chembl_ids = value_counts.head(10).index"
   ],
   "id": "42ff6c7ea80b12db",
   "outputs": [
    {
     "name": "stderr",
     "output_type": "stream",
     "text": [
      "<>:20: SyntaxWarning: invalid escape sequence '\\G'\n",
      "<>:20: SyntaxWarning: invalid escape sequence '\\G'\n",
      "C:\\Users\\Gebruiker\\AppData\\Local\\Temp\\ipykernel_28520\\3534410684.py:20: SyntaxWarning: invalid escape sequence '\\G'\n",
      "  new_descriptors = pd.read_csv('C:\\\\Users\\Gebruiker\\Desktop\\pycharm\\FDA_Hyb_Features.csv')\n"
     ]
    }
   ],
   "execution_count": 13
  },
  {
   "metadata": {
    "ExecuteTime": {
     "end_time": "2025-04-03T13:50:24.629617Z",
     "start_time": "2025-04-03T13:50:24.619611Z"
    }
   },
   "cell_type": "code",
   "source": [
    "mean_values = {chembl_id: np.mean(predicted_values[chembl_id]) for chembl_id in top_10_chembl_ids}\n",
    "std_dev_values = {chembl_id: np.std(predicted_values[chembl_id]) for chembl_id in top_10_chembl_ids}\n",
    "\n",
    "summary_df = pd.DataFrame({\n",
    "    'ChEMBL ID': top_10_chembl_ids,\n",
    "    'Frequency': [value_counts[chembl_id] for chembl_id in top_10_chembl_ids],\n",
    "    'Avg Predicted Value': [mean_values[chembl_id] for chembl_id in top_10_chembl_ids]\n",
    "})\n",
    "\n",
    "summary_df.head(10)\n",
    "summary_df.to_csv(\"RF_molecules_Newfeatures_G12D.csv\", index=False)"
   ],
   "id": "ac1e38977bfd68a7",
   "outputs": [],
   "execution_count": 14
  },
  {
   "metadata": {},
   "cell_type": "code",
   "outputs": [],
   "execution_count": null,
   "source": [],
   "id": "6260d18ccfe8c04f"
  }
 ],
 "metadata": {
  "kernelspec": {
   "display_name": "Python 3",
   "language": "python",
   "name": "python3"
  },
  "language_info": {
   "codemirror_mode": {
    "name": "ipython",
    "version": 2
   },
   "file_extension": ".py",
   "mimetype": "text/x-python",
   "name": "python",
   "nbconvert_exporter": "python",
   "pygments_lexer": "ipython2",
   "version": "2.7.6"
  }
 },
 "nbformat": 4,
 "nbformat_minor": 5
}
