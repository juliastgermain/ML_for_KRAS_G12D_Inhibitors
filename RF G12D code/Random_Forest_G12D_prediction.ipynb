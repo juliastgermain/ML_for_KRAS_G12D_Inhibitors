{
 "cells": [
  {
   "metadata": {
    "ExecuteTime": {
     "end_time": "2025-02-19T14:30:21.535372Z",
     "start_time": "2025-02-19T14:30:05.865406Z"
    }
   },
   "cell_type": "code",
   "source": "import pandas as pd",
   "id": "8c9e6579ac5507f3",
   "execution_count": 1,
   "outputs": []
  },
  {
   "metadata": {
    "ExecuteTime": {
     "end_time": "2025-02-19T14:30:32.250676Z",
     "start_time": "2025-02-19T14:30:31.977719Z"
    }
   },
   "cell_type": "code",
   "source": [
    "df2 = pd.read_csv(\"merged_features_IC50_g12d.csv\")\n",
    "df2"
   ],
   "id": "b1339ac220c3f947",
   "execution_count": 2,
   "outputs": []
  },
  {
   "metadata": {
    "ExecuteTime": {
     "end_time": "2025-02-19T14:30:36.680114Z",
     "start_time": "2025-02-19T14:30:36.672278Z"
    }
   },
   "cell_type": "code",
   "source": [
    "import numpy as np\n",
    "import pandas as pd\n",
    "def pIC50(input):\n",
    "    pIC50 = []\n",
    "\n",
    "    input[\"IC50 (nM)\"] = pd.to_numeric(input[\"IC50 (nM)\"],errors='coerce')\n",
    "\n",
    "    for i in input[\"IC50 (nM)\"]:\n",
    "        molar = i*(10**-9) # Converts nM to M\n",
    "        pIC50.append(-np.log10(molar))\n",
    "\n",
    "    input['pIC50'] = pIC50\n",
    "    x = input[\"pIC50\"]\n",
    "\n",
    "    return x"
   ],
   "id": "c21ffb27073bb1db",
   "execution_count": 3,
   "outputs": []
  },
  {
   "metadata": {
    "ExecuteTime": {
     "end_time": "2025-02-19T14:30:41.702363Z",
     "start_time": "2025-02-19T14:30:41.468853Z"
    }
   },
   "cell_type": "code",
   "source": [
    "filename = \"merged_features_IC50_g12d.csv\"\n",
    "#df = pd.read_csv(\"fda_original.csv\",sep=\";\")\n",
    "df2 = pd.read_csv(filename)\n",
    "df2.dropna(subset=['IC50 (nM)'], inplace=True)\n",
    "df2['IC50 (nM)'] = pIC50(df2)\n",
    "df2['IC50 (nM)'] = df2['pIC50']  # Replace 'SV' column with pIC50 values\n",
    "\n",
    "# Drop 'pIC50' column (optional) as it's now redundant\n",
    "df2.drop(columns=['pIC50'], inplace=True)\n",
    "\n",
    "df2"
   ],
   "id": "506abe31172a9b28",
   "execution_count": 4,
   "outputs": []
  },
  {
   "metadata": {
    "ExecuteTime": {
     "end_time": "2025-02-19T14:47:28.991963Z",
     "start_time": "2025-02-19T14:30:44.198769Z"
    }
   },
   "cell_type": "code",
   "source": [
    "import numpy as np\n",
    "import matplotlib.pyplot as plt\n",
    "import pandas as pd\n",
    "import warnings\n",
    "from sklearn.ensemble import RandomForestRegressor\n",
    "from sklearn.pipeline import Pipeline\n",
    "from sklearn.preprocessing import StandardScaler\n",
    "\n",
    "# Load training descriptors data\n",
    "#df1 = df1.loc[:, ~df1.columns.str.contains('Unnamed')]\n",
    "df2.dropna(subset=['IC50 (nM)'], inplace=True)\n",
    "X = df2.drop(columns=['IC50 (nM)','Smiles', 'ChEMBL ID'])\n",
    "y = df2['IC50 (nM)']\n",
    "\n",
    "# Initialize model and pipeline\n",
    "model = RandomForestRegressor(max_depth=20, min_samples_leaf=10)\n",
    "pipe = Pipeline([('scaler', StandardScaler()), ('model', model)])\n",
    "\n",
    "# Load new descriptors data\n",
    "new_descriptors = pd.read_csv('FDA_Hyb_Features.csv')\n",
    "new_descriptors.dropna(inplace=True)\n",
    "\n",
    "# Extract ChEMBL IDs and SMILES\n",
    "chembl_id_column = new_descriptors['ChEMBL ID']\n",
    "smiles_column = new_descriptors['Smiles']\n",
    "new_descriptors.drop(columns=['ChEMBL ID', 'Smiles'], inplace=True)\n",
    "\n",
    "# Ensure new_descriptors has the same columns as X\n",
    "missing_cols = set(X.columns) - set(new_descriptors.columns)  # Columns missing in new data\n",
    "extra_cols = set(new_descriptors.columns) - set(X.columns)  # Extra columns in new data\n",
    "\n",
    "# Add missing columns with zero values\n",
    "for col in missing_cols:\n",
    "    new_descriptors[col] = 0\n",
    "\n",
    "# Drop extra columns\n",
    "new_descriptors = new_descriptors[X.columns]  # Reorder and drop extras\n",
    "\n",
    "# Now X and new_descriptors have identical columns\n",
    "\n",
    "# Initialize a DataFrame to store results\n",
    "loop_results_df = pd.DataFrame(columns=['ChEMBL ID', 'Smiles', 'Predicted Value'])\n",
    "\n",
    "# Number of iterations\n",
    "loop_n = 50\n",
    "\n",
    "# Dictionary to store predicted values for each ChEMBL ID\n",
    "predicted_values = {chembl_id: [] for chembl_id in chembl_id_column.unique()}\n",
    "\n",
    "# Run the loop to fit the model and predict the values\n",
    "for i in range(loop_n):\n",
    "    pipe.fit(X, y)\n",
    "\n",
    "    loop_predicted_values = pipe.predict(new_descriptors)\n",
    "\n",
    "    loop_df = pd.DataFrame({\n",
    "        'ChEMBL ID': chembl_id_column,\n",
    "        'Smiles': smiles_column,\n",
    "        'Predicted Value': loop_predicted_values\n",
    "    })\n",
    "    loop_df.sort_values(by='Predicted Value', ascending=False, inplace=True)\n",
    "\n",
    "    with warnings.catch_warnings():\n",
    "        warnings.filterwarnings(\"ignore\", category=FutureWarning)\n",
    "        loop_results_df = pd.concat([loop_results_df, loop_df.head(10)])\n",
    "\n",
    "    # Store the predicted values for each ChEMBL ID\n",
    "    for chembl_id, predicted_value in zip(chembl_id_column, loop_predicted_values):\n",
    "        if chembl_id in predicted_values:\n",
    "            predicted_values[chembl_id].append(predicted_value)\n",
    "\n",
    "# Calculate frequency of each ChEMBL ID in the top 10\n",
    "value_counts = loop_results_df['ChEMBL ID'].value_counts(normalize=True) * 10\n",
    "#print(value_counts)\n",
    "\n",
    "# Get the top 13 ChEMBL IDs\n",
    "top_10_chembl_ids = value_counts.head(10).index"
   ],
   "id": "42ff6c7ea80b12db",
   "execution_count": 5,
   "outputs": []
  },
  {
   "metadata": {
    "ExecuteTime": {
     "end_time": "2025-02-19T14:47:29.134256Z",
     "start_time": "2025-02-19T14:47:29.091629Z"
    }
   },
   "cell_type": "code",
   "source": [
    "mean_values = {chembl_id: np.mean(predicted_values[chembl_id]) for chembl_id in top_10_chembl_ids}\n",
    "std_dev_values = {chembl_id: np.std(predicted_values[chembl_id]) for chembl_id in top_10_chembl_ids}\n",
    "\n",
    "summary_df = pd.DataFrame({\n",
    "    'ChEMBL ID': top_10_chembl_ids,\n",
    "    'Frequency': [value_counts[chembl_id] for chembl_id in top_10_chembl_ids],\n",
    "    'Avg Predicted Value': [mean_values[chembl_id] for chembl_id in top_10_chembl_ids]\n",
    "})\n",
    "\n",
    "summary_df.head(10)"
   ],
   "id": "ac1e38977bfd68a7",
   "execution_count": 6,
   "outputs": []
  },
  {
   "metadata": {},
   "cell_type": "code",
   "execution_count": null,
   "source": "",
   "id": "6260d18ccfe8c04f",
   "outputs": []
  }
 ],
 "metadata": {
  "kernelspec": {
   "display_name": "Python 3",
   "language": "python",
   "name": "python3"
  },
  "language_info": {
   "codemirror_mode": {
    "name": "ipython",
    "version": 2
   },
   "file_extension": ".py",
   "mimetype": "text/x-python",
   "name": "python",
   "nbconvert_exporter": "python",
   "pygments_lexer": "ipython2",
   "version": "2.7.6"
  }
 },
 "nbformat": 4,
 "nbformat_minor": 5
}
