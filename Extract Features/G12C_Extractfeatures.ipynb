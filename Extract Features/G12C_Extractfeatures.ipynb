{
 "cells": [
  {
   "cell_type": "code",
   "id": "initial_id",
   "metadata": {
    "collapsed": true,
    "ExecuteTime": {
     "end_time": "2025-04-03T14:05:43.225141Z",
     "start_time": "2025-04-03T14:05:41.212226Z"
    }
   },
   "source": [
    "from rdkit import Chem\n",
    "from rdkit.Chem import AllChem\n",
    "from rdkit.Chem import Descriptors3D\n",
    "import pandas as pd\n",
    "from Hyprid import polFeature\n",
    "from rdkit.Chem import Descriptors"
   ],
   "outputs": [],
   "execution_count": 1
  },
  {
   "metadata": {
    "ExecuteTime": {
     "end_time": "2025-04-03T14:05:43.238717Z",
     "start_time": "2025-04-03T14:05:43.230321Z"
    }
   },
   "cell_type": "code",
   "source": [
    "def hybConn(mol):\n",
    "    sp3sp3 = 0\n",
    "    sp3sp2 = 0\n",
    "    sp3sp = 0\n",
    "    sp2sp = 0\n",
    "    sp2sp2 = 0\n",
    "    spsp = 0\n",
    "    sp3s = 0\n",
    "    sp2s = 0\n",
    "    sps = 0\n",
    "    other = 0\n",
    "    for bond in mol.GetBonds():\n",
    "        atom1 = bond.GetBeginAtom()\n",
    "        atom2 = bond.GetEndAtom()\n",
    "        hyb1 = str(atom1.GetHybridization())\n",
    "        hyb2 = str(atom2.GetHybridization())\n",
    "        if   hyb1==\"SP3\" and hyb2==\"SP3\":sp3sp3+=1\n",
    "        elif hyb1==\"SP3\" and hyb2==\"SP2\":sp3sp2+=1\n",
    "        elif hyb1==\"SP3\" and hyb2==\"SP\" :sp3sp+=1\n",
    "        elif hyb1==\"SP3\" and hyb2==\"S\"  :sp3s+=1\n",
    "        elif hyb1==\"S\"   and hyb2==\"SP3\":sp3s+=1\n",
    "        elif hyb1==\"SP2\" and hyb2==\"SP3\":sp3sp2+=1\n",
    "        elif hyb1==\"SP2\" and hyb2==\"SP2\":sp2sp2+=1\n",
    "        elif hyb1==\"SP2\" and hyb2==\"SP\" :sp2sp+=1\n",
    "        elif hyb1==\"SP2\" and hyb2==\"S\"  :sp2s+=1\n",
    "        elif hyb1==\"S\"   and hyb2==\"SP2\":sp2s+=1\n",
    "        elif hyb1==\"SP\"  and hyb2==\"SP3\":sp3sp+=1\n",
    "        elif hyb1==\"SP\"  and hyb2==\"SP2\":sp2sp+=1\n",
    "        elif hyb1==\"SP\"  and hyb2==\"SP\" :spsp+=1\n",
    "        elif hyb1==\"SP\"  and hyb2==\"S\"  :sps+=1\n",
    "        elif hyb1==\"S\"   and hyb2==\"SP\" :sps+=1\n",
    "        else:other+=1\n",
    "    return [sp3sp3,sp3sp2,sp3sp,sp3s,sp2sp2,sp2sp,sp2s,spsp,sps,other]"
   ],
   "id": "a8533209b10e6c7f",
   "outputs": [],
   "execution_count": 2
  },
  {
   "metadata": {
    "ExecuteTime": {
     "end_time": "2025-04-03T14:05:43.331549Z",
     "start_time": "2025-04-03T14:05:43.321528Z"
    }
   },
   "cell_type": "code",
   "source": [
    "def getMolDescriptors(mol):\n",
    "    res = []\n",
    "    for nm,fn in Descriptors._descList:\n",
    "        if nm != 'Ipc':\n",
    "            try:\n",
    "                val = fn(mol)\n",
    "                res.append(val)\n",
    "            except:\n",
    "                res.append(None)\n",
    "                print(nm)\n",
    "    return res"
   ],
   "id": "7c2a653ab4d2963e",
   "outputs": [],
   "execution_count": 3
  },
  {
   "metadata": {},
   "cell_type": "code",
   "outputs": [],
   "execution_count": null,
   "source": [
    "# Load and preprocess data\n",
    "filename = \"../Raw_Files/bindingdb_G12C.tsv\"\n",
    "#df = pd.read_csv(\"fda_original.csv\",sep=\";\")\n",
    "df = pd.read_csv(filename,sep='\\t')\n",
    "df.dropna(inplace=True)\n",
    "hybd_names = ['FC','N','H','Cl','Br',\n",
    "                 'I','P','F','Se','Si',\n",
    "                 'S_sp3','S_sp2','S_sp',\n",
    "                 'C_sp3','C_sp2','C_sp',\n",
    "                 'N_sp3','N_sp2','N_sp',\n",
    "                 'O_sp3','O_sp2','O_sp',\n",
    "                 'I1','I2','I3']\n",
    "bondhybd_names = ['sp3sp3','sp3sp2','sp3sp','sp3s',\n",
    "                  'sp2sp2','sp2sp','sp2s','spsp','sps','other']\n",
    "count = 0\n",
    "dcr_names = [nm for nm,fn in Descriptors._descList]\n",
    "dcr_names.remove('Ipc')\n",
    "Cnames = [\"ChEMBL ID\",\"Smiles\"]+hybd_names+bondhybd_names+dcr_names\n",
    "print(\"Cnames\", len(Cnames))\n",
    "DF = pd.DataFrame(columns=Cnames)"
   ],
   "id": "e8e7f948284803bd"
  },
  {
   "metadata": {},
   "cell_type": "code",
   "outputs": [],
   "execution_count": null,
   "source": [
    "filename = \"../Raw_Files/bindingdb_G12C.tsv\"\n",
    "#df = pd.read_csv(\"fda_original.csv\",sep=\";\")\n",
    "df = pd.read_csv(filename, sep='\\t')\n",
    "df.dropna(subset=['IC50 (nM)'], inplace=True)\n",
    "df"
   ],
   "id": "bba4540fbe88a82e"
  },
  {
   "metadata": {},
   "cell_type": "code",
   "outputs": [],
   "execution_count": null,
   "source": [
    "# Iterate through ChEMBL IDs and SMILES\n",
    "count = 0\n",
    "for i, (chembl_id, smiles) in enumerate(zip(df[\"BindingDB Reactant_set_id\"], df[\"Ligand SMILES\"])):\n",
    "    try:\n",
    "        count += 1\n",
    "        if count == 100:\n",
    "            count = 0\n",
    "            print(\"Processing molecule number\", i)\n",
    "\n",
    "        mol = Chem.MolFromSmiles(smiles)\n",
    "        if mol is None:\n",
    "            print(f\"Skipping {chembl_id}: Invalid SMILES '{smiles}'\")\n",
    "            continue\n",
    "\n",
    "        mol = Chem.AddHs(mol)  # Add hydrogens\n",
    "        status = AllChem.EmbedMolecule(mol, AllChem.ETKDG())\n",
    "\n",
    "        if status == 0:\n",
    "            t = getMolDescriptors(mol)\n",
    "            hyp = polFeature(mol)\n",
    "            bhyp = hybConn(mol)\n",
    "            I = [Descriptors3D.PMI1(mol), Descriptors3D.PMI2(mol), Descriptors3D.PMI3(mol)]\n",
    "\n",
    "            DF.loc[i] = [chembl_id, smiles] + hyp + bhyp + I + t\n",
    "            print(f\"Processed {chembl_id} successfully\")\n",
    "        else:\n",
    "            print(f\"Skipping {chembl_id}: 3D conformer generation failed\")\n",
    "\n",
    "    except Exception as e:\n",
    "        print(f\"Error processing {chembl_id} ({smiles}): {repr(e)}\")\n",
    "\n",
    "# Save to CSV\n",
    "output_filename = \"g12c_Hyb_Features.csv\"\n",
    "DF.to_csv(output_filename, index=False)\n",
    "print(f\"Saved output to {output_filename}\")"
   ],
   "id": "e41a6680b981f4d6"
  },
  {
   "metadata": {},
   "cell_type": "code",
   "outputs": [],
   "execution_count": null,
   "source": [
    "import pandas as pd\n",
    "\n",
    "# Load the files\n",
    "df_ic50 = pd.read_csv(\"../Raw_Files/bindingdb_G12C.tsv\", sep=\"\\t\")  # Read TSV file\n",
    "df_features = pd.read_csv(\"g12c_Hyb_Features.csv\")\n",
    "\n",
    "# Merge on the respective ID columns\n",
    "merged_df = df_features.merge(df_ic50[['BindingDB Reactant_set_id', 'IC50 (nM)']],\n",
    "                              left_on=\"ChEMBL ID\",\n",
    "                              right_on=\"BindingDB Reactant_set_id\",\n",
    "                              how=\"left\")\n",
    "\n",
    "# Drop the duplicate ID column if needed\n",
    "merged_df.drop(columns=[\"BindingDB Reactant_set_id\"], inplace=True)\n",
    "\n",
    "# Save the merged file\n",
    "merged_df.to_csv(\"G12C_training.csv\", index=False)\n",
    "\n",
    "print(\"Merge completed. File saved as merged_features_IC50_g12c.csv\")"
   ],
   "id": "6dc13b11fd13f1bc"
  },
  {
   "metadata": {},
   "cell_type": "code",
   "outputs": [],
   "execution_count": null,
   "source": "",
   "id": "2bf8ba028228d937"
  }
 ],
 "metadata": {
  "kernelspec": {
   "display_name": "Python 3",
   "language": "python",
   "name": "python3"
  },
  "language_info": {
   "codemirror_mode": {
    "name": "ipython",
    "version": 2
   },
   "file_extension": ".py",
   "mimetype": "text/x-python",
   "name": "python",
   "nbconvert_exporter": "python",
   "pygments_lexer": "ipython2",
   "version": "2.7.6"
  }
 },
 "nbformat": 4,
 "nbformat_minor": 5
}
