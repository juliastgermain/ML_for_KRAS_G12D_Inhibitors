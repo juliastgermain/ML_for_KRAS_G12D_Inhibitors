{
 "cells": [
  {
   "metadata": {
    "ExecuteTime": {
     "end_time": "2025-05-03T21:15:55.569064Z",
     "start_time": "2025-05-03T21:15:55.533697Z"
    }
   },
   "cell_type": "code",
   "source": [
    "import pandas as pd\n",
    "import numpy as np\n",
    "from chembl_webresource_client.new_client import new_client"
   ],
   "id": "6de4a8fca06dc91",
   "outputs": [],
   "execution_count": 147
  },
  {
   "metadata": {
    "ExecuteTime": {
     "end_time": "2025-05-03T21:15:56.365672Z",
     "start_time": "2025-05-03T21:15:56.270013Z"
    }
   },
   "cell_type": "code",
   "source": [
    "GRF = pd.read_csv(\"C:\\\\Users\\TheSh\\Documents\\Programming_in_Python_Class\\PyCharmProjects\\ML_for_KRAS_G12D_Inhibitors\\RF gtpase code\\RF_molecules_Newfeatures_GTPase_KRas.csv\")\n",
    "CRF = pd.read_csv(\"C:\\\\Users\\TheSh\\Documents\\Programming_in_Python_Class\\PyCharmProjects\\ML_for_KRAS_G12D_Inhibitors\\RF G12C Code\\RF_molecules_Newfeatures_G12C.csv\")\n",
    "DRF = pd.read_csv(\"C:\\\\Users\\TheSh\\Documents\\Programming_in_Python_Class\\PyCharmProjects\\ML_for_KRAS_G12D_Inhibitors\\RF G12D code\\RF_molecules_Newfeatures_G12D.csv\")\n",
    "GNN = pd.read_csv(\"C:\\\\Users\\TheSh\\Documents\\Programming_in_Python_Class\\PyCharmProjects\\ML_for_KRAS_G12D_Inhibitors\\\\NN GTPase Code\\\\NN_molecules_Newfeatures_GTPase_KRAS.csv\")\n",
    "CNN = pd.read_csv(\"C:\\\\Users\\TheSh\\Documents\\Programming_in_Python_Class\\PyCharmProjects\\ML_for_KRAS_G12D_Inhibitors\\\\NN G12C Code\\\\NN_molecules_Newfeatures_G12C.csv\")\n",
    "DNN = pd.read_csv(\"C:\\\\Users\\TheSh\\Documents\\Programming_in_Python_Class\\PyCharmProjects\\ML_for_KRAS_G12D_Inhibitors\\\\NN G12D Code\\\\NN_molecules_Newfeatures_G12D.csv\")"
   ],
   "id": "4d1b409bb1b52e54",
   "outputs": [],
   "execution_count": 148
  },
  {
   "metadata": {
    "ExecuteTime": {
     "end_time": "2025-05-03T21:15:59.256778Z",
     "start_time": "2025-05-03T21:15:59.175885Z"
    }
   },
   "cell_type": "code",
   "source": [
    "# use this to convert the Neural Network pIC50 values to floats in the dataframe\n",
    "GNN[\"Predicted_Value\"] = GNN[\"Predicted_Value\"].str.extract(r'np\\.float32\\((.*?)\\)')[0].astype(float)\n",
    "CNN[\"Predicted_Value\"] = CNN[\"Predicted_Value\"].str.extract(r'np\\.float32\\((.*?)\\)')[0].astype(float)\n",
    "DNN[\"Predicted_Value\"] = DNN[\"Predicted_Value\"].str.extract(r'np\\.float32\\((.*?)\\)')[0].astype(float)\n",
    "\n",
    "# and also drop the Unnamed: 0 column\n",
    "GNN = GNN.drop([\"Unnamed: 0\"], axis=1)\n",
    "CNN = CNN.drop([\"Unnamed: 0\"], axis=1)\n",
    "DNN = DNN.drop([\"Unnamed: 0\"], axis=1)\n",
    "GNN.head()"
   ],
   "id": "65f295b2f9602d06",
   "outputs": [
    {
     "data": {
      "text/plain": [
       "       chembl_id  Predicted_Value\n",
       "0  CHEMBL2146883         8.953490\n",
       "1  CHEMBL3301603         7.759499\n",
       "2  CHEMBL1200678         7.565260\n",
       "3     CHEMBL1668         7.532962\n",
       "4  CHEMBL3348963         7.199415"
      ],
      "text/html": [
       "<div>\n",
       "<style scoped>\n",
       "    .dataframe tbody tr th:only-of-type {\n",
       "        vertical-align: middle;\n",
       "    }\n",
       "\n",
       "    .dataframe tbody tr th {\n",
       "        vertical-align: top;\n",
       "    }\n",
       "\n",
       "    .dataframe thead th {\n",
       "        text-align: right;\n",
       "    }\n",
       "</style>\n",
       "<table border=\"1\" class=\"dataframe\">\n",
       "  <thead>\n",
       "    <tr style=\"text-align: right;\">\n",
       "      <th></th>\n",
       "      <th>chembl_id</th>\n",
       "      <th>Predicted_Value</th>\n",
       "    </tr>\n",
       "  </thead>\n",
       "  <tbody>\n",
       "    <tr>\n",
       "      <th>0</th>\n",
       "      <td>CHEMBL2146883</td>\n",
       "      <td>8.953490</td>\n",
       "    </tr>\n",
       "    <tr>\n",
       "      <th>1</th>\n",
       "      <td>CHEMBL3301603</td>\n",
       "      <td>7.759499</td>\n",
       "    </tr>\n",
       "    <tr>\n",
       "      <th>2</th>\n",
       "      <td>CHEMBL1200678</td>\n",
       "      <td>7.565260</td>\n",
       "    </tr>\n",
       "    <tr>\n",
       "      <th>3</th>\n",
       "      <td>CHEMBL1668</td>\n",
       "      <td>7.532962</td>\n",
       "    </tr>\n",
       "    <tr>\n",
       "      <th>4</th>\n",
       "      <td>CHEMBL3348963</td>\n",
       "      <td>7.199415</td>\n",
       "    </tr>\n",
       "  </tbody>\n",
       "</table>\n",
       "</div>"
      ]
     },
     "execution_count": 149,
     "metadata": {},
     "output_type": "execute_result"
    }
   ],
   "execution_count": 149
  },
  {
   "metadata": {
    "ExecuteTime": {
     "end_time": "2025-05-03T21:20:16.104504Z",
     "start_time": "2025-05-03T21:20:16.035894Z"
    }
   },
   "cell_type": "code",
   "source": "",
   "id": "1cb37425c3a72441",
   "outputs": [
    {
     "data": {
      "text/plain": [
       "       chembl_id  Predicted_Value\n",
       "0     CHEMBL1184              NaN\n",
       "1      CHEMBL730              NaN\n",
       "2  CHEMBL2110948              NaN\n",
       "3  CHEMBL1201264              NaN\n",
       "4  CHEMBL1401367              NaN"
      ],
      "text/html": [
       "<div>\n",
       "<style scoped>\n",
       "    .dataframe tbody tr th:only-of-type {\n",
       "        vertical-align: middle;\n",
       "    }\n",
       "\n",
       "    .dataframe tbody tr th {\n",
       "        vertical-align: top;\n",
       "    }\n",
       "\n",
       "    .dataframe thead th {\n",
       "        text-align: right;\n",
       "    }\n",
       "</style>\n",
       "<table border=\"1\" class=\"dataframe\">\n",
       "  <thead>\n",
       "    <tr style=\"text-align: right;\">\n",
       "      <th></th>\n",
       "      <th>chembl_id</th>\n",
       "      <th>Predicted_Value</th>\n",
       "    </tr>\n",
       "  </thead>\n",
       "  <tbody>\n",
       "    <tr>\n",
       "      <th>0</th>\n",
       "      <td>CHEMBL1184</td>\n",
       "      <td>NaN</td>\n",
       "    </tr>\n",
       "    <tr>\n",
       "      <th>1</th>\n",
       "      <td>CHEMBL730</td>\n",
       "      <td>NaN</td>\n",
       "    </tr>\n",
       "    <tr>\n",
       "      <th>2</th>\n",
       "      <td>CHEMBL2110948</td>\n",
       "      <td>NaN</td>\n",
       "    </tr>\n",
       "    <tr>\n",
       "      <th>3</th>\n",
       "      <td>CHEMBL1201264</td>\n",
       "      <td>NaN</td>\n",
       "    </tr>\n",
       "    <tr>\n",
       "      <th>4</th>\n",
       "      <td>CHEMBL1401367</td>\n",
       "      <td>NaN</td>\n",
       "    </tr>\n",
       "  </tbody>\n",
       "</table>\n",
       "</div>"
      ]
     },
     "execution_count": 159,
     "metadata": {},
     "output_type": "execute_result"
    }
   ],
   "execution_count": 159
  },
  {
   "metadata": {
    "ExecuteTime": {
     "end_time": "2025-05-03T21:16:00.690927Z",
     "start_time": "2025-05-03T21:16:00.674970Z"
    }
   },
   "cell_type": "code",
   "source": [
    "# drop column frequency for Random Forest\n",
    "GRF = GRF.drop([\"Frequency\"], axis=1)\n",
    "DRF = DRF.drop([\"Frequency\"], axis=1)\n",
    "CRF = CRF.drop([\"Frequency\"], axis=1)\n",
    "\n",
    "# rename them to fit Neural Network convention\n",
    "GRF.rename(columns={\"ChEMBL ID\": \"chembl_id\", \"Avg Predicted Value\": \"Predicted_Value\"}, inplace=True)\n",
    "DRF.rename(columns={\"ChEMBL ID\": \"chembl_id\", \"Avg Predicted Value\": \"Predicted_Value\"}, inplace=True)\n",
    "CRF.rename(columns={\"ChEMBL ID\": \"chembl_id\", \"Avg Predicted Value\": \"Predicted_Value\"}, inplace=True)\n",
    "GRF.head()"
   ],
   "id": "e3a0a3cf8c44a229",
   "outputs": [
    {
     "data": {
      "text/plain": [
       "       chembl_id  Predicted_Value\n",
       "0  CHEMBL4594350         8.106427\n",
       "1  CHEMBL2359966         7.497036\n",
       "2  CHEMBL2361370         7.419709\n",
       "3  CHEMBL3989958         7.372708\n",
       "4  CHEMBL3707183         7.497036"
      ],
      "text/html": [
       "<div>\n",
       "<style scoped>\n",
       "    .dataframe tbody tr th:only-of-type {\n",
       "        vertical-align: middle;\n",
       "    }\n",
       "\n",
       "    .dataframe tbody tr th {\n",
       "        vertical-align: top;\n",
       "    }\n",
       "\n",
       "    .dataframe thead th {\n",
       "        text-align: right;\n",
       "    }\n",
       "</style>\n",
       "<table border=\"1\" class=\"dataframe\">\n",
       "  <thead>\n",
       "    <tr style=\"text-align: right;\">\n",
       "      <th></th>\n",
       "      <th>chembl_id</th>\n",
       "      <th>Predicted_Value</th>\n",
       "    </tr>\n",
       "  </thead>\n",
       "  <tbody>\n",
       "    <tr>\n",
       "      <th>0</th>\n",
       "      <td>CHEMBL4594350</td>\n",
       "      <td>8.106427</td>\n",
       "    </tr>\n",
       "    <tr>\n",
       "      <th>1</th>\n",
       "      <td>CHEMBL2359966</td>\n",
       "      <td>7.497036</td>\n",
       "    </tr>\n",
       "    <tr>\n",
       "      <th>2</th>\n",
       "      <td>CHEMBL2361370</td>\n",
       "      <td>7.419709</td>\n",
       "    </tr>\n",
       "    <tr>\n",
       "      <th>3</th>\n",
       "      <td>CHEMBL3989958</td>\n",
       "      <td>7.372708</td>\n",
       "    </tr>\n",
       "    <tr>\n",
       "      <th>4</th>\n",
       "      <td>CHEMBL3707183</td>\n",
       "      <td>7.497036</td>\n",
       "    </tr>\n",
       "  </tbody>\n",
       "</table>\n",
       "</div>"
      ]
     },
     "execution_count": 150,
     "metadata": {},
     "output_type": "execute_result"
    }
   ],
   "execution_count": 150
  },
  {
   "metadata": {
    "ExecuteTime": {
     "end_time": "2025-05-03T21:16:03.189121Z",
     "start_time": "2025-05-03T21:16:03.184435Z"
    }
   },
   "cell_type": "code",
   "source": [
    "df_set = {\n",
    "  \"Gtpase Random Forest\": GRF,\n",
    "  \"G12C Random Forest\": CRF,\n",
    "  \"G12D Random Forest\": DRF,\n",
    "  \"Gtpase Neural Network\": GNN,\n",
    "  \"G12C Neural Network\": CNN,\n",
    "  \"G12D Neural Network\": DNN\n",
    "}"
   ],
   "id": "fb735e49baba47bc",
   "outputs": [],
   "execution_count": 151
  },
  {
   "metadata": {
    "ExecuteTime": {
     "end_time": "2025-05-03T21:16:05.387441Z",
     "start_time": "2025-05-03T21:16:04.603689Z"
    }
   },
   "cell_type": "code",
   "source": [
    "list = []\n",
    "for key, value in df_set.items():\n",
    "    list.append([key, \" \",\" \"])\n",
    "    df = value\n",
    "    for i in df[\"chembl_id\"]:\n",
    "        molecule = new_client.molecule\n",
    "        m1 = molecule.filter(chembl_id=i).only(\n",
    "            ['molecule_chembl_id', 'pref_name', 'molecule_structures'])\n",
    "        targets = pd.DataFrame.from_dict(m1)\n",
    "        #print(targets['molecule_chembl_id'][0])\n",
    "        if targets['molecule_chembl_id'][0] == i:\n",
    "            list.append([i,targets['pref_name'][0],float(df.loc[df[\"chembl_id\"]== i ][\"Predicted_Value\"].values[0])])\n",
    "            # print(i,targets['pref_name'][0],df[df[\"chembl_id\"]== i ][\"Predicted_Value\"].values[0])\n",
    "    list.append([\" \", \" \",\" \"])"
   ],
   "id": "bed3c7c3ac8ec31c",
   "outputs": [],
   "execution_count": 152
  },
  {
   "metadata": {
    "ExecuteTime": {
     "end_time": "2025-05-03T21:16:07.254085Z",
     "start_time": "2025-05-03T21:16:07.243405Z"
    }
   },
   "cell_type": "code",
   "source": "list",
   "id": "e6ebe920457e5aa",
   "outputs": [
    {
     "data": {
      "text/plain": [
       "[['Gtpase Random Forest', ' ', ' '],\n",
       " ['CHEMBL4594350', 'ADAGRASIB', 8.106427136975098],\n",
       " ['CHEMBL2359966', 'QUININE SULFATE', 7.497035616770629],\n",
       " ['CHEMBL2361370', 'PENBUTOLOL SULFATE', 7.419709268156769],\n",
       " ['CHEMBL3989958', 'IVOSIDENIB', 7.372708472127514],\n",
       " ['CHEMBL3707183', 'QUINIDINE SULFATE', 7.497035616770629],\n",
       " ['CHEMBL4297091', 'CODEINE SULFATE', 7.425687232920642],\n",
       " ['CHEMBL3187985', 'APOMORPHINE HYDROCHLORIDE', 7.257022141325173],\n",
       " ['CHEMBL2103744', 'MORPHINE SULFATE', 7.2252363553078975],\n",
       " ['CHEMBL3183409', 'APALUTAMIDE', 7.217008092870295],\n",
       " ['CHEMBL4535757', 'SOTORASIB', 7.173295985258044],\n",
       " [' ', ' ', ' '],\n",
       " ['G12C Random Forest', ' ', ' '],\n",
       " ['CHEMBL1201174', 'SITAGLIPTIN PHOSPHATE', 7.608019155290329],\n",
       " ['CHEMBL5315049', 'SITAGLIPTIN FUMARATE', 7.513760295461277],\n",
       " ['CHEMBL1200588', 'CLINDAMYCIN HYDROCHLORIDE', 7.478496654781677],\n",
       " ['CHEMBL1779710', 'EVOGLIPTIN', 7.457149776386765],\n",
       " ['CHEMBL535650', 'MEFLOQUINE HYDROCHLORIDE', 7.455809946116003],\n",
       " ['CHEMBL3989551', 'LINCOMYCIN HYDROCHLORIDE', 7.436815981985443],\n",
       " ['CHEMBL1422', 'SITAGLIPTIN', 7.416972368881023],\n",
       " ['CHEMBL1587', 'POLYTHIAZIDE', 7.418763961608449],\n",
       " ['CHEMBL3991065', 'ATOGEPANT', 7.339404767032027],\n",
       " ['CHEMBL1753', 'CLINDAMYCIN', 7.347947023956689],\n",
       " [' ', ' ', ' '],\n",
       " ['G12D Random Forest', ' ', ' '],\n",
       " ['CHEMBL1200866', 'PERFLUBRON', 7.944963719128017],\n",
       " ['CHEMBL1187833', 'UMECLIDINIUM', 7.924939419508702],\n",
       " ['CHEMBL46286', 'OMACETAXINE MEPESUCCINATE', 7.924906008010591],\n",
       " ['CHEMBL3544914', 'TEZACAFTOR', 7.932936338021825],\n",
       " ['CHEMBL2448612', 'ERGOTAMINE TARTRATE', 7.922379519682757],\n",
       " ['CHEMBL2364638', 'UBROGEPANT', 7.914718828254768],\n",
       " ['CHEMBL3989826', 'OXYCODONE TEREPHTHALATE', 7.915953196686346],\n",
       " ['CHEMBL575', 'METHICILLIN', 7.917130732085558],\n",
       " ['CHEMBL5314588', 'PERFLUOROHEXYLOCTANE', 7.908704371417476],\n",
       " ['CHEMBL523299', 'UMECLIDINIUM BROMIDE', 7.90049378041568],\n",
       " [' ', ' ', ' '],\n",
       " ['Gtpase Neural Network', ' ', ' '],\n",
       " ['CHEMBL2146883', 'COBIMETINIB', 8.95349],\n",
       " ['CHEMBL3301603', 'GILTERITINIB FUMARATE', 7.759499],\n",
       " ['CHEMBL1200678', 'ATAZANAVIR SULFATE', 7.5652604],\n",
       " ['CHEMBL1668', 'RESCINNAMINE', 7.5329623],\n",
       " ['CHEMBL3348963', 'TELOTRISTAT ETIPRATE', 7.1994147],\n",
       " ['CHEMBL1201244', 'ROCURONIUM', 6.9268174],\n",
       " ['CHEMBL6966', 'VERAPAMIL', 6.3693757],\n",
       " ['CHEMBL282724', 'SITAXENTAN', 5.7964606],\n",
       " ['CHEMBL2040682', 'CICLESONIDE', 5.6234417],\n",
       " ['CHEMBL3218576', 'COPANLISIB', 5.4535313],\n",
       " ['CHEMBL1678', 'DONEPEZIL HYDROCHLORIDE', 5.4348316],\n",
       " [' ', ' ', ' '],\n",
       " ['G12C Neural Network', ' ', ' '],\n",
       " ['CHEMBL1184', 'ACETYLCHOLINE CHLORIDE', nan],\n",
       " ['CHEMBL730', 'NITROGLYCERIN', nan],\n",
       " ['CHEMBL2110948', 'POLDINE', nan],\n",
       " ['CHEMBL1201264', 'METHANTHELINE', nan],\n",
       " ['CHEMBL1401367', 'PIPENZOLATE BROMIDE', nan],\n",
       " ['CHEMBL1200829', 'GLUCONOLACTONE', nan],\n",
       " ['CHEMBL1201336', 'FOSPHENYTOIN', nan],\n",
       " ['CHEMBL404422', 'BUTETHAL', nan],\n",
       " ['CHEMBL1401', 'NITAZOXANIDE', nan],\n",
       " ['CHEMBL1411731', 'TALAMPICILLIN HYDROCHLORIDE', nan],\n",
       " ['CHEMBL1200398', 'BUTOCONAZOLE NITRATE', nan],\n",
       " [' ', ' ', ' '],\n",
       " ['G12D Neural Network', ' ', ' '],\n",
       " ['CHEMBL1318287', 'PENTOLINIUM TARTRATE', 1.7297717],\n",
       " ['CHEMBL1577', 'METHYCLOTHIAZIDE', 2.4957638],\n",
       " ['CHEMBL730', 'NITROGLYCERIN', 2.5334873],\n",
       " ['CHEMBL435', 'HYDROCHLOROTHIAZIDE', 2.556745],\n",
       " ['CHEMBL3545313', 'BEMPEDOIC ACID', 2.6054378],\n",
       " ['CHEMBL1243', 'SULFABENZAMIDE', 2.6374588],\n",
       " ['CHEMBL404422', 'BUTETHAL', 2.9931388],\n",
       " ['CHEMBL1455', 'ALTRETAMINE', 3.099568],\n",
       " ['CHEMBL2111157', 'DIPIPANONE', 3.1700957],\n",
       " ['CHEMBL1524273', 'PHTHALYLSULFATHIAZOLE', 3.1897159],\n",
       " ['CHEMBL61593', 'CYCLOTHIAZIDE', 3.3447206],\n",
       " [' ', ' ', ' ']]"
      ]
     },
     "execution_count": 153,
     "metadata": {},
     "output_type": "execute_result"
    }
   ],
   "execution_count": 153
  },
  {
   "metadata": {
    "ExecuteTime": {
     "end_time": "2025-05-03T21:16:09.345601Z",
     "start_time": "2025-05-03T21:16:09.342227Z"
    }
   },
   "cell_type": "code",
   "source": "final = pd.DataFrame(list)",
   "id": "459b5d3e6f789080",
   "outputs": [],
   "execution_count": 154
  },
  {
   "metadata": {
    "ExecuteTime": {
     "end_time": "2025-05-03T21:16:10.554521Z",
     "start_time": "2025-05-03T21:16:10.546753Z"
    }
   },
   "cell_type": "code",
   "source": "final.head()",
   "id": "39971124250e0987",
   "outputs": [
    {
     "data": {
      "text/plain": [
       "                      0                   1         2\n",
       "0  Gtpase Random Forest                              \n",
       "1         CHEMBL4594350           ADAGRASIB  8.106427\n",
       "2         CHEMBL2359966     QUININE SULFATE  7.497036\n",
       "3         CHEMBL2361370  PENBUTOLOL SULFATE  7.419709\n",
       "4         CHEMBL3989958          IVOSIDENIB  7.372708"
      ],
      "text/html": [
       "<div>\n",
       "<style scoped>\n",
       "    .dataframe tbody tr th:only-of-type {\n",
       "        vertical-align: middle;\n",
       "    }\n",
       "\n",
       "    .dataframe tbody tr th {\n",
       "        vertical-align: top;\n",
       "    }\n",
       "\n",
       "    .dataframe thead th {\n",
       "        text-align: right;\n",
       "    }\n",
       "</style>\n",
       "<table border=\"1\" class=\"dataframe\">\n",
       "  <thead>\n",
       "    <tr style=\"text-align: right;\">\n",
       "      <th></th>\n",
       "      <th>0</th>\n",
       "      <th>1</th>\n",
       "      <th>2</th>\n",
       "    </tr>\n",
       "  </thead>\n",
       "  <tbody>\n",
       "    <tr>\n",
       "      <th>0</th>\n",
       "      <td>Gtpase Random Forest</td>\n",
       "      <td></td>\n",
       "      <td></td>\n",
       "    </tr>\n",
       "    <tr>\n",
       "      <th>1</th>\n",
       "      <td>CHEMBL4594350</td>\n",
       "      <td>ADAGRASIB</td>\n",
       "      <td>8.106427</td>\n",
       "    </tr>\n",
       "    <tr>\n",
       "      <th>2</th>\n",
       "      <td>CHEMBL2359966</td>\n",
       "      <td>QUININE SULFATE</td>\n",
       "      <td>7.497036</td>\n",
       "    </tr>\n",
       "    <tr>\n",
       "      <th>3</th>\n",
       "      <td>CHEMBL2361370</td>\n",
       "      <td>PENBUTOLOL SULFATE</td>\n",
       "      <td>7.419709</td>\n",
       "    </tr>\n",
       "    <tr>\n",
       "      <th>4</th>\n",
       "      <td>CHEMBL3989958</td>\n",
       "      <td>IVOSIDENIB</td>\n",
       "      <td>7.372708</td>\n",
       "    </tr>\n",
       "  </tbody>\n",
       "</table>\n",
       "</div>"
      ]
     },
     "execution_count": 155,
     "metadata": {},
     "output_type": "execute_result"
    }
   ],
   "execution_count": 155
  },
  {
   "metadata": {
    "ExecuteTime": {
     "end_time": "2025-05-03T21:18:19.473867Z",
     "start_time": "2025-05-03T21:18:19.215105Z"
    }
   },
   "cell_type": "code",
   "source": "final.to_excel(\"list_for_Risha.xlsx\", index=False)",
   "id": "c48b50b0772146fd",
   "outputs": [],
   "execution_count": 158
  },
  {
   "metadata": {},
   "cell_type": "code",
   "outputs": [],
   "execution_count": null,
   "source": "",
   "id": "aab10f84f6fad5a7"
  }
 ],
 "metadata": {
  "kernelspec": {
   "display_name": "Python 3",
   "language": "python",
   "name": "python3"
  },
  "language_info": {
   "codemirror_mode": {
    "name": "ipython",
    "version": 2
   },
   "file_extension": ".py",
   "mimetype": "text/x-python",
   "name": "python",
   "nbconvert_exporter": "python",
   "pygments_lexer": "ipython2",
   "version": "2.7.6"
  }
 },
 "nbformat": 4,
 "nbformat_minor": 5
}
