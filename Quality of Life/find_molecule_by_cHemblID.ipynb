{
 "cells": [
  {
   "cell_type": "code",
   "id": "initial_id",
   "metadata": {
    "collapsed": true,
    "ExecuteTime": {
     "end_time": "2025-04-03T15:10:29.636311Z",
     "start_time": "2025-04-03T15:10:27.833603Z"
    }
   },
   "source": [
    "import pandas as pd\n",
    "from chembl_webresource_client.new_client import new_client"
   ],
   "outputs": [],
   "execution_count": 2
  },
  {
   "metadata": {
    "ExecuteTime": {
     "end_time": "2025-04-03T15:10:30.767952Z",
     "start_time": "2025-04-03T15:10:30.737501Z"
    }
   },
   "cell_type": "code",
   "source": [
    "df = pd.read_csv(\"C:\\\\Users\\TheSh\\Documents\\Programming_in_Python_Class\\PyCharmProjects\\ML_for_KRAS_G12D_Inhibitors\\RF gtpase code\\RF_molecules_Newfeatures_GTPase_KRas.csv\")\n",
    "df.head()"
   ],
   "id": "e4bf6cd6203b50bd",
   "outputs": [
    {
     "name": "stderr",
     "output_type": "stream",
     "text": [
      "<>:1: SyntaxWarning: invalid escape sequence '\\T'\n",
      "<>:1: SyntaxWarning: invalid escape sequence '\\T'\n",
      "C:\\Users\\TheSh\\AppData\\Local\\Temp\\ipykernel_11336\\2236944027.py:1: SyntaxWarning: invalid escape sequence '\\T'\n",
      "  df = pd.read_csv(\"C:\\\\Users\\TheSh\\Documents\\Programming_in_Python_Class\\PyCharmProjects\\ML_for_KRAS_G12D_Inhibitors\\RF gtpase code\\RF_molecules_Newfeatures_GTPase_KRas.csv\")\n"
     ]
    },
    {
     "data": {
      "text/plain": [
       "       ChEMBL ID  Frequency  Avg Predicted Value\n",
       "0  CHEMBL4594350        1.0             8.106427\n",
       "1  CHEMBL2359966        1.0             7.497036\n",
       "2  CHEMBL2361370        1.0             7.419709\n",
       "3  CHEMBL3989958        1.0             7.372708\n",
       "4  CHEMBL3707183        1.0             7.497036"
      ],
      "text/html": [
       "<div>\n",
       "<style scoped>\n",
       "    .dataframe tbody tr th:only-of-type {\n",
       "        vertical-align: middle;\n",
       "    }\n",
       "\n",
       "    .dataframe tbody tr th {\n",
       "        vertical-align: top;\n",
       "    }\n",
       "\n",
       "    .dataframe thead th {\n",
       "        text-align: right;\n",
       "    }\n",
       "</style>\n",
       "<table border=\"1\" class=\"dataframe\">\n",
       "  <thead>\n",
       "    <tr style=\"text-align: right;\">\n",
       "      <th></th>\n",
       "      <th>ChEMBL ID</th>\n",
       "      <th>Frequency</th>\n",
       "      <th>Avg Predicted Value</th>\n",
       "    </tr>\n",
       "  </thead>\n",
       "  <tbody>\n",
       "    <tr>\n",
       "      <th>0</th>\n",
       "      <td>CHEMBL4594350</td>\n",
       "      <td>1.0</td>\n",
       "      <td>8.106427</td>\n",
       "    </tr>\n",
       "    <tr>\n",
       "      <th>1</th>\n",
       "      <td>CHEMBL2359966</td>\n",
       "      <td>1.0</td>\n",
       "      <td>7.497036</td>\n",
       "    </tr>\n",
       "    <tr>\n",
       "      <th>2</th>\n",
       "      <td>CHEMBL2361370</td>\n",
       "      <td>1.0</td>\n",
       "      <td>7.419709</td>\n",
       "    </tr>\n",
       "    <tr>\n",
       "      <th>3</th>\n",
       "      <td>CHEMBL3989958</td>\n",
       "      <td>1.0</td>\n",
       "      <td>7.372708</td>\n",
       "    </tr>\n",
       "    <tr>\n",
       "      <th>4</th>\n",
       "      <td>CHEMBL3707183</td>\n",
       "      <td>1.0</td>\n",
       "      <td>7.497036</td>\n",
       "    </tr>\n",
       "  </tbody>\n",
       "</table>\n",
       "</div>"
      ]
     },
     "execution_count": 3,
     "metadata": {},
     "output_type": "execute_result"
    }
   ],
   "execution_count": 3
  },
  {
   "metadata": {
    "ExecuteTime": {
     "end_time": "2025-04-03T15:11:25.458722Z",
     "start_time": "2025-04-03T15:11:19.651914Z"
    }
   },
   "cell_type": "code",
   "source": [
    "list = []\n",
    "for i in df[\"ChEMBL ID\"]:\n",
    "    molecule = new_client.molecule\n",
    "    m1 = molecule.filter(chembl_id=i).only(\n",
    "        ['molecule_chembl_id', 'pref_name', 'molecule_structures'])\n",
    "    targets = pd.DataFrame.from_dict(m1)\n",
    "    #print(targets['molecule_chembl_id'][0])\n",
    "    if targets['molecule_chembl_id'][0] == i:\n",
    "        list.append([i,targets['pref_name'][0]])\n",
    "        print(i,targets['pref_name'][0])\n",
    "finals_2 = pd.DataFrame(list)"
   ],
   "id": "eef4bd984660eb81",
   "outputs": [
    {
     "name": "stdout",
     "output_type": "stream",
     "text": [
      "CHEMBL4594350 ADAGRASIB\n",
      "CHEMBL2359966 QUININE SULFATE\n",
      "CHEMBL2361370 PENBUTOLOL SULFATE\n",
      "CHEMBL3989958 IVOSIDENIB\n",
      "CHEMBL3707183 QUINIDINE SULFATE\n",
      "CHEMBL4297091 CODEINE SULFATE\n",
      "CHEMBL3187985 APOMORPHINE HYDROCHLORIDE\n",
      "CHEMBL2103744 MORPHINE SULFATE\n",
      "CHEMBL3183409 APALUTAMIDE\n",
      "CHEMBL4535757 SOTORASIB\n"
     ]
    }
   ],
   "execution_count": 6
  },
  {
   "metadata": {
    "ExecuteTime": {
     "end_time": "2025-04-03T14:56:47.249755Z",
     "start_time": "2025-04-03T14:56:47.233008Z"
    }
   },
   "cell_type": "code",
   "source": "finals_2",
   "id": "5ec46449b5d2ed40",
   "outputs": [
    {
     "data": {
      "text/plain": [
       "                0                            1\n",
       "0   CHEMBL1200953     HYDROCORTISONE PROBUTATE\n",
       "1       CHEMBL717  MEDROXYPROGESTERONE ACETATE\n",
       "2   CHEMBL2107389         GESTONORONE CAPROATE\n",
       "3   CHEMBL3707377          SEGESTERONE ACETATE\n",
       "4   CHEMBL1411731  TALAMPICILLIN HYDROCHLORIDE\n",
       "5   CHEMBL1201101       TESTOSTERONE CYPIONATE\n",
       "6   CHEMBL1201064      FLUOROMETHOLONE ACETATE\n",
       "7   CHEMBL1200975        CLOCORTOLONE PIVALATE\n",
       "8   CHEMBL1201749                DIFLUPREDNATE\n",
       "9   CHEMBL1200545        DIFLORASONE DIACETATE\n",
       "10     CHEMBL1456        MYCOPHENOLATE MOFETIL"
      ],
      "text/html": [
       "<div>\n",
       "<style scoped>\n",
       "    .dataframe tbody tr th:only-of-type {\n",
       "        vertical-align: middle;\n",
       "    }\n",
       "\n",
       "    .dataframe tbody tr th {\n",
       "        vertical-align: top;\n",
       "    }\n",
       "\n",
       "    .dataframe thead th {\n",
       "        text-align: right;\n",
       "    }\n",
       "</style>\n",
       "<table border=\"1\" class=\"dataframe\">\n",
       "  <thead>\n",
       "    <tr style=\"text-align: right;\">\n",
       "      <th></th>\n",
       "      <th>0</th>\n",
       "      <th>1</th>\n",
       "    </tr>\n",
       "  </thead>\n",
       "  <tbody>\n",
       "    <tr>\n",
       "      <th>0</th>\n",
       "      <td>CHEMBL1200953</td>\n",
       "      <td>HYDROCORTISONE PROBUTATE</td>\n",
       "    </tr>\n",
       "    <tr>\n",
       "      <th>1</th>\n",
       "      <td>CHEMBL717</td>\n",
       "      <td>MEDROXYPROGESTERONE ACETATE</td>\n",
       "    </tr>\n",
       "    <tr>\n",
       "      <th>2</th>\n",
       "      <td>CHEMBL2107389</td>\n",
       "      <td>GESTONORONE CAPROATE</td>\n",
       "    </tr>\n",
       "    <tr>\n",
       "      <th>3</th>\n",
       "      <td>CHEMBL3707377</td>\n",
       "      <td>SEGESTERONE ACETATE</td>\n",
       "    </tr>\n",
       "    <tr>\n",
       "      <th>4</th>\n",
       "      <td>CHEMBL1411731</td>\n",
       "      <td>TALAMPICILLIN HYDROCHLORIDE</td>\n",
       "    </tr>\n",
       "    <tr>\n",
       "      <th>5</th>\n",
       "      <td>CHEMBL1201101</td>\n",
       "      <td>TESTOSTERONE CYPIONATE</td>\n",
       "    </tr>\n",
       "    <tr>\n",
       "      <th>6</th>\n",
       "      <td>CHEMBL1201064</td>\n",
       "      <td>FLUOROMETHOLONE ACETATE</td>\n",
       "    </tr>\n",
       "    <tr>\n",
       "      <th>7</th>\n",
       "      <td>CHEMBL1200975</td>\n",
       "      <td>CLOCORTOLONE PIVALATE</td>\n",
       "    </tr>\n",
       "    <tr>\n",
       "      <th>8</th>\n",
       "      <td>CHEMBL1201749</td>\n",
       "      <td>DIFLUPREDNATE</td>\n",
       "    </tr>\n",
       "    <tr>\n",
       "      <th>9</th>\n",
       "      <td>CHEMBL1200545</td>\n",
       "      <td>DIFLORASONE DIACETATE</td>\n",
       "    </tr>\n",
       "    <tr>\n",
       "      <th>10</th>\n",
       "      <td>CHEMBL1456</td>\n",
       "      <td>MYCOPHENOLATE MOFETIL</td>\n",
       "    </tr>\n",
       "  </tbody>\n",
       "</table>\n",
       "</div>"
      ]
     },
     "execution_count": 25,
     "metadata": {},
     "output_type": "execute_result"
    }
   ],
   "execution_count": 25
  },
  {
   "metadata": {},
   "cell_type": "code",
   "outputs": [],
   "execution_count": null,
   "source": "",
   "id": "10e96fe07a463f85"
  }
 ],
 "metadata": {
  "kernelspec": {
   "display_name": "Python 3",
   "language": "python",
   "name": "python3"
  },
  "language_info": {
   "codemirror_mode": {
    "name": "ipython",
    "version": 2
   },
   "file_extension": ".py",
   "mimetype": "text/x-python",
   "name": "python",
   "nbconvert_exporter": "python",
   "pygments_lexer": "ipython2",
   "version": "2.7.6"
  }
 },
 "nbformat": 4,
 "nbformat_minor": 5
}
