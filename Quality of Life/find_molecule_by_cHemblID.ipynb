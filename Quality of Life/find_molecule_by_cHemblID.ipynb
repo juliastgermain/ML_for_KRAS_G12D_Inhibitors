{
 "cells": [
  {
   "metadata": {
    "ExecuteTime": {
     "end_time": "2025-04-16T11:14:44.843798Z",
     "start_time": "2025-04-16T11:14:43.016306Z"
    }
   },
   "cell_type": "code",
   "source": [
    "import pandas as pd\n",
    "from chembl_webresource_client.new_client import new_client"
   ],
   "id": "6de4a8fca06dc91",
   "outputs": [],
   "execution_count": 2
  },
  {
   "metadata": {
    "ExecuteTime": {
     "end_time": "2025-04-16T11:14:49.878793Z",
     "start_time": "2025-04-16T11:14:49.847983Z"
    }
   },
   "cell_type": "code",
   "source": [
    "GRF = pd.read_csv(\"C:\\\\Users\\TheSh\\Documents\\Programming_in_Python_Class\\PyCharmProjects\\ML_for_KRAS_G12D_Inhibitors\\RF gtpase code\\RF_molecules_Newfeatures_GTPase_KRas.csv\")\n",
    "CRF = pd.read_csv(\"C:\\\\Users\\TheSh\\Documents\\Programming_in_Python_Class\\PyCharmProjects\\ML_for_KRAS_G12D_Inhibitors\\RF G12C Code\\RF_molecules_Newfeatures_G12C.csv\")\n",
    "DRF = pd.read_csv(\"C:\\\\Users\\TheSh\\Documents\\Programming_in_Python_Class\\PyCharmProjects\\ML_for_KRAS_G12D_Inhibitors\\RF G12D code\\RF_molecules_Newfeatures_G12D.csv\")\n",
    "GNN = pd.read_csv(\"C:\\\\Users\\TheSh\\Documents\\Programming_in_Python_Class\\PyCharmProjects\\ML_for_KRAS_G12D_Inhibitors\\\\NN GTPase Code\\\\NN_molecules_Newfeatures_GTPase_KRAS.csv\")\n",
    "CNN = pd.read_csv(\"C:\\\\Users\\TheSh\\Documents\\Programming_in_Python_Class\\PyCharmProjects\\ML_for_KRAS_G12D_Inhibitors\\\\NN G12C Code\\\\NN_molecules_Newfeatures_G12C.csv\")\n",
    "DNN = pd.read_csv(\"C:\\\\Users\\TheSh\\Documents\\Programming_in_Python_Class\\PyCharmProjects\\ML_for_KRAS_G12D_Inhibitors\\\\NN G12D Code\\\\NN_molecules_Newfeatures_G12D.csv\")"
   ],
   "id": "4d1b409bb1b52e54",
   "outputs": [
    {
     "name": "stderr",
     "output_type": "stream",
     "text": [
      "<>:1: SyntaxWarning: invalid escape sequence '\\T'\n",
      "<>:2: SyntaxWarning: invalid escape sequence '\\T'\n",
      "<>:3: SyntaxWarning: invalid escape sequence '\\T'\n",
      "<>:4: SyntaxWarning: invalid escape sequence '\\T'\n",
      "<>:5: SyntaxWarning: invalid escape sequence '\\T'\n",
      "<>:6: SyntaxWarning: invalid escape sequence '\\T'\n",
      "<>:1: SyntaxWarning: invalid escape sequence '\\T'\n",
      "<>:2: SyntaxWarning: invalid escape sequence '\\T'\n",
      "<>:3: SyntaxWarning: invalid escape sequence '\\T'\n",
      "<>:4: SyntaxWarning: invalid escape sequence '\\T'\n",
      "<>:5: SyntaxWarning: invalid escape sequence '\\T'\n",
      "<>:6: SyntaxWarning: invalid escape sequence '\\T'\n",
      "C:\\Users\\TheSh\\AppData\\Local\\Temp\\ipykernel_12668\\3473304193.py:1: SyntaxWarning: invalid escape sequence '\\T'\n",
      "  GRF = pd.read_csv(\"C:\\\\Users\\TheSh\\Documents\\Programming_in_Python_Class\\PyCharmProjects\\ML_for_KRAS_G12D_Inhibitors\\RF gtpase code\\RF_molecules_Newfeatures_GTPase_KRas.csv\")\n",
      "C:\\Users\\TheSh\\AppData\\Local\\Temp\\ipykernel_12668\\3473304193.py:2: SyntaxWarning: invalid escape sequence '\\T'\n",
      "  CRF = pd.read_csv(\"C:\\\\Users\\TheSh\\Documents\\Programming_in_Python_Class\\PyCharmProjects\\ML_for_KRAS_G12D_Inhibitors\\RF G12C Code\\RF_molecules_Newfeatures_G12C.csv\")\n",
      "C:\\Users\\TheSh\\AppData\\Local\\Temp\\ipykernel_12668\\3473304193.py:3: SyntaxWarning: invalid escape sequence '\\T'\n",
      "  DRF = pd.read_csv(\"C:\\\\Users\\TheSh\\Documents\\Programming_in_Python_Class\\PyCharmProjects\\ML_for_KRAS_G12D_Inhibitors\\RF G12D code\\RF_molecules_Newfeatures_G12D.csv\")\n",
      "C:\\Users\\TheSh\\AppData\\Local\\Temp\\ipykernel_12668\\3473304193.py:4: SyntaxWarning: invalid escape sequence '\\T'\n",
      "  GNN = pd.read_csv(\"C:\\\\Users\\TheSh\\Documents\\Programming_in_Python_Class\\PyCharmProjects\\ML_for_KRAS_G12D_Inhibitors\\\\NN GTPase Code\\\\NN_molecules_Newfeatures_GTPase_KRAS.csv\")\n",
      "C:\\Users\\TheSh\\AppData\\Local\\Temp\\ipykernel_12668\\3473304193.py:5: SyntaxWarning: invalid escape sequence '\\T'\n",
      "  CNN = pd.read_csv(\"C:\\\\Users\\TheSh\\Documents\\Programming_in_Python_Class\\PyCharmProjects\\ML_for_KRAS_G12D_Inhibitors\\\\NN G12C Code\\\\NN_molecules_Newfeatures_G12C.csv\")\n",
      "C:\\Users\\TheSh\\AppData\\Local\\Temp\\ipykernel_12668\\3473304193.py:6: SyntaxWarning: invalid escape sequence '\\T'\n",
      "  DNN = pd.read_csv(\"C:\\\\Users\\TheSh\\Documents\\Programming_in_Python_Class\\PyCharmProjects\\ML_for_KRAS_G12D_Inhibitors\\\\NN G12D Code\\\\NN_molecules_Newfeatures_G12D.csv\")\n"
     ]
    }
   ],
   "execution_count": 3
  },
  {
   "metadata": {
    "ExecuteTime": {
     "end_time": "2025-04-16T11:21:18.105327Z",
     "start_time": "2025-04-16T11:21:18.074746Z"
    }
   },
   "cell_type": "code",
   "source": [
    "df = GRF\n",
    "df.head()"
   ],
   "id": "7d400a616a49c1f8",
   "outputs": [
    {
     "data": {
      "text/plain": [
       "       ChEMBL ID  Frequency  Avg Predicted Value\n",
       "0  CHEMBL4594350        1.0             8.106427\n",
       "1  CHEMBL2359966        1.0             7.497036\n",
       "2  CHEMBL2361370        1.0             7.419709\n",
       "3  CHEMBL3989958        1.0             7.372708\n",
       "4  CHEMBL3707183        1.0             7.497036"
      ],
      "text/html": [
       "<div>\n",
       "<style scoped>\n",
       "    .dataframe tbody tr th:only-of-type {\n",
       "        vertical-align: middle;\n",
       "    }\n",
       "\n",
       "    .dataframe tbody tr th {\n",
       "        vertical-align: top;\n",
       "    }\n",
       "\n",
       "    .dataframe thead th {\n",
       "        text-align: right;\n",
       "    }\n",
       "</style>\n",
       "<table border=\"1\" class=\"dataframe\">\n",
       "  <thead>\n",
       "    <tr style=\"text-align: right;\">\n",
       "      <th></th>\n",
       "      <th>ChEMBL ID</th>\n",
       "      <th>Frequency</th>\n",
       "      <th>Avg Predicted Value</th>\n",
       "    </tr>\n",
       "  </thead>\n",
       "  <tbody>\n",
       "    <tr>\n",
       "      <th>0</th>\n",
       "      <td>CHEMBL4594350</td>\n",
       "      <td>1.0</td>\n",
       "      <td>8.106427</td>\n",
       "    </tr>\n",
       "    <tr>\n",
       "      <th>1</th>\n",
       "      <td>CHEMBL2359966</td>\n",
       "      <td>1.0</td>\n",
       "      <td>7.497036</td>\n",
       "    </tr>\n",
       "    <tr>\n",
       "      <th>2</th>\n",
       "      <td>CHEMBL2361370</td>\n",
       "      <td>1.0</td>\n",
       "      <td>7.419709</td>\n",
       "    </tr>\n",
       "    <tr>\n",
       "      <th>3</th>\n",
       "      <td>CHEMBL3989958</td>\n",
       "      <td>1.0</td>\n",
       "      <td>7.372708</td>\n",
       "    </tr>\n",
       "    <tr>\n",
       "      <th>4</th>\n",
       "      <td>CHEMBL3707183</td>\n",
       "      <td>1.0</td>\n",
       "      <td>7.497036</td>\n",
       "    </tr>\n",
       "  </tbody>\n",
       "</table>\n",
       "</div>"
      ]
     },
     "execution_count": 6,
     "metadata": {},
     "output_type": "execute_result"
    }
   ],
   "execution_count": 6
  },
  {
   "metadata": {
    "ExecuteTime": {
     "end_time": "2025-04-16T11:22:00.267406Z",
     "start_time": "2025-04-16T11:22:00.180958Z"
    }
   },
   "cell_type": "code",
   "source": [
    "list = []\n",
    "for i in df[\"ChEMBL ID\"]:\n",
    "    molecule = new_client.molecule\n",
    "    m1 = molecule.filter(chembl_id=i).only(\n",
    "        ['molecule_chembl_id', 'pref_name', 'molecule_structures'])\n",
    "    targets = pd.DataFrame.from_dict(m1)\n",
    "    #print(targets['molecule_chembl_id'][0])\n",
    "    if targets['molecule_chembl_id'][0] == i:\n",
    "        list.append([i,targets['pref_name'][0]])\n",
    "        print(i,\"&\", targets['pref_name'][0],\"&\",df[df[\"ChEMBL ID\"]== i ][\"Avg Predicted Value\"],\"\\\\\\\\\\n \\\\hline\")"
   ],
   "id": "bed3c7c3ac8ec31c",
   "outputs": [
    {
     "name": "stdout",
     "output_type": "stream",
     "text": [
      "CHEMBL4594350 & ADAGRASIB & 0    8.106427\n",
      "Name: Avg Predicted Value, dtype: float64 \\\\\n",
      " \\hline\n",
      "CHEMBL2359966 & QUININE SULFATE & 1    7.497036\n",
      "Name: Avg Predicted Value, dtype: float64 \\\\\n",
      " \\hline\n",
      "CHEMBL2361370 & PENBUTOLOL SULFATE & 2    7.419709\n",
      "Name: Avg Predicted Value, dtype: float64 \\\\\n",
      " \\hline\n",
      "CHEMBL3989958 & IVOSIDENIB & 3    7.372708\n",
      "Name: Avg Predicted Value, dtype: float64 \\\\\n",
      " \\hline\n",
      "CHEMBL3707183 & QUINIDINE SULFATE & 4    7.497036\n",
      "Name: Avg Predicted Value, dtype: float64 \\\\\n",
      " \\hline\n",
      "CHEMBL4297091 & CODEINE SULFATE & 5    7.425687\n",
      "Name: Avg Predicted Value, dtype: float64 \\\\\n",
      " \\hline\n",
      "CHEMBL3187985 & APOMORPHINE HYDROCHLORIDE & 6    7.257022\n",
      "Name: Avg Predicted Value, dtype: float64 \\\\\n",
      " \\hline\n",
      "CHEMBL2103744 & MORPHINE SULFATE & 7    7.225236\n",
      "Name: Avg Predicted Value, dtype: float64 \\\\\n",
      " \\hline\n",
      "CHEMBL3183409 & APALUTAMIDE & 8    7.217008\n",
      "Name: Avg Predicted Value, dtype: float64 \\\\\n",
      " \\hline\n",
      "CHEMBL4535757 & SOTORASIB & 9    7.173296\n",
      "Name: Avg Predicted Value, dtype: float64 \\\\\n",
      " \\hline\n"
     ]
    }
   ],
   "execution_count": 10
  },
  {
   "metadata": {
    "ExecuteTime": {
     "end_time": "2025-04-16T11:23:15.618334Z",
     "start_time": "2025-04-16T11:23:15.610953Z"
    }
   },
   "cell_type": "code",
   "source": "float(df[df[\"ChEMBL ID\"]== \"CHEMBL2361370\" ][\"Avg Predicted Value\"])",
   "id": "459b5d3e6f789080",
   "outputs": [
    {
     "name": "stderr",
     "output_type": "stream",
     "text": [
      "C:\\Users\\TheSh\\AppData\\Local\\Temp\\ipykernel_12668\\1317350521.py:1: FutureWarning: Calling float on a single element Series is deprecated and will raise a TypeError in the future. Use float(ser.iloc[0]) instead\n",
      "  float(df[df[\"ChEMBL ID\"]== \"CHEMBL2361370\" ][\"Avg Predicted Value\"])\n"
     ]
    },
    {
     "data": {
      "text/plain": [
       "7.419709268156769"
      ]
     },
     "execution_count": 11,
     "metadata": {},
     "output_type": "execute_result"
    }
   ],
   "execution_count": 11
  },
  {
   "metadata": {},
   "cell_type": "code",
   "outputs": [],
   "execution_count": null,
   "source": "",
   "id": "b9400c8d21302389"
  }
 ],
 "metadata": {
  "kernelspec": {
   "display_name": "Python 3",
   "language": "python",
   "name": "python3"
  },
  "language_info": {
   "codemirror_mode": {
    "name": "ipython",
    "version": 2
   },
   "file_extension": ".py",
   "mimetype": "text/x-python",
   "name": "python",
   "nbconvert_exporter": "python",
   "pygments_lexer": "ipython2",
   "version": "2.7.6"
  }
 },
 "nbformat": 4,
 "nbformat_minor": 5
}
