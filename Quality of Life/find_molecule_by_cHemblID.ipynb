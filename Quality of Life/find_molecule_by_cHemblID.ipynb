{
 "cells": [
  {
   "metadata": {
    "ExecuteTime": {
     "end_time": "2025-05-03T15:49:48.753771Z",
     "start_time": "2025-05-03T15:49:48.061705Z"
    }
   },
   "cell_type": "code",
   "source": [
    "import pandas as pd\n",
    "from chembl_webresource_client.new_client import new_client"
   ],
   "id": "6de4a8fca06dc91",
   "outputs": [
    {
     "name": "stderr",
     "output_type": "stream",
     "text": [
      "/Users/user/Downloads/DLF/GIT/.venv/lib/python3.9/site-packages/urllib3/__init__.py:35: NotOpenSSLWarning: urllib3 v2 only supports OpenSSL 1.1.1+, currently the 'ssl' module is compiled with 'LibreSSL 2.8.3'. See: https://github.com/urllib3/urllib3/issues/3020\n",
      "  warnings.warn(\n"
     ]
    }
   ],
   "execution_count": 2
  },
  {
   "metadata": {
    "ExecuteTime": {
     "end_time": "2025-05-03T15:50:08.912666Z",
     "start_time": "2025-05-03T15:50:08.895748Z"
    }
   },
   "cell_type": "code",
   "source": [
    "#GRF = pd.read_csv(\"C:\\\\Users\\TheSh\\Documents\\Programming_in_Python_Class\\PyCharmProjects\\ML_for_KRAS_G12D_Inhibitors\\RF gtpase code\\RF_molecules_Newfeatures_GTPase_KRas.csv\")\n",
    "#CRF = pd.read_csv(\"C:\\\\Users\\TheSh\\Documents\\Programming_in_Python_Class\\PyCharmProjects\\ML_for_KRAS_G12D_Inhibitors\\RF G12C Code\\RF_molecules_Newfeatures_G12C.csv\")\n",
    "#DRF = pd.read_csv(\"C:\\\\Users\\TheSh\\Documents\\Programming_in_Python_Class\\PyCharmProjects\\ML_for_KRAS_G12D_Inhibitors\\RF G12D code\\RF_molecules_Newfeatures_G12D.csv\")\n",
    "GNN = pd.read_csv(\"/Users/user/PycharmProjects/Drug Design FInal/FINAL_GIT/NN G12D Code/NN_molecules_Newfeatures_G12D.csv\")\n",
    "#CNN = pd.read_csv(\"C:\\\\Users\\TheSh\\Documents\\Programming_in_Python_Class\\PyCharmProjects\\ML_for_KRAS_G12D_Inhibitors\\\\NN G12C Code\\\\NN_molecules_Newfeatures_G12C(1).csv\")\n",
    "#DNN = pd.read_csv(\"C:\\\\Users\\TheSh\\Documents\\Programming_in_Python_Class\\PyCharmProjects\\ML_for_KRAS_G12D_Inhibitors\\\\NN G12D Code\\\\NN_molecules_Newfeatures_G12D.csv\")"
   ],
   "id": "4d1b409bb1b52e54",
   "outputs": [],
   "execution_count": 4
  },
  {
   "metadata": {
    "ExecuteTime": {
     "end_time": "2025-05-03T15:50:14.736303Z",
     "start_time": "2025-05-03T15:50:14.723253Z"
    }
   },
   "cell_type": "code",
   "source": [
    "df = GNN\n",
    "df.head()"
   ],
   "id": "7d400a616a49c1f8",
   "outputs": [
    {
     "data": {
      "text/plain": [
       "   Unnamed: 0      chembl_id          Predicted_Value\n",
       "0           0      CHEMBL497  [np.float32(7.8433557)]\n",
       "1           1  CHEMBL2105743   [np.float32(5.983733)]\n",
       "2           2  CHEMBL3301603  [np.float32(5.8891788)]\n",
       "3           3     CHEMBL1185  [np.float32(5.6593995)]\n",
       "4           4  CHEMBL1201743  [np.float32(5.6422305)]"
      ],
      "text/html": [
       "<div>\n",
       "<style scoped>\n",
       "    .dataframe tbody tr th:only-of-type {\n",
       "        vertical-align: middle;\n",
       "    }\n",
       "\n",
       "    .dataframe tbody tr th {\n",
       "        vertical-align: top;\n",
       "    }\n",
       "\n",
       "    .dataframe thead th {\n",
       "        text-align: right;\n",
       "    }\n",
       "</style>\n",
       "<table border=\"1\" class=\"dataframe\">\n",
       "  <thead>\n",
       "    <tr style=\"text-align: right;\">\n",
       "      <th></th>\n",
       "      <th>Unnamed: 0</th>\n",
       "      <th>chembl_id</th>\n",
       "      <th>Predicted_Value</th>\n",
       "    </tr>\n",
       "  </thead>\n",
       "  <tbody>\n",
       "    <tr>\n",
       "      <th>0</th>\n",
       "      <td>0</td>\n",
       "      <td>CHEMBL497</td>\n",
       "      <td>[np.float32(7.8433557)]</td>\n",
       "    </tr>\n",
       "    <tr>\n",
       "      <th>1</th>\n",
       "      <td>1</td>\n",
       "      <td>CHEMBL2105743</td>\n",
       "      <td>[np.float32(5.983733)]</td>\n",
       "    </tr>\n",
       "    <tr>\n",
       "      <th>2</th>\n",
       "      <td>2</td>\n",
       "      <td>CHEMBL3301603</td>\n",
       "      <td>[np.float32(5.8891788)]</td>\n",
       "    </tr>\n",
       "    <tr>\n",
       "      <th>3</th>\n",
       "      <td>3</td>\n",
       "      <td>CHEMBL1185</td>\n",
       "      <td>[np.float32(5.6593995)]</td>\n",
       "    </tr>\n",
       "    <tr>\n",
       "      <th>4</th>\n",
       "      <td>4</td>\n",
       "      <td>CHEMBL1201743</td>\n",
       "      <td>[np.float32(5.6422305)]</td>\n",
       "    </tr>\n",
       "  </tbody>\n",
       "</table>\n",
       "</div>"
      ]
     },
     "execution_count": 5,
     "metadata": {},
     "output_type": "execute_result"
    }
   ],
   "execution_count": 5
  },
  {
   "metadata": {
    "ExecuteTime": {
     "end_time": "2025-05-03T15:50:17.164642Z",
     "start_time": "2025-05-03T15:50:15.779768Z"
    }
   },
   "cell_type": "code",
   "source": [
    "list = []\n",
    "for i in df[\"chembl_id\"]:\n",
    "    molecule = new_client.molecule\n",
    "    m1 = molecule.filter(chembl_id=i).only(\n",
    "        ['molecule_chembl_id', 'pref_name', 'molecule_structures'])\n",
    "    targets = pd.DataFrame.from_dict(m1)\n",
    "    #print(targets['molecule_chembl_id'][0])\n",
    "    if targets['molecule_chembl_id'][0] == i:\n",
    "        list.append([i,targets['pref_name'][0]])\n",
    "        print(i,\"&\", targets['pref_name'][0],\"&\",df[df[\"chembl_id\"]== i ][\"Predicted_Value\"],\"\\\\\\\\\\n \\\\hline\")"
   ],
   "id": "bed3c7c3ac8ec31c",
   "outputs": [
    {
     "name": "stdout",
     "output_type": "stream",
     "text": [
      "CHEMBL497 & CLIOQUINOL & 0    [np.float32(7.8433557)]\n",
      "Name: Predicted_Value, dtype: object \\\\\n",
      " \\hline\n",
      "CHEMBL2105743 & OLODATEROL HYDROCHLORIDE & 1    [np.float32(5.983733)]\n",
      "Name: Predicted_Value, dtype: object \\\\\n",
      " \\hline\n",
      "CHEMBL3301603 & GILTERITINIB FUMARATE & 2    [np.float32(5.8891788)]\n",
      "Name: Predicted_Value, dtype: object \\\\\n",
      " \\hline\n",
      "CHEMBL1185 & ZOLMITRIPTAN & 3    [np.float32(5.6593995)]\n",
      "Name: Predicted_Value, dtype: object \\\\\n",
      " \\hline\n",
      "CHEMBL1201743 & SAXAGLIPTIN HYDROCHLORIDE & 4    [np.float32(5.6422305)]\n",
      "Name: Predicted_Value, dtype: object \\\\\n",
      " \\hline\n",
      "CHEMBL1668 & RESCINNAMINE & 5    [np.float32(5.632393)]\n",
      "Name: Predicted_Value, dtype: object \\\\\n",
      " \\hline\n",
      "CHEMBL895 & NALBUPHINE & 6    [np.float32(5.4769154)]\n",
      "Name: Predicted_Value, dtype: object \\\\\n",
      " \\hline\n",
      "CHEMBL679 & EPINEPHRINE & 7    [np.float32(5.4564877)]\n",
      "Name: Predicted_Value, dtype: object \\\\\n",
      " \\hline\n",
      "CHEMBL3137317 & SONIDEGIB PHOSPHATE & 8    [np.float32(5.452873)]\n",
      "Name: Predicted_Value, dtype: object \\\\\n",
      " \\hline\n",
      "CHEMBL1738797 & ALECTINIB & 9    [np.float32(5.428976)]\n",
      "Name: Predicted_Value, dtype: object \\\\\n",
      " \\hline\n",
      "CHEMBL3218576 & COPANLISIB & 10    [np.float32(5.4016647)]\n",
      "Name: Predicted_Value, dtype: object \\\\\n",
      " \\hline\n"
     ]
    }
   ],
   "execution_count": 6
  },
  {
   "metadata": {
    "ExecuteTime": {
     "end_time": "2025-04-16T11:23:15.618334Z",
     "start_time": "2025-04-16T11:23:15.610953Z"
    }
   },
   "cell_type": "code",
   "source": "float(df[df[\"ChEMBL ID\"]== \"CHEMBL2361370\" ][\"Avg Predicted Value\"])",
   "id": "459b5d3e6f789080",
   "outputs": [
    {
     "name": "stderr",
     "output_type": "stream",
     "text": [
      "C:\\Users\\TheSh\\AppData\\Local\\Temp\\ipykernel_12668\\1317350521.py:1: FutureWarning: Calling float on a single element Series is deprecated and will raise a TypeError in the future. Use float(ser.iloc[0]) instead\n",
      "  float(df[df[\"ChEMBL ID\"]== \"CHEMBL2361370\" ][\"Avg Predicted Value\"])\n"
     ]
    },
    {
     "data": {
      "text/plain": [
       "7.419709268156769"
      ]
     },
     "execution_count": 11,
     "metadata": {},
     "output_type": "execute_result"
    }
   ],
   "execution_count": 11
  },
  {
   "metadata": {},
   "cell_type": "code",
   "outputs": [],
   "execution_count": null,
   "source": "",
   "id": "b9400c8d21302389"
  }
 ],
 "metadata": {
  "kernelspec": {
   "display_name": "Python 3",
   "language": "python",
   "name": "python3"
  },
  "language_info": {
   "codemirror_mode": {
    "name": "ipython",
    "version": 2
   },
   "file_extension": ".py",
   "mimetype": "text/x-python",
   "name": "python",
   "nbconvert_exporter": "python",
   "pygments_lexer": "ipython2",
   "version": "2.7.6"
  }
 },
 "nbformat": 4,
 "nbformat_minor": 5
}
