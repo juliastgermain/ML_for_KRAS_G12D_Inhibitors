{
 "cells": [
  {
   "cell_type": "code",
   "id": "initial_id",
   "metadata": {
    "collapsed": true,
    "ExecuteTime": {
     "end_time": "2025-04-03T14:40:49.506417Z",
     "start_time": "2025-04-03T14:40:47.838705Z"
    }
   },
   "source": [
    "import pandas as pd\n",
    "from chembl_webresource_client.new_client import new_client"
   ],
   "outputs": [],
   "execution_count": 1
  },
  {
   "metadata": {
    "ExecuteTime": {
     "end_time": "2025-04-03T15:03:45.922164Z",
     "start_time": "2025-04-03T15:03:45.789885Z"
    }
   },
   "cell_type": "code",
   "source": [
    "df = pd.read_csv(\"C:\\\\Users\\TheSh\\Documents\\Programming_in_Python_Class\\PyCharmProjects\\ML_for_KRAS_G12D_Inhibitors\\\\NN GTPase Code\\\\NN_molecules_Newfeatures_GTPase_KRAS.csv\")\n",
    "df.head()"
   ],
   "id": "e4bf6cd6203b50bd",
   "outputs": [
    {
     "name": "stderr",
     "output_type": "stream",
     "text": [
      "<>:1: SyntaxWarning: invalid escape sequence '\\T'\n",
      "<>:1: SyntaxWarning: invalid escape sequence '\\T'\n",
      "C:\\Users\\TheSh\\AppData\\Local\\Temp\\ipykernel_14316\\1477573848.py:1: SyntaxWarning: invalid escape sequence '\\T'\n",
      "  df = pd.read_csv(\"C:\\\\Users\\TheSh\\Documents\\Programming_in_Python_Class\\PyCharmProjects\\ML_for_KRAS_G12D_Inhibitors\\\\NN GTPase Code\\\\NN_molecules_Newfeatures_GTPase_KRAS.csv\")\n"
     ]
    },
    {
     "data": {
      "text/plain": [
       "   Unnamed: 0      chembl_id          Predicted_Value\n",
       "0           0  CHEMBL4650272  [np.float32(2.3072793)]\n",
       "1           1  CHEMBL1201265  [np.float32(2.3409638)]\n",
       "2           2  CHEMBL5315118  [np.float32(2.6280096)]\n",
       "3           3  CHEMBL1200989  [np.float32(2.7766352)]\n",
       "4           4  CHEMBL1200384  [np.float32(3.0468051)]"
      ],
      "text/html": [
       "<div>\n",
       "<style scoped>\n",
       "    .dataframe tbody tr th:only-of-type {\n",
       "        vertical-align: middle;\n",
       "    }\n",
       "\n",
       "    .dataframe tbody tr th {\n",
       "        vertical-align: top;\n",
       "    }\n",
       "\n",
       "    .dataframe thead th {\n",
       "        text-align: right;\n",
       "    }\n",
       "</style>\n",
       "<table border=\"1\" class=\"dataframe\">\n",
       "  <thead>\n",
       "    <tr style=\"text-align: right;\">\n",
       "      <th></th>\n",
       "      <th>Unnamed: 0</th>\n",
       "      <th>chembl_id</th>\n",
       "      <th>Predicted_Value</th>\n",
       "    </tr>\n",
       "  </thead>\n",
       "  <tbody>\n",
       "    <tr>\n",
       "      <th>0</th>\n",
       "      <td>0</td>\n",
       "      <td>CHEMBL4650272</td>\n",
       "      <td>[np.float32(2.3072793)]</td>\n",
       "    </tr>\n",
       "    <tr>\n",
       "      <th>1</th>\n",
       "      <td>1</td>\n",
       "      <td>CHEMBL1201265</td>\n",
       "      <td>[np.float32(2.3409638)]</td>\n",
       "    </tr>\n",
       "    <tr>\n",
       "      <th>2</th>\n",
       "      <td>2</td>\n",
       "      <td>CHEMBL5315118</td>\n",
       "      <td>[np.float32(2.6280096)]</td>\n",
       "    </tr>\n",
       "    <tr>\n",
       "      <th>3</th>\n",
       "      <td>3</td>\n",
       "      <td>CHEMBL1200989</td>\n",
       "      <td>[np.float32(2.7766352)]</td>\n",
       "    </tr>\n",
       "    <tr>\n",
       "      <th>4</th>\n",
       "      <td>4</td>\n",
       "      <td>CHEMBL1200384</td>\n",
       "      <td>[np.float32(3.0468051)]</td>\n",
       "    </tr>\n",
       "  </tbody>\n",
       "</table>\n",
       "</div>"
      ]
     },
     "execution_count": 31,
     "metadata": {},
     "output_type": "execute_result"
    }
   ],
   "execution_count": 31
  },
  {
   "metadata": {
    "ExecuteTime": {
     "end_time": "2025-04-03T15:04:15.103574Z",
     "start_time": "2025-04-03T15:04:15.012816Z"
    }
   },
   "cell_type": "code",
   "source": [
    "list = []\n",
    "for i in df[\"chembl_id\"]:\n",
    "    molecule = new_client.molecule\n",
    "    m1 = molecule.filter(chembl_id=i).only(\n",
    "        ['molecule_chembl_id', 'pref_name', 'molecule_structures'])\n",
    "    targets = pd.DataFrame.from_dict(m1)\n",
    "    #print(targets['molecule_chembl_id'][0])\n",
    "    if targets['molecule_chembl_id'][0] == i:\n",
    "        list.append([i,targets['pref_name'][0]])\n",
    "        print(i,targets['pref_name'][0])\n",
    "finals_2 = pd.DataFrame(list)"
   ],
   "id": "eef4bd984660eb81",
   "outputs": [
    {
     "name": "stdout",
     "output_type": "stream",
     "text": [
      "CHEMBL4650272 TRILACICLIB DIHYDROCHLORIDE\n",
      "CHEMBL1201265 METHYLPREDNISOLONE HEMISUCCINATE\n",
      "CHEMBL5315118 ILOPROST TROMETHAMINE\n",
      "CHEMBL1200989 ALCLOMETASONE DIPROPIONATE\n",
      "CHEMBL1200384 BETAMETHASONE DIPROPIONATE\n",
      "CHEMBL650 METHYLPREDNISOLONE\n",
      "CHEMBL3989850 ECAMSULE\n",
      "CHEMBL1200545 DIFLORASONE DIACETATE\n",
      "CHEMBL1451116 IODOFORM\n",
      "CHEMBL1339 VARDENAFIL HYDROCHLORIDE\n",
      "CHEMBL389621 HYDROCORTISONE\n"
     ]
    }
   ],
   "execution_count": 34
  },
  {
   "metadata": {
    "ExecuteTime": {
     "end_time": "2025-04-03T14:56:47.249755Z",
     "start_time": "2025-04-03T14:56:47.233008Z"
    }
   },
   "cell_type": "code",
   "source": "finals_2",
   "id": "5ec46449b5d2ed40",
   "outputs": [
    {
     "data": {
      "text/plain": [
       "                0                            1\n",
       "0   CHEMBL1200953     HYDROCORTISONE PROBUTATE\n",
       "1       CHEMBL717  MEDROXYPROGESTERONE ACETATE\n",
       "2   CHEMBL2107389         GESTONORONE CAPROATE\n",
       "3   CHEMBL3707377          SEGESTERONE ACETATE\n",
       "4   CHEMBL1411731  TALAMPICILLIN HYDROCHLORIDE\n",
       "5   CHEMBL1201101       TESTOSTERONE CYPIONATE\n",
       "6   CHEMBL1201064      FLUOROMETHOLONE ACETATE\n",
       "7   CHEMBL1200975        CLOCORTOLONE PIVALATE\n",
       "8   CHEMBL1201749                DIFLUPREDNATE\n",
       "9   CHEMBL1200545        DIFLORASONE DIACETATE\n",
       "10     CHEMBL1456        MYCOPHENOLATE MOFETIL"
      ],
      "text/html": [
       "<div>\n",
       "<style scoped>\n",
       "    .dataframe tbody tr th:only-of-type {\n",
       "        vertical-align: middle;\n",
       "    }\n",
       "\n",
       "    .dataframe tbody tr th {\n",
       "        vertical-align: top;\n",
       "    }\n",
       "\n",
       "    .dataframe thead th {\n",
       "        text-align: right;\n",
       "    }\n",
       "</style>\n",
       "<table border=\"1\" class=\"dataframe\">\n",
       "  <thead>\n",
       "    <tr style=\"text-align: right;\">\n",
       "      <th></th>\n",
       "      <th>0</th>\n",
       "      <th>1</th>\n",
       "    </tr>\n",
       "  </thead>\n",
       "  <tbody>\n",
       "    <tr>\n",
       "      <th>0</th>\n",
       "      <td>CHEMBL1200953</td>\n",
       "      <td>HYDROCORTISONE PROBUTATE</td>\n",
       "    </tr>\n",
       "    <tr>\n",
       "      <th>1</th>\n",
       "      <td>CHEMBL717</td>\n",
       "      <td>MEDROXYPROGESTERONE ACETATE</td>\n",
       "    </tr>\n",
       "    <tr>\n",
       "      <th>2</th>\n",
       "      <td>CHEMBL2107389</td>\n",
       "      <td>GESTONORONE CAPROATE</td>\n",
       "    </tr>\n",
       "    <tr>\n",
       "      <th>3</th>\n",
       "      <td>CHEMBL3707377</td>\n",
       "      <td>SEGESTERONE ACETATE</td>\n",
       "    </tr>\n",
       "    <tr>\n",
       "      <th>4</th>\n",
       "      <td>CHEMBL1411731</td>\n",
       "      <td>TALAMPICILLIN HYDROCHLORIDE</td>\n",
       "    </tr>\n",
       "    <tr>\n",
       "      <th>5</th>\n",
       "      <td>CHEMBL1201101</td>\n",
       "      <td>TESTOSTERONE CYPIONATE</td>\n",
       "    </tr>\n",
       "    <tr>\n",
       "      <th>6</th>\n",
       "      <td>CHEMBL1201064</td>\n",
       "      <td>FLUOROMETHOLONE ACETATE</td>\n",
       "    </tr>\n",
       "    <tr>\n",
       "      <th>7</th>\n",
       "      <td>CHEMBL1200975</td>\n",
       "      <td>CLOCORTOLONE PIVALATE</td>\n",
       "    </tr>\n",
       "    <tr>\n",
       "      <th>8</th>\n",
       "      <td>CHEMBL1201749</td>\n",
       "      <td>DIFLUPREDNATE</td>\n",
       "    </tr>\n",
       "    <tr>\n",
       "      <th>9</th>\n",
       "      <td>CHEMBL1200545</td>\n",
       "      <td>DIFLORASONE DIACETATE</td>\n",
       "    </tr>\n",
       "    <tr>\n",
       "      <th>10</th>\n",
       "      <td>CHEMBL1456</td>\n",
       "      <td>MYCOPHENOLATE MOFETIL</td>\n",
       "    </tr>\n",
       "  </tbody>\n",
       "</table>\n",
       "</div>"
      ]
     },
     "execution_count": 25,
     "metadata": {},
     "output_type": "execute_result"
    }
   ],
   "execution_count": 25
  },
  {
   "metadata": {},
   "cell_type": "code",
   "outputs": [],
   "execution_count": null,
   "source": "",
   "id": "10e96fe07a463f85"
  }
 ],
 "metadata": {
  "kernelspec": {
   "display_name": "Python 3",
   "language": "python",
   "name": "python3"
  },
  "language_info": {
   "codemirror_mode": {
    "name": "ipython",
    "version": 2
   },
   "file_extension": ".py",
   "mimetype": "text/x-python",
   "name": "python",
   "nbconvert_exporter": "python",
   "pygments_lexer": "ipython2",
   "version": "2.7.6"
  }
 },
 "nbformat": 4,
 "nbformat_minor": 5
}
