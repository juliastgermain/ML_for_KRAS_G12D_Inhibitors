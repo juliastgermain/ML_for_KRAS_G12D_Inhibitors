{
 "cells": [
  {
   "metadata": {},
   "cell_type": "code",
   "outputs": [],
   "execution_count": null,
   "source": [
    "import pandas as pd\n",
    "from chembl_webresource_client.new_client import new_client"
   ],
   "id": "6de4a8fca06dc91"
  },
  {
   "metadata": {},
   "cell_type": "code",
   "outputs": [],
   "execution_count": null,
   "source": [
    "df = pd.read_csv(\"C:\\\\Users\\TheSh\\Documents\\Programming_in_Python_Class\\PyCharmProjects\\ML_for_KRAS_G12D_Inhibitors\\RF gtpase code\\RF_molecules_Newfeatures_GTPase_KRas.csv\")\n",
    "df.head()"
   ],
   "id": "328244d119158dd8"
  },
  {
   "metadata": {},
   "cell_type": "code",
   "outputs": [],
   "execution_count": null,
   "source": [
    "list = []\n",
    "for i in df[\"ChEMBL ID\"]:\n",
    "    molecule = new_client.molecule\n",
    "    m1 = molecule.filter(chembl_id=i).only(\n",
    "        ['molecule_chembl_id', 'pref_name', 'molecule_structures'])\n",
    "    targets = pd.DataFrame.from_dict(m1)\n",
    "    #print(targets['molecule_chembl_id'][0])\n",
    "    if targets['molecule_chembl_id'][0] == i:\n",
    "        list.append([i,targets['pref_name'][0]])\n",
    "        print(i,targets['pref_name'][0])\n",
    "finals_2 = pd.DataFrame(list)"
   ],
   "id": "3a7896a6c0ac9822"
  },
  {
   "metadata": {},
   "cell_type": "code",
   "outputs": [],
   "execution_count": null,
   "source": "finals_2",
   "id": "703620f1587a49c"
  },
  {
   "metadata": {},
   "cell_type": "code",
   "outputs": [],
   "execution_count": null,
   "source": "",
   "id": "10db68453a81b4e1"
  }
 ],
 "metadata": {
  "kernelspec": {
   "display_name": "Python 3",
   "language": "python",
   "name": "python3"
  },
  "language_info": {
   "codemirror_mode": {
    "name": "ipython",
    "version": 2
   },
   "file_extension": ".py",
   "mimetype": "text/x-python",
   "name": "python",
   "nbconvert_exporter": "python",
   "pygments_lexer": "ipython2",
   "version": "2.7.6"
  }
 },
 "nbformat": 4,
 "nbformat_minor": 5
}
