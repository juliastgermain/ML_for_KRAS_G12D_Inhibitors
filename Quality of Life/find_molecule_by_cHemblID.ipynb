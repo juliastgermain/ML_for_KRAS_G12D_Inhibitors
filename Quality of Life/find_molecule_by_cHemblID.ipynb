{
 "cells": [
  {
   "metadata": {
    "ExecuteTime": {
     "end_time": "2025-05-07T09:14:59.150890Z",
     "start_time": "2025-05-07T09:14:56.919619Z"
    }
   },
   "cell_type": "code",
   "source": [
    "import pandas as pd\n",
    "import numpy as np\n",
    "from chembl_webresource_client.new_client import new_client"
   ],
   "id": "6de4a8fca06dc91",
   "outputs": [],
   "execution_count": 2
  },
  {
   "metadata": {
    "ExecuteTime": {
     "end_time": "2025-05-07T09:38:51.850863Z",
     "start_time": "2025-05-07T09:38:51.839428Z"
    }
   },
   "cell_type": "code",
   "source": [
    "columns_rf = [\"ChEMBL ID\",\"Frequency\",\"Avg Predicted Value\"]\n",
    "GRF = pd.read_csv(\"C:\\\\Users\\TheSh\\Documents\\Programming_in_Python_Class\\PyCharmProjects\\ML_for_KRAS_G12D_Inhibitors\\RF gtpase code\\\\25.5.0_RF_molecules_Newfeatures_GTPase_KRas.csv\")\n",
    "CRF = pd.read_csv(\"C:\\\\Users\\TheSh\\Documents\\Programming_in_Python_Class\\PyCharmProjects\\ML_for_KRAS_G12D_Inhibitors\\RF G12C Code\\\\25.5.7_RF_molecules_Newfeatures_G12C_trial.csv\")\n",
    "DRF = pd.read_csv(\"C:\\\\Users\\TheSh\\Documents\\Programming_in_Python_Class\\PyCharmProjects\\ML_for_KRAS_G12D_Inhibitors\\RF G12D code\\\\25.5.7_Final_molecules_RF_G12D.csv\", names=columns_rf)\n",
    "GNN = pd.read_csv(\"C:\\\\Users\\TheSh\\Documents\\Programming_in_Python_Class\\PyCharmProjects\\ML_for_KRAS_G12D_Inhibitors\\\\NN GTPase Code\\\\25.5.0_NN_molecules_Newfeatures_GTPase_KRAS.csv\")\n",
    "CNN = pd.read_csv(\"C:\\\\Users\\TheSh\\Documents\\Programming_in_Python_Class\\PyCharmProjects\\ML_for_KRAS_G12D_Inhibitors\\\\NN G12C Code\\\\25.5.7_NN_molecules_Newfeatures_G12C.csv\")\n",
    "DNN = pd.read_csv(\"C:\\\\Users\\TheSh\\Documents\\Programming_in_Python_Class\\PyCharmProjects\\ML_for_KRAS_G12D_Inhibitors\\\\NN G12D Code\\\\25.5.5_NN_molecules_Newfeatures_G12D_new.csv\")"
   ],
   "id": "4d1b409bb1b52e54",
   "outputs": [],
   "execution_count": 13
  },
  {
   "metadata": {
    "ExecuteTime": {
     "end_time": "2025-05-07T09:38:54.196118Z",
     "start_time": "2025-05-07T09:38:54.183063Z"
    }
   },
   "cell_type": "code",
   "source": [
    "# use this to convert the Neural Network pIC50 values to floats in the dataframe\n",
    "GNN[\"Predicted_Value\"] = GNN[\"Predicted_Value\"].str.extract(r'np\\.float32\\((.*?)\\)')[0].astype(float)\n",
    "CNN[\"Predicted_Value\"] = CNN[\"Predicted_Value\"].str.extract(r'np\\.float32\\((.*?)\\)')[0].astype(float)\n",
    "DNN[\"Predicted_Value\"] = DNN[\"Predicted_Value\"].str.extract(r'np\\.float32\\((.*?)\\)')[0].astype(float)\n",
    "#DNN[\"Predicted_Value\"] = DNN[\"Predicted_Value\"].str.extract(r'\\[(.*?)\\]')[0].astype(float)\n",
    "\n",
    "\n",
    "# and also drop the Unnamed: 0 column\n",
    "GNN = GNN.drop([\"Unnamed: 0\"], axis=1)\n",
    "CNN = CNN.drop([\"Unnamed: 0\"], axis=1)\n",
    "DNN = DNN.drop([\"Unnamed: 0\"], axis=1)\n",
    "CNN.head()"
   ],
   "id": "65f295b2f9602d06",
   "outputs": [
    {
     "data": {
      "text/plain": [
       "       chembl_id  Predicted_Value\n",
       "0  CHEMBL3301603         8.891777\n",
       "1  CHEMBL1088977         7.537722\n",
       "2     CHEMBL1750         7.266871\n",
       "3  CHEMBL2218878         7.188524\n",
       "4  CHEMBL3348963         7.135389"
      ],
      "text/html": [
       "<div>\n",
       "<style scoped>\n",
       "    .dataframe tbody tr th:only-of-type {\n",
       "        vertical-align: middle;\n",
       "    }\n",
       "\n",
       "    .dataframe tbody tr th {\n",
       "        vertical-align: top;\n",
       "    }\n",
       "\n",
       "    .dataframe thead th {\n",
       "        text-align: right;\n",
       "    }\n",
       "</style>\n",
       "<table border=\"1\" class=\"dataframe\">\n",
       "  <thead>\n",
       "    <tr style=\"text-align: right;\">\n",
       "      <th></th>\n",
       "      <th>chembl_id</th>\n",
       "      <th>Predicted_Value</th>\n",
       "    </tr>\n",
       "  </thead>\n",
       "  <tbody>\n",
       "    <tr>\n",
       "      <th>0</th>\n",
       "      <td>CHEMBL3301603</td>\n",
       "      <td>8.891777</td>\n",
       "    </tr>\n",
       "    <tr>\n",
       "      <th>1</th>\n",
       "      <td>CHEMBL1088977</td>\n",
       "      <td>7.537722</td>\n",
       "    </tr>\n",
       "    <tr>\n",
       "      <th>2</th>\n",
       "      <td>CHEMBL1750</td>\n",
       "      <td>7.266871</td>\n",
       "    </tr>\n",
       "    <tr>\n",
       "      <th>3</th>\n",
       "      <td>CHEMBL2218878</td>\n",
       "      <td>7.188524</td>\n",
       "    </tr>\n",
       "    <tr>\n",
       "      <th>4</th>\n",
       "      <td>CHEMBL3348963</td>\n",
       "      <td>7.135389</td>\n",
       "    </tr>\n",
       "  </tbody>\n",
       "</table>\n",
       "</div>"
      ]
     },
     "execution_count": 14,
     "metadata": {},
     "output_type": "execute_result"
    }
   ],
   "execution_count": 14
  },
  {
   "metadata": {
    "ExecuteTime": {
     "end_time": "2025-05-07T09:38:56.288991Z",
     "start_time": "2025-05-07T09:38:56.277553Z"
    }
   },
   "cell_type": "code",
   "source": [
    "# drop column frequency for Random Forest\n",
    "GRF = GRF.drop([\"Frequency\"], axis=1)\n",
    "DRF = DRF.drop([\"Frequency\"], axis=1)\n",
    "CRF = CRF.drop([\"Frequency\"], axis=1)\n",
    "\n",
    "# rename them to fit Neural Network convention\n",
    "GRF.rename(columns={\"ChEMBL ID\": \"chembl_id\", \"Avg Predicted Value\": \"Predicted_Value\"}, inplace=True)\n",
    "DRF.rename(columns={\"ChEMBL ID\": \"chembl_id\", \"Avg Predicted Value\": \"Predicted_Value\"}, inplace=True)\n",
    "CRF.rename(columns={\"ChEMBL ID\": \"chembl_id\", \"Avg Predicted Value\": \"Predicted_Value\"}, inplace=True)\n",
    "GRF.head()"
   ],
   "id": "e3a0a3cf8c44a229",
   "outputs": [
    {
     "data": {
      "text/plain": [
       "       chembl_id  Predicted_Value\n",
       "0  CHEMBL4594350         8.106427\n",
       "1  CHEMBL2359966         7.497036\n",
       "2  CHEMBL2361370         7.419709\n",
       "3  CHEMBL3989958         7.372708\n",
       "4  CHEMBL3707183         7.497036"
      ],
      "text/html": [
       "<div>\n",
       "<style scoped>\n",
       "    .dataframe tbody tr th:only-of-type {\n",
       "        vertical-align: middle;\n",
       "    }\n",
       "\n",
       "    .dataframe tbody tr th {\n",
       "        vertical-align: top;\n",
       "    }\n",
       "\n",
       "    .dataframe thead th {\n",
       "        text-align: right;\n",
       "    }\n",
       "</style>\n",
       "<table border=\"1\" class=\"dataframe\">\n",
       "  <thead>\n",
       "    <tr style=\"text-align: right;\">\n",
       "      <th></th>\n",
       "      <th>chembl_id</th>\n",
       "      <th>Predicted_Value</th>\n",
       "    </tr>\n",
       "  </thead>\n",
       "  <tbody>\n",
       "    <tr>\n",
       "      <th>0</th>\n",
       "      <td>CHEMBL4594350</td>\n",
       "      <td>8.106427</td>\n",
       "    </tr>\n",
       "    <tr>\n",
       "      <th>1</th>\n",
       "      <td>CHEMBL2359966</td>\n",
       "      <td>7.497036</td>\n",
       "    </tr>\n",
       "    <tr>\n",
       "      <th>2</th>\n",
       "      <td>CHEMBL2361370</td>\n",
       "      <td>7.419709</td>\n",
       "    </tr>\n",
       "    <tr>\n",
       "      <th>3</th>\n",
       "      <td>CHEMBL3989958</td>\n",
       "      <td>7.372708</td>\n",
       "    </tr>\n",
       "    <tr>\n",
       "      <th>4</th>\n",
       "      <td>CHEMBL3707183</td>\n",
       "      <td>7.497036</td>\n",
       "    </tr>\n",
       "  </tbody>\n",
       "</table>\n",
       "</div>"
      ]
     },
     "execution_count": 15,
     "metadata": {},
     "output_type": "execute_result"
    }
   ],
   "execution_count": 15
  },
  {
   "metadata": {
    "ExecuteTime": {
     "end_time": "2025-05-07T09:38:59.642766Z",
     "start_time": "2025-05-07T09:38:59.636463Z"
    }
   },
   "cell_type": "code",
   "source": [
    "df_set = {\n",
    "  \"Gtpase Random Forest\": GRF,\n",
    "  \"G12C Random Forest\": CRF,\n",
    "  \"G12D Random Forest\": DRF,\n",
    "  \"Gtpase Neural Network\": GNN,\n",
    "  \"G12C Neural Network\": CNN,\n",
    "  \"G12D Neural Network\": DNN\n",
    "}"
   ],
   "id": "fb735e49baba47bc",
   "outputs": [],
   "execution_count": 16
  },
  {
   "metadata": {
    "ExecuteTime": {
     "end_time": "2025-05-07T09:39:08.034247Z",
     "start_time": "2025-05-07T09:39:01.175372Z"
    }
   },
   "cell_type": "code",
   "source": [
    "list = []\n",
    "for key, value in df_set.items():\n",
    "    list.append([key, \" \",\" \"])\n",
    "    df = value\n",
    "    for i in df[\"chembl_id\"]:\n",
    "        molecule = new_client.molecule\n",
    "        m1 = molecule.filter(chembl_id=i).only(\n",
    "            ['molecule_chembl_id', 'pref_name', 'molecule_structures'])\n",
    "        targets = pd.DataFrame.from_dict(m1)\n",
    "        #print(targets['molecule_chembl_id'][0])\n",
    "        if targets['molecule_chembl_id'][0] == i:\n",
    "            list.append([i,targets['pref_name'][0],float(df.loc[df[\"chembl_id\"]== i ][\"Predicted_Value\"].values[0])])\n",
    "            # print(i,targets['pref_name'][0],df[df[\"chembl_id\"]== i ][\"Predicted_Value\"].values[0])\n",
    "    list.append([\" \", \" \",\" \"])"
   ],
   "id": "bed3c7c3ac8ec31c",
   "outputs": [],
   "execution_count": 17
  },
  {
   "metadata": {
    "ExecuteTime": {
     "end_time": "2025-05-07T09:39:09.134921Z",
     "start_time": "2025-05-07T09:39:09.124512Z"
    }
   },
   "cell_type": "code",
   "source": "list",
   "id": "e6ebe920457e5aa",
   "outputs": [
    {
     "data": {
      "text/plain": [
       "[['Gtpase Random Forest', ' ', ' '],\n",
       " ['CHEMBL4594350', 'ADAGRASIB', 8.106427136975098],\n",
       " ['CHEMBL2359966', 'QUININE SULFATE', 7.497035616770629],\n",
       " ['CHEMBL2361370', 'PENBUTOLOL SULFATE', 7.419709268156769],\n",
       " ['CHEMBL3989958', 'IVOSIDENIB', 7.372708472127514],\n",
       " ['CHEMBL3707183', 'QUINIDINE SULFATE', 7.497035616770629],\n",
       " ['CHEMBL4297091', 'CODEINE SULFATE', 7.425687232920642],\n",
       " ['CHEMBL3187985', 'APOMORPHINE HYDROCHLORIDE', 7.257022141325173],\n",
       " ['CHEMBL2103744', 'MORPHINE SULFATE', 7.2252363553078975],\n",
       " ['CHEMBL3183409', 'APALUTAMIDE', 7.217008092870295],\n",
       " ['CHEMBL4535757', 'SOTORASIB', 7.173295985258044],\n",
       " [' ', ' ', ' '],\n",
       " ['G12C Random Forest', ' ', ' '],\n",
       " ['CHEMBL186', 'CEFEPIME', 7.560583672313528],\n",
       " ['CHEMBL1200962', 'CEFEPIME HYDROCHLORIDE', 7.563626799697784],\n",
       " ['CHEMBL1201163', 'SUFENTANIL CITRATE', 7.17339856304644],\n",
       " ['CHEMBL3187246', 'METHAPYRILENE FUMARATE', 7.259904943281607],\n",
       " ['CHEMBL658', 'SUFENTANIL', 7.0408322787311945],\n",
       " ['CHEMBL2105458', 'THENALIDINE', 7.039106467127779],\n",
       " ['CHEMBL534', 'KETOTIFEN', 7.023874215586297],\n",
       " ['CHEMBL2364629', 'RIMEGEPANT SULFATE', 7.065957400092838],\n",
       " ['CHEMBL4594293', 'ACALABRUTINIB MALEATE', 6.963268857204191],\n",
       " ['CHEMBL1633', 'KETOTIFEN FUMARATE', 7.014363909549632],\n",
       " [' ', ' ', ' '],\n",
       " ['G12D Random Forest', ' ', ' '],\n",
       " ['CHEMBL493', 'BROMOCRIPTINE', 7.804625],\n",
       " ['CHEMBL4297066', 'ELIGLUSTAT TARTRATE', 7.669139],\n",
       " ['CHEMBL1200503', 'BROMOCRIPTINE MESYLATE', 7.863023],\n",
       " ['CHEMBL1668', 'RESCINNAMINE', 7.762681],\n",
       " ['CHEMBL1200722', 'PIPECURONIUM BROMIDE', 7.769046],\n",
       " ['CHEMBL772', 'RESERPINE', 7.604386],\n",
       " ['CHEMBL2105891', 'PHYSOSTIGMINE SULFATE', 7.545276],\n",
       " ['CHEMBL1200648', 'ROCURONIUM BROMIDE', 7.574692],\n",
       " ['CHEMBL1737', 'SILDENAFIL CITRATE', 7.55759],\n",
       " ['CHEMBL1201206', 'PIPECURONIUM', 7.422963],\n",
       " [' ', ' ', ' '],\n",
       " ['Gtpase Neural Network', ' ', ' '],\n",
       " ['CHEMBL2146883', 'COBIMETINIB', 8.95349],\n",
       " ['CHEMBL3301603', 'GILTERITINIB FUMARATE', 7.759499],\n",
       " ['CHEMBL1200678', 'ATAZANAVIR SULFATE', 7.5652604],\n",
       " ['CHEMBL1668', 'RESCINNAMINE', 7.5329623],\n",
       " ['CHEMBL3348963', 'TELOTRISTAT ETIPRATE', 7.1994147],\n",
       " ['CHEMBL1201244', 'ROCURONIUM', 6.9268174],\n",
       " ['CHEMBL6966', 'VERAPAMIL', 6.3693757],\n",
       " ['CHEMBL282724', 'SITAXENTAN', 5.7964606],\n",
       " ['CHEMBL2040682', 'CICLESONIDE', 5.6234417],\n",
       " ['CHEMBL3218576', 'COPANLISIB', 5.4535313],\n",
       " ['CHEMBL1678', 'DONEPEZIL HYDROCHLORIDE', 5.4348316],\n",
       " [' ', ' ', ' '],\n",
       " ['G12C Neural Network', ' ', ' '],\n",
       " ['CHEMBL3301603', 'GILTERITINIB FUMARATE', 8.891777],\n",
       " ['CHEMBL1088977', 'ADEMETIONINE', 7.537722],\n",
       " ['CHEMBL1750', 'CLOFARABINE', 7.2668715],\n",
       " ['CHEMBL2218878', 'TRIMETREXATE GLUCURONATE', 7.1885242],\n",
       " ['CHEMBL3348963', 'TELOTRISTAT ETIPRATE', 7.1353893],\n",
       " ['CHEMBL3989695', 'REGADENOSON', 6.97351],\n",
       " ['CHEMBL1619', 'CLADRIBINE', 6.905672],\n",
       " ['CHEMBL1167', 'SPECTINOMYCIN', 6.6144476],\n",
       " ['CHEMBL278623', 'MACIMORELIN', 6.5715756],\n",
       " ['CHEMBL1753', 'CLINDAMYCIN', 6.3678656],\n",
       " ['CHEMBL1349', 'VALACYCLOVIR', 6.146802],\n",
       " [' ', ' ', ' '],\n",
       " ['G12D Neural Network', ' ', ' '],\n",
       " ['CHEMBL1624', 'LEVOTHYROXINE', 7.682719],\n",
       " ['CHEMBL559', 'DEXTROTHYROXINE', 7.6716547],\n",
       " ['CHEMBL3989933', 'ETRASIMOD ARGININE', 6.7378364],\n",
       " ['CHEMBL1201327', 'ACETRIZOIC ACID', 6.7078786],\n",
       " ['CHEMBL2364607', 'COBIMETINIB FUMARATE', 6.664458],\n",
       " ['CHEMBL3989511', 'IOBENGUANE SULFATE I 131', 6.5087504],\n",
       " ['CHEMBL3989523', 'IOBENGUANE SULFATE I 123', 6.5047216],\n",
       " ['CHEMBL2364629', 'RIMEGEPANT SULFATE', 6.412818],\n",
       " ['CHEMBL5315055', 'NALMEFENE HYDROCHLORIDE DIHYDRATE', 6.33625],\n",
       " ['CHEMBL3544986', 'PERINDOPRIL ARGININE', 6.3038526],\n",
       " ['CHEMBL3989543', 'VINDESINE SULFATE', 6.3038473],\n",
       " [' ', ' ', ' ']]"
      ]
     },
     "execution_count": 18,
     "metadata": {},
     "output_type": "execute_result"
    }
   ],
   "execution_count": 18
  },
  {
   "metadata": {
    "ExecuteTime": {
     "end_time": "2025-05-07T09:39:10.188245Z",
     "start_time": "2025-05-07T09:39:10.182227Z"
    }
   },
   "cell_type": "code",
   "source": "final = pd.DataFrame(list)",
   "id": "459b5d3e6f789080",
   "outputs": [],
   "execution_count": 19
  },
  {
   "metadata": {
    "ExecuteTime": {
     "end_time": "2025-05-07T09:39:11.572053Z",
     "start_time": "2025-05-07T09:39:11.564769Z"
    }
   },
   "cell_type": "code",
   "source": "final.head()",
   "id": "39971124250e0987",
   "outputs": [
    {
     "data": {
      "text/plain": [
       "                      0                   1         2\n",
       "0  Gtpase Random Forest                              \n",
       "1         CHEMBL4594350           ADAGRASIB  8.106427\n",
       "2         CHEMBL2359966     QUININE SULFATE  7.497036\n",
       "3         CHEMBL2361370  PENBUTOLOL SULFATE  7.419709\n",
       "4         CHEMBL3989958          IVOSIDENIB  7.372708"
      ],
      "text/html": [
       "<div>\n",
       "<style scoped>\n",
       "    .dataframe tbody tr th:only-of-type {\n",
       "        vertical-align: middle;\n",
       "    }\n",
       "\n",
       "    .dataframe tbody tr th {\n",
       "        vertical-align: top;\n",
       "    }\n",
       "\n",
       "    .dataframe thead th {\n",
       "        text-align: right;\n",
       "    }\n",
       "</style>\n",
       "<table border=\"1\" class=\"dataframe\">\n",
       "  <thead>\n",
       "    <tr style=\"text-align: right;\">\n",
       "      <th></th>\n",
       "      <th>0</th>\n",
       "      <th>1</th>\n",
       "      <th>2</th>\n",
       "    </tr>\n",
       "  </thead>\n",
       "  <tbody>\n",
       "    <tr>\n",
       "      <th>0</th>\n",
       "      <td>Gtpase Random Forest</td>\n",
       "      <td></td>\n",
       "      <td></td>\n",
       "    </tr>\n",
       "    <tr>\n",
       "      <th>1</th>\n",
       "      <td>CHEMBL4594350</td>\n",
       "      <td>ADAGRASIB</td>\n",
       "      <td>8.106427</td>\n",
       "    </tr>\n",
       "    <tr>\n",
       "      <th>2</th>\n",
       "      <td>CHEMBL2359966</td>\n",
       "      <td>QUININE SULFATE</td>\n",
       "      <td>7.497036</td>\n",
       "    </tr>\n",
       "    <tr>\n",
       "      <th>3</th>\n",
       "      <td>CHEMBL2361370</td>\n",
       "      <td>PENBUTOLOL SULFATE</td>\n",
       "      <td>7.419709</td>\n",
       "    </tr>\n",
       "    <tr>\n",
       "      <th>4</th>\n",
       "      <td>CHEMBL3989958</td>\n",
       "      <td>IVOSIDENIB</td>\n",
       "      <td>7.372708</td>\n",
       "    </tr>\n",
       "  </tbody>\n",
       "</table>\n",
       "</div>"
      ]
     },
     "execution_count": 20,
     "metadata": {},
     "output_type": "execute_result"
    }
   ],
   "execution_count": 20
  },
  {
   "metadata": {
    "ExecuteTime": {
     "end_time": "2025-05-07T09:39:14.747556Z",
     "start_time": "2025-05-07T09:39:14.080740Z"
    }
   },
   "cell_type": "code",
   "source": [
    "import datetime\n",
    "final.to_excel(\"{}list_for_risha.xlsx\".format(datetime.datetime.now().strftime(\"%y.%m.%d_\")) , index=False)\n"
   ],
   "id": "c48b50b0772146fd",
   "outputs": [],
   "execution_count": 21
  },
  {
   "metadata": {
    "ExecuteTime": {
     "end_time": "2025-05-07T09:49:11.907956Z",
     "start_time": "2025-05-07T09:49:11.866952Z"
    }
   },
   "cell_type": "code",
   "source": [
    "risha_list_names = [\"ChEMBL ID\", \"Molecule Name\", \"pIC50\"]\n",
    "old_risha = pd.read_excel(\"list_for_risha(1).xlsx\", names = risha_list_names)\n",
    "new_risha = pd.read_excel(\"25.05.07_list_for_risha.xlsx\", names = risha_list_names)"
   ],
   "id": "7c0fde85b91403ed",
   "outputs": [],
   "execution_count": 34
  },
  {
   "metadata": {
    "ExecuteTime": {
     "end_time": "2025-05-07T09:49:12.285517Z",
     "start_time": "2025-05-07T09:49:12.267867Z"
    }
   },
   "cell_type": "code",
   "source": [
    "new_risha[\"same as before\"] = \"\"\n",
    "i = 0\n",
    "for chembl_id in new_risha[\"ChEMBL ID\"]:\n",
    "    if chembl_id == old_risha[\"ChEMBL ID\"][i]:\n",
    "        new_risha.loc[i, \"same as before\"] = \"Yes\"\n",
    "        i += 1\n",
    "    else:\n",
    "        # new_risha[\"same as before\"][i] = \"No\"\n",
    "        new_risha.loc[i, \"same as before\"] = \"No\"\n",
    "        i += 1"
   ],
   "id": "59d791776589079d",
   "outputs": [],
   "execution_count": 35
  },
  {
   "metadata": {
    "ExecuteTime": {
     "end_time": "2025-05-07T09:49:13.199374Z",
     "start_time": "2025-05-07T09:49:13.190386Z"
    }
   },
   "cell_type": "code",
   "source": "new_risha",
   "id": "5ec7ebc8d6f2541c",
   "outputs": [
    {
     "data": {
      "text/plain": [
       "               ChEMBL ID                      Molecule Name     pIC50  \\\n",
       "0   Gtpase Random Forest                                                \n",
       "1          CHEMBL4594350                          ADAGRASIB  8.106427   \n",
       "2          CHEMBL2359966                    QUININE SULFATE  7.497036   \n",
       "3          CHEMBL2361370                 PENBUTOLOL SULFATE  7.419709   \n",
       "4          CHEMBL3989958                         IVOSIDENIB  7.372708   \n",
       "..                   ...                                ...       ...   \n",
       "70         CHEMBL2364629                 RIMEGEPANT SULFATE  6.412818   \n",
       "71         CHEMBL5315055  NALMEFENE HYDROCHLORIDE DIHYDRATE   6.33625   \n",
       "72         CHEMBL3544986               PERINDOPRIL ARGININE  6.303853   \n",
       "73         CHEMBL3989543                  VINDESINE SULFATE  6.303847   \n",
       "74                                                                      \n",
       "\n",
       "   same as before  \n",
       "0             Yes  \n",
       "1             Yes  \n",
       "2             Yes  \n",
       "3             Yes  \n",
       "4             Yes  \n",
       "..            ...  \n",
       "70            Yes  \n",
       "71            Yes  \n",
       "72            Yes  \n",
       "73            Yes  \n",
       "74            Yes  \n",
       "\n",
       "[75 rows x 4 columns]"
      ],
      "text/html": [
       "<div>\n",
       "<style scoped>\n",
       "    .dataframe tbody tr th:only-of-type {\n",
       "        vertical-align: middle;\n",
       "    }\n",
       "\n",
       "    .dataframe tbody tr th {\n",
       "        vertical-align: top;\n",
       "    }\n",
       "\n",
       "    .dataframe thead th {\n",
       "        text-align: right;\n",
       "    }\n",
       "</style>\n",
       "<table border=\"1\" class=\"dataframe\">\n",
       "  <thead>\n",
       "    <tr style=\"text-align: right;\">\n",
       "      <th></th>\n",
       "      <th>ChEMBL ID</th>\n",
       "      <th>Molecule Name</th>\n",
       "      <th>pIC50</th>\n",
       "      <th>same as before</th>\n",
       "    </tr>\n",
       "  </thead>\n",
       "  <tbody>\n",
       "    <tr>\n",
       "      <th>0</th>\n",
       "      <td>Gtpase Random Forest</td>\n",
       "      <td></td>\n",
       "      <td></td>\n",
       "      <td>Yes</td>\n",
       "    </tr>\n",
       "    <tr>\n",
       "      <th>1</th>\n",
       "      <td>CHEMBL4594350</td>\n",
       "      <td>ADAGRASIB</td>\n",
       "      <td>8.106427</td>\n",
       "      <td>Yes</td>\n",
       "    </tr>\n",
       "    <tr>\n",
       "      <th>2</th>\n",
       "      <td>CHEMBL2359966</td>\n",
       "      <td>QUININE SULFATE</td>\n",
       "      <td>7.497036</td>\n",
       "      <td>Yes</td>\n",
       "    </tr>\n",
       "    <tr>\n",
       "      <th>3</th>\n",
       "      <td>CHEMBL2361370</td>\n",
       "      <td>PENBUTOLOL SULFATE</td>\n",
       "      <td>7.419709</td>\n",
       "      <td>Yes</td>\n",
       "    </tr>\n",
       "    <tr>\n",
       "      <th>4</th>\n",
       "      <td>CHEMBL3989958</td>\n",
       "      <td>IVOSIDENIB</td>\n",
       "      <td>7.372708</td>\n",
       "      <td>Yes</td>\n",
       "    </tr>\n",
       "    <tr>\n",
       "      <th>...</th>\n",
       "      <td>...</td>\n",
       "      <td>...</td>\n",
       "      <td>...</td>\n",
       "      <td>...</td>\n",
       "    </tr>\n",
       "    <tr>\n",
       "      <th>70</th>\n",
       "      <td>CHEMBL2364629</td>\n",
       "      <td>RIMEGEPANT SULFATE</td>\n",
       "      <td>6.412818</td>\n",
       "      <td>Yes</td>\n",
       "    </tr>\n",
       "    <tr>\n",
       "      <th>71</th>\n",
       "      <td>CHEMBL5315055</td>\n",
       "      <td>NALMEFENE HYDROCHLORIDE DIHYDRATE</td>\n",
       "      <td>6.33625</td>\n",
       "      <td>Yes</td>\n",
       "    </tr>\n",
       "    <tr>\n",
       "      <th>72</th>\n",
       "      <td>CHEMBL3544986</td>\n",
       "      <td>PERINDOPRIL ARGININE</td>\n",
       "      <td>6.303853</td>\n",
       "      <td>Yes</td>\n",
       "    </tr>\n",
       "    <tr>\n",
       "      <th>73</th>\n",
       "      <td>CHEMBL3989543</td>\n",
       "      <td>VINDESINE SULFATE</td>\n",
       "      <td>6.303847</td>\n",
       "      <td>Yes</td>\n",
       "    </tr>\n",
       "    <tr>\n",
       "      <th>74</th>\n",
       "      <td></td>\n",
       "      <td></td>\n",
       "      <td></td>\n",
       "      <td>Yes</td>\n",
       "    </tr>\n",
       "  </tbody>\n",
       "</table>\n",
       "<p>75 rows × 4 columns</p>\n",
       "</div>"
      ]
     },
     "execution_count": 36,
     "metadata": {},
     "output_type": "execute_result"
    }
   ],
   "execution_count": 36
  },
  {
   "metadata": {
    "ExecuteTime": {
     "end_time": "2025-05-07T09:49:49.816550Z",
     "start_time": "2025-05-07T09:49:49.759614Z"
    }
   },
   "cell_type": "code",
   "source": "new_risha.to_excel(\"{}list_for_risha_compared.xlsx\".format(datetime.datetime.now().strftime(\"%y.%m.%d_\")) , index=False)",
   "id": "44111054f9c2f592",
   "outputs": [],
   "execution_count": 37
  },
  {
   "metadata": {},
   "cell_type": "code",
   "outputs": [],
   "execution_count": null,
   "source": "",
   "id": "21c4d165901c429a"
  }
 ],
 "metadata": {
  "kernelspec": {
   "display_name": "Python 3",
   "language": "python",
   "name": "python3"
  },
  "language_info": {
   "codemirror_mode": {
    "name": "ipython",
    "version": 2
   },
   "file_extension": ".py",
   "mimetype": "text/x-python",
   "name": "python",
   "nbconvert_exporter": "python",
   "pygments_lexer": "ipython2",
   "version": "2.7.6"
  }
 },
 "nbformat": 4,
 "nbformat_minor": 5
}
