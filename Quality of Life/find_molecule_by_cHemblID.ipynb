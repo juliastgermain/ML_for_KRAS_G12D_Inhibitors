{
 "cells": [
  {
   "metadata": {
    "ExecuteTime": {
     "end_time": "2025-04-13T19:02:47.421183Z",
     "start_time": "2025-04-13T19:02:45.490765Z"
    }
   },
   "cell_type": "code",
   "source": [
    "import pandas as pd\n",
    "from chembl_webresource_client.new_client import new_client"
   ],
   "id": "6de4a8fca06dc91",
   "outputs": [],
   "execution_count": 1
  },
  {
   "metadata": {
    "ExecuteTime": {
     "end_time": "2025-04-13T19:20:43.230258Z",
     "start_time": "2025-04-13T19:20:43.182456Z"
    }
   },
   "cell_type": "code",
   "source": [
    "GRF = pd.read_csv(\"C:\\\\Users\\TheSh\\Documents\\Programming_in_Python_Class\\PyCharmProjects\\ML_for_KRAS_G12D_Inhibitors\\RF gtpase code\\RF_molecules_Newfeatures_GTPase_KRas.csv\")\n",
    "CRF = pd.read_csv(\"C:\\\\Users\\TheSh\\Documents\\Programming_in_Python_Class\\PyCharmProjects\\ML_for_KRAS_G12D_Inhibitors\\RF G12C Code\\RF_molecules_Newfeatures_G12C.csv\")\n",
    "DRF = pd.read_csv(\"C:\\\\Users\\TheSh\\Documents\\Programming_in_Python_Class\\PyCharmProjects\\ML_for_KRAS_G12D_Inhibitors\\RF G12D code\\RF_molecules_Newfeatures_G12D.csv\")\n",
    "GNN = pd.read_csv(\"C:\\\\Users\\TheSh\\Documents\\Programming_in_Python_Class\\PyCharmProjects\\ML_for_KRAS_G12D_Inhibitors\\\\NN GTPase Code\\\\NN_molecules_Newfeatures_GTPase_KRAS.csv\")\n",
    "CNN = pd.read_csv(\"C:\\\\Users\\TheSh\\Documents\\Programming_in_Python_Class\\PyCharmProjects\\ML_for_KRAS_G12D_Inhibitors\\\\NN G12C Code\\\\NN_molecules_Newfeatures_G12C.csv\")\n",
    "DNN = pd.read_csv(\"C:\\\\Users\\TheSh\\Documents\\Programming_in_Python_Class\\PyCharmProjects\\ML_for_KRAS_G12D_Inhibitors\\\\NN G12D Code\\\\NN_molecules_Newfeatures_G12D.csv\")"
   ],
   "id": "4d1b409bb1b52e54",
   "outputs": [
    {
     "name": "stderr",
     "output_type": "stream",
     "text": [
      "<>:1: SyntaxWarning: invalid escape sequence '\\T'\n",
      "<>:2: SyntaxWarning: invalid escape sequence '\\T'\n",
      "<>:3: SyntaxWarning: invalid escape sequence '\\T'\n",
      "<>:4: SyntaxWarning: invalid escape sequence '\\T'\n",
      "<>:5: SyntaxWarning: invalid escape sequence '\\T'\n",
      "<>:6: SyntaxWarning: invalid escape sequence '\\T'\n",
      "<>:1: SyntaxWarning: invalid escape sequence '\\T'\n",
      "<>:2: SyntaxWarning: invalid escape sequence '\\T'\n",
      "<>:3: SyntaxWarning: invalid escape sequence '\\T'\n",
      "<>:4: SyntaxWarning: invalid escape sequence '\\T'\n",
      "<>:5: SyntaxWarning: invalid escape sequence '\\T'\n",
      "<>:6: SyntaxWarning: invalid escape sequence '\\T'\n",
      "C:\\Users\\TheSh\\AppData\\Local\\Temp\\ipykernel_2788\\3473304193.py:1: SyntaxWarning: invalid escape sequence '\\T'\n",
      "  GRF = pd.read_csv(\"C:\\\\Users\\TheSh\\Documents\\Programming_in_Python_Class\\PyCharmProjects\\ML_for_KRAS_G12D_Inhibitors\\RF gtpase code\\RF_molecules_Newfeatures_GTPase_KRas.csv\")\n",
      "C:\\Users\\TheSh\\AppData\\Local\\Temp\\ipykernel_2788\\3473304193.py:2: SyntaxWarning: invalid escape sequence '\\T'\n",
      "  CRF = pd.read_csv(\"C:\\\\Users\\TheSh\\Documents\\Programming_in_Python_Class\\PyCharmProjects\\ML_for_KRAS_G12D_Inhibitors\\RF G12C Code\\RF_molecules_Newfeatures_G12C.csv\")\n",
      "C:\\Users\\TheSh\\AppData\\Local\\Temp\\ipykernel_2788\\3473304193.py:3: SyntaxWarning: invalid escape sequence '\\T'\n",
      "  DRF = pd.read_csv(\"C:\\\\Users\\TheSh\\Documents\\Programming_in_Python_Class\\PyCharmProjects\\ML_for_KRAS_G12D_Inhibitors\\RF G12D code\\RF_molecules_Newfeatures_G12D.csv\")\n",
      "C:\\Users\\TheSh\\AppData\\Local\\Temp\\ipykernel_2788\\3473304193.py:4: SyntaxWarning: invalid escape sequence '\\T'\n",
      "  GNN = pd.read_csv(\"C:\\\\Users\\TheSh\\Documents\\Programming_in_Python_Class\\PyCharmProjects\\ML_for_KRAS_G12D_Inhibitors\\\\NN GTPase Code\\\\NN_molecules_Newfeatures_GTPase_KRAS.csv\")\n",
      "C:\\Users\\TheSh\\AppData\\Local\\Temp\\ipykernel_2788\\3473304193.py:5: SyntaxWarning: invalid escape sequence '\\T'\n",
      "  CNN = pd.read_csv(\"C:\\\\Users\\TheSh\\Documents\\Programming_in_Python_Class\\PyCharmProjects\\ML_for_KRAS_G12D_Inhibitors\\\\NN G12C Code\\\\NN_molecules_Newfeatures_G12C.csv\")\n",
      "C:\\Users\\TheSh\\AppData\\Local\\Temp\\ipykernel_2788\\3473304193.py:6: SyntaxWarning: invalid escape sequence '\\T'\n",
      "  DNN = pd.read_csv(\"C:\\\\Users\\TheSh\\Documents\\Programming_in_Python_Class\\PyCharmProjects\\ML_for_KRAS_G12D_Inhibitors\\\\NN G12D Code\\\\NN_molecules_Newfeatures_G12D.csv\")\n"
     ]
    }
   ],
   "execution_count": 16
  },
  {
   "metadata": {
    "ExecuteTime": {
     "end_time": "2025-04-13T19:21:09.672721Z",
     "start_time": "2025-04-13T19:21:09.662889Z"
    }
   },
   "cell_type": "code",
   "source": [
    "df = DRF\n",
    "df.head()"
   ],
   "id": "7d400a616a49c1f8",
   "outputs": [
    {
     "data": {
      "text/plain": [
       "       ChEMBL ID  Frequency  Avg Predicted Value\n",
       "0  CHEMBL1200866       0.72             7.944964\n",
       "1  CHEMBL1187833       0.54             7.924939\n",
       "2    CHEMBL46286       0.52             7.924906\n",
       "3  CHEMBL3544914       0.50             7.932936\n",
       "4  CHEMBL2448612       0.46             7.922380"
      ],
      "text/html": [
       "<div>\n",
       "<style scoped>\n",
       "    .dataframe tbody tr th:only-of-type {\n",
       "        vertical-align: middle;\n",
       "    }\n",
       "\n",
       "    .dataframe tbody tr th {\n",
       "        vertical-align: top;\n",
       "    }\n",
       "\n",
       "    .dataframe thead th {\n",
       "        text-align: right;\n",
       "    }\n",
       "</style>\n",
       "<table border=\"1\" class=\"dataframe\">\n",
       "  <thead>\n",
       "    <tr style=\"text-align: right;\">\n",
       "      <th></th>\n",
       "      <th>ChEMBL ID</th>\n",
       "      <th>Frequency</th>\n",
       "      <th>Avg Predicted Value</th>\n",
       "    </tr>\n",
       "  </thead>\n",
       "  <tbody>\n",
       "    <tr>\n",
       "      <th>0</th>\n",
       "      <td>CHEMBL1200866</td>\n",
       "      <td>0.72</td>\n",
       "      <td>7.944964</td>\n",
       "    </tr>\n",
       "    <tr>\n",
       "      <th>1</th>\n",
       "      <td>CHEMBL1187833</td>\n",
       "      <td>0.54</td>\n",
       "      <td>7.924939</td>\n",
       "    </tr>\n",
       "    <tr>\n",
       "      <th>2</th>\n",
       "      <td>CHEMBL46286</td>\n",
       "      <td>0.52</td>\n",
       "      <td>7.924906</td>\n",
       "    </tr>\n",
       "    <tr>\n",
       "      <th>3</th>\n",
       "      <td>CHEMBL3544914</td>\n",
       "      <td>0.50</td>\n",
       "      <td>7.932936</td>\n",
       "    </tr>\n",
       "    <tr>\n",
       "      <th>4</th>\n",
       "      <td>CHEMBL2448612</td>\n",
       "      <td>0.46</td>\n",
       "      <td>7.922380</td>\n",
       "    </tr>\n",
       "  </tbody>\n",
       "</table>\n",
       "</div>"
      ]
     },
     "execution_count": 18,
     "metadata": {},
     "output_type": "execute_result"
    }
   ],
   "execution_count": 18
  },
  {
   "metadata": {
    "ExecuteTime": {
     "end_time": "2025-04-13T19:21:17.676107Z",
     "start_time": "2025-04-13T19:21:11.897667Z"
    }
   },
   "cell_type": "code",
   "source": [
    "list = []\n",
    "for i in df[\"ChEMBL ID\"]:\n",
    "    molecule = new_client.molecule\n",
    "    m1 = molecule.filter(chembl_id=i).only(\n",
    "        ['molecule_chembl_id', 'pref_name', 'molecule_structures'])\n",
    "    targets = pd.DataFrame.from_dict(m1)\n",
    "    #print(targets['molecule_chembl_id'][0])\n",
    "    if targets['molecule_chembl_id'][0] == i:\n",
    "        list.append([i,targets['pref_name'][0]])\n",
    "        print(i,\"&\", targets['pref_name'][0],\"\\\\\\\\\\n \\\\hline\")"
   ],
   "id": "bed3c7c3ac8ec31c",
   "outputs": [
    {
     "name": "stdout",
     "output_type": "stream",
     "text": [
      "CHEMBL1200866 & PERFLUBRON \\\\\n",
      " \\hline\n",
      "CHEMBL1187833 & UMECLIDINIUM \\\\\n",
      " \\hline\n",
      "CHEMBL46286 & OMACETAXINE MEPESUCCINATE \\\\\n",
      " \\hline\n",
      "CHEMBL3544914 & TEZACAFTOR \\\\\n",
      " \\hline\n",
      "CHEMBL2448612 & ERGOTAMINE TARTRATE \\\\\n",
      " \\hline\n",
      "CHEMBL2364638 & UBROGEPANT \\\\\n",
      " \\hline\n",
      "CHEMBL3989826 & OXYCODONE TEREPHTHALATE \\\\\n",
      " \\hline\n",
      "CHEMBL575 & METHICILLIN \\\\\n",
      " \\hline\n",
      "CHEMBL5314588 & PERFLUOROHEXYLOCTANE \\\\\n",
      " \\hline\n",
      "CHEMBL523299 & UMECLIDINIUM BROMIDE \\\\\n",
      " \\hline\n"
     ]
    }
   ],
   "execution_count": 19
  },
  {
   "metadata": {
    "ExecuteTime": {
     "end_time": "2025-04-13T19:21:17.686153Z",
     "start_time": "2025-04-13T19:21:17.682865Z"
    }
   },
   "cell_type": "code",
   "source": "",
   "id": "459b5d3e6f789080",
   "outputs": [],
   "execution_count": null
  },
  {
   "metadata": {},
   "cell_type": "code",
   "outputs": [],
   "execution_count": null,
   "source": "",
   "id": "b9400c8d21302389"
  }
 ],
 "metadata": {
  "kernelspec": {
   "display_name": "Python 3",
   "language": "python",
   "name": "python3"
  },
  "language_info": {
   "codemirror_mode": {
    "name": "ipython",
    "version": 2
   },
   "file_extension": ".py",
   "mimetype": "text/x-python",
   "name": "python",
   "nbconvert_exporter": "python",
   "pygments_lexer": "ipython2",
   "version": "2.7.6"
  }
 },
 "nbformat": 4,
 "nbformat_minor": 5
}
