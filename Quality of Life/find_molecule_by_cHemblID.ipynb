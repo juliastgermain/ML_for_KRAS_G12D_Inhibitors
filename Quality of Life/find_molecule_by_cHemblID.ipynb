{
 "cells": [
  {
   "metadata": {
    "ExecuteTime": {
     "end_time": "2025-05-04T14:09:40.543400Z",
     "start_time": "2025-05-04T14:09:39.198808Z"
    }
   },
   "cell_type": "code",
   "source": [
    "import pandas as pd\n",
    "import numpy as np\n",
    "from chembl_webresource_client.new_client import new_client"
   ],
   "id": "6de4a8fca06dc91",
   "outputs": [],
   "execution_count": 1
  },
  {
   "metadata": {
    "ExecuteTime": {
     "end_time": "2025-05-04T14:21:11.905033Z",
     "start_time": "2025-05-04T14:21:11.892175Z"
    }
   },
   "cell_type": "code",
   "source": [
    "GRF = pd.read_csv(\"C:\\\\Users\\TheSh\\Documents\\Programming_in_Python_Class\\PyCharmProjects\\ML_for_KRAS_G12D_Inhibitors\\RF gtpase code\\RF_molecules_Newfeatures_GTPase_KRas.csv\")\n",
    "CRF = pd.read_csv(\"C:\\\\Users\\TheSh\\Documents\\Programming_in_Python_Class\\PyCharmProjects\\ML_for_KRAS_G12D_Inhibitors\\RF G12C Code\\RF_molecules_Newfeatures_G12C.csv\")\n",
    "DRF = pd.read_csv(\"C:\\\\Users\\TheSh\\Documents\\Programming_in_Python_Class\\PyCharmProjects\\ML_for_KRAS_G12D_Inhibitors\\RF G12D code\\RF_molecules_Newfeatures_G12D.csv\")\n",
    "GNN = pd.read_csv(\"C:\\\\Users\\TheSh\\Documents\\Programming_in_Python_Class\\PyCharmProjects\\ML_for_KRAS_G12D_Inhibitors\\\\NN GTPase Code\\\\NN_molecules_Newfeatures_GTPase_KRAS.csv\")\n",
    "CNN = pd.read_csv(\"C:\\\\Users\\TheSh\\Documents\\Programming_in_Python_Class\\PyCharmProjects\\ML_for_KRAS_G12D_Inhibitors\\\\NN G12C Code\\\\NN_molecules_Newfeatures_G12C.csv\")\n",
    "DNN = pd.read_csv(\"C:\\\\Users\\TheSh\\Documents\\Programming_in_Python_Class\\PyCharmProjects\\ML_for_KRAS_G12D_Inhibitors\\\\NN G12D Code\\\\NN_molecules_Newfeatures_G12D(1).csv\")"
   ],
   "id": "4d1b409bb1b52e54",
   "outputs": [],
   "execution_count": 43
  },
  {
   "metadata": {
    "ExecuteTime": {
     "end_time": "2025-05-04T14:21:12.354587Z",
     "start_time": "2025-05-04T14:21:12.340161Z"
    }
   },
   "cell_type": "code",
   "source": [
    "# use this to convert the Neural Network pIC50 values to floats in the dataframe\n",
    "GNN[\"Predicted_Value\"] = GNN[\"Predicted_Value\"].str.extract(r'np\\.float32\\((.*?)\\)')[0].astype(float)\n",
    "CNN[\"Predicted_Value\"] = CNN[\"Predicted_Value\"].str.extract(r'\\[(.*?)\\]')[0].astype(float)\n",
    "DNN[\"Predicted_Value\"] = DNN[\"Predicted_Value\"].str.extract(r'\\[(.*?)\\]')[0].astype(float)\n",
    "\n",
    "# and also drop the Unnamed: 0 column\n",
    "GNN = GNN.drop([\"Unnamed: 0\"], axis=1)\n",
    "CNN = CNN.drop([\"Unnamed: 0\"], axis=1)\n",
    "DNN = DNN.drop([\"Unnamed: 0\"], axis=1)\n",
    "CNN.head()"
   ],
   "id": "65f295b2f9602d06",
   "outputs": [
    {
     "data": {
      "text/plain": [
       "       chembl_id  Predicted_Value\n",
       "0  CHEMBL1200728        10.190047\n",
       "1  CHEMBL2107067         7.760003\n",
       "2     CHEMBL1371         7.448368\n",
       "3      CHEMBL492         5.872513\n",
       "4      CHEMBL878         5.800352"
      ],
      "text/html": [
       "<div>\n",
       "<style scoped>\n",
       "    .dataframe tbody tr th:only-of-type {\n",
       "        vertical-align: middle;\n",
       "    }\n",
       "\n",
       "    .dataframe tbody tr th {\n",
       "        vertical-align: top;\n",
       "    }\n",
       "\n",
       "    .dataframe thead th {\n",
       "        text-align: right;\n",
       "    }\n",
       "</style>\n",
       "<table border=\"1\" class=\"dataframe\">\n",
       "  <thead>\n",
       "    <tr style=\"text-align: right;\">\n",
       "      <th></th>\n",
       "      <th>chembl_id</th>\n",
       "      <th>Predicted_Value</th>\n",
       "    </tr>\n",
       "  </thead>\n",
       "  <tbody>\n",
       "    <tr>\n",
       "      <th>0</th>\n",
       "      <td>CHEMBL1200728</td>\n",
       "      <td>10.190047</td>\n",
       "    </tr>\n",
       "    <tr>\n",
       "      <th>1</th>\n",
       "      <td>CHEMBL2107067</td>\n",
       "      <td>7.760003</td>\n",
       "    </tr>\n",
       "    <tr>\n",
       "      <th>2</th>\n",
       "      <td>CHEMBL1371</td>\n",
       "      <td>7.448368</td>\n",
       "    </tr>\n",
       "    <tr>\n",
       "      <th>3</th>\n",
       "      <td>CHEMBL492</td>\n",
       "      <td>5.872513</td>\n",
       "    </tr>\n",
       "    <tr>\n",
       "      <th>4</th>\n",
       "      <td>CHEMBL878</td>\n",
       "      <td>5.800352</td>\n",
       "    </tr>\n",
       "  </tbody>\n",
       "</table>\n",
       "</div>"
      ]
     },
     "execution_count": 44,
     "metadata": {},
     "output_type": "execute_result"
    }
   ],
   "execution_count": 44
  },
  {
   "metadata": {
    "ExecuteTime": {
     "end_time": "2025-05-04T14:21:21.344401Z",
     "start_time": "2025-05-04T14:21:21.331727Z"
    }
   },
   "cell_type": "code",
   "source": [
    "# drop column frequency for Random Forest\n",
    "GRF = GRF.drop([\"Frequency\"], axis=1)\n",
    "DRF = DRF.drop([\"Frequency\"], axis=1)\n",
    "CRF = CRF.drop([\"Frequency\"], axis=1)\n",
    "\n",
    "# rename them to fit Neural Network convention\n",
    "GRF.rename(columns={\"ChEMBL ID\": \"chembl_id\", \"Avg Predicted Value\": \"Predicted_Value\"}, inplace=True)\n",
    "DRF.rename(columns={\"ChEMBL ID\": \"chembl_id\", \"Avg Predicted Value\": \"Predicted_Value\"}, inplace=True)\n",
    "CRF.rename(columns={\"ChEMBL ID\": \"chembl_id\", \"Avg Predicted Value\": \"Predicted_Value\"}, inplace=True)\n",
    "GRF.head()"
   ],
   "id": "e3a0a3cf8c44a229",
   "outputs": [
    {
     "data": {
      "text/plain": [
       "       chembl_id  Predicted_Value\n",
       "0  CHEMBL4594350         8.106427\n",
       "1  CHEMBL2359966         7.497036\n",
       "2  CHEMBL2361370         7.419709\n",
       "3  CHEMBL3989958         7.372708\n",
       "4  CHEMBL3707183         7.497036"
      ],
      "text/html": [
       "<div>\n",
       "<style scoped>\n",
       "    .dataframe tbody tr th:only-of-type {\n",
       "        vertical-align: middle;\n",
       "    }\n",
       "\n",
       "    .dataframe tbody tr th {\n",
       "        vertical-align: top;\n",
       "    }\n",
       "\n",
       "    .dataframe thead th {\n",
       "        text-align: right;\n",
       "    }\n",
       "</style>\n",
       "<table border=\"1\" class=\"dataframe\">\n",
       "  <thead>\n",
       "    <tr style=\"text-align: right;\">\n",
       "      <th></th>\n",
       "      <th>chembl_id</th>\n",
       "      <th>Predicted_Value</th>\n",
       "    </tr>\n",
       "  </thead>\n",
       "  <tbody>\n",
       "    <tr>\n",
       "      <th>0</th>\n",
       "      <td>CHEMBL4594350</td>\n",
       "      <td>8.106427</td>\n",
       "    </tr>\n",
       "    <tr>\n",
       "      <th>1</th>\n",
       "      <td>CHEMBL2359966</td>\n",
       "      <td>7.497036</td>\n",
       "    </tr>\n",
       "    <tr>\n",
       "      <th>2</th>\n",
       "      <td>CHEMBL2361370</td>\n",
       "      <td>7.419709</td>\n",
       "    </tr>\n",
       "    <tr>\n",
       "      <th>3</th>\n",
       "      <td>CHEMBL3989958</td>\n",
       "      <td>7.372708</td>\n",
       "    </tr>\n",
       "    <tr>\n",
       "      <th>4</th>\n",
       "      <td>CHEMBL3707183</td>\n",
       "      <td>7.497036</td>\n",
       "    </tr>\n",
       "  </tbody>\n",
       "</table>\n",
       "</div>"
      ]
     },
     "execution_count": 46,
     "metadata": {},
     "output_type": "execute_result"
    }
   ],
   "execution_count": 46
  },
  {
   "metadata": {
    "ExecuteTime": {
     "end_time": "2025-05-04T14:21:22.043447Z",
     "start_time": "2025-05-04T14:21:22.038408Z"
    }
   },
   "cell_type": "code",
   "source": [
    "df_set = {\n",
    "  \"Gtpase Random Forest\": GRF,\n",
    "  \"G12C Random Forest\": CRF,\n",
    "  \"G12D Random Forest\": DRF,\n",
    "  \"Gtpase Neural Network\": GNN,\n",
    "  \"G12C Neural Network\": CNN,\n",
    "  \"G12D Neural Network\": DNN\n",
    "}"
   ],
   "id": "fb735e49baba47bc",
   "outputs": [],
   "execution_count": 47
  },
  {
   "metadata": {
    "ExecuteTime": {
     "end_time": "2025-05-04T14:21:22.916125Z",
     "start_time": "2025-05-04T14:21:22.557192Z"
    }
   },
   "cell_type": "code",
   "source": [
    "list = []\n",
    "for key, value in df_set.items():\n",
    "    list.append([key, \" \",\" \"])\n",
    "    df = value\n",
    "    for i in df[\"chembl_id\"]:\n",
    "        molecule = new_client.molecule\n",
    "        m1 = molecule.filter(chembl_id=i).only(\n",
    "            ['molecule_chembl_id', 'pref_name', 'molecule_structures'])\n",
    "        targets = pd.DataFrame.from_dict(m1)\n",
    "        #print(targets['molecule_chembl_id'][0])\n",
    "        if targets['molecule_chembl_id'][0] == i:\n",
    "            list.append([i,targets['pref_name'][0],float(df.loc[df[\"chembl_id\"]== i ][\"Predicted_Value\"].values[0])])\n",
    "            # print(i,targets['pref_name'][0],df[df[\"chembl_id\"]== i ][\"Predicted_Value\"].values[0])\n",
    "    list.append([\" \", \" \",\" \"])"
   ],
   "id": "bed3c7c3ac8ec31c",
   "outputs": [],
   "execution_count": 48
  },
  {
   "metadata": {
    "ExecuteTime": {
     "end_time": "2025-05-04T14:21:24.423766Z",
     "start_time": "2025-05-04T14:21:24.414613Z"
    }
   },
   "cell_type": "code",
   "source": "list",
   "id": "e6ebe920457e5aa",
   "outputs": [
    {
     "data": {
      "text/plain": [
       "[['Gtpase Random Forest', ' ', ' '],\n",
       " ['CHEMBL4594350', 'ADAGRASIB', 8.106427136975098],\n",
       " ['CHEMBL2359966', 'QUININE SULFATE', 7.497035616770629],\n",
       " ['CHEMBL2361370', 'PENBUTOLOL SULFATE', 7.419709268156769],\n",
       " ['CHEMBL3989958', 'IVOSIDENIB', 7.372708472127514],\n",
       " ['CHEMBL3707183', 'QUINIDINE SULFATE', 7.497035616770629],\n",
       " ['CHEMBL4297091', 'CODEINE SULFATE', 7.425687232920642],\n",
       " ['CHEMBL3187985', 'APOMORPHINE HYDROCHLORIDE', 7.257022141325173],\n",
       " ['CHEMBL2103744', 'MORPHINE SULFATE', 7.2252363553078975],\n",
       " ['CHEMBL3183409', 'APALUTAMIDE', 7.217008092870295],\n",
       " ['CHEMBL4535757', 'SOTORASIB', 7.173295985258044],\n",
       " [' ', ' ', ' '],\n",
       " ['G12C Random Forest', ' ', ' '],\n",
       " ['CHEMBL1201174', 'SITAGLIPTIN PHOSPHATE', 7.608019155290329],\n",
       " ['CHEMBL5315049', 'SITAGLIPTIN FUMARATE', 7.513760295461277],\n",
       " ['CHEMBL1200588', 'CLINDAMYCIN HYDROCHLORIDE', 7.478496654781677],\n",
       " ['CHEMBL1779710', 'EVOGLIPTIN', 7.457149776386765],\n",
       " ['CHEMBL535650', 'MEFLOQUINE HYDROCHLORIDE', 7.455809946116003],\n",
       " ['CHEMBL3989551', 'LINCOMYCIN HYDROCHLORIDE', 7.436815981985443],\n",
       " ['CHEMBL1422', 'SITAGLIPTIN', 7.416972368881023],\n",
       " ['CHEMBL1587', 'POLYTHIAZIDE', 7.418763961608449],\n",
       " ['CHEMBL3991065', 'ATOGEPANT', 7.339404767032027],\n",
       " ['CHEMBL1753', 'CLINDAMYCIN', 7.347947023956689],\n",
       " [' ', ' ', ' '],\n",
       " ['G12D Random Forest', ' ', ' '],\n",
       " ['CHEMBL1200866', 'PERFLUBRON', 7.944963719128017],\n",
       " ['CHEMBL1187833', 'UMECLIDINIUM', 7.924939419508702],\n",
       " ['CHEMBL46286', 'OMACETAXINE MEPESUCCINATE', 7.924906008010591],\n",
       " ['CHEMBL3544914', 'TEZACAFTOR', 7.932936338021825],\n",
       " ['CHEMBL2448612', 'ERGOTAMINE TARTRATE', 7.922379519682757],\n",
       " ['CHEMBL2364638', 'UBROGEPANT', 7.914718828254768],\n",
       " ['CHEMBL3989826', 'OXYCODONE TEREPHTHALATE', 7.915953196686346],\n",
       " ['CHEMBL575', 'METHICILLIN', 7.917130732085558],\n",
       " ['CHEMBL5314588', 'PERFLUOROHEXYLOCTANE', 7.908704371417476],\n",
       " ['CHEMBL523299', 'UMECLIDINIUM BROMIDE', 7.90049378041568],\n",
       " [' ', ' ', ' '],\n",
       " ['Gtpase Neural Network', ' ', ' '],\n",
       " ['CHEMBL2146883', 'COBIMETINIB', 8.95349],\n",
       " ['CHEMBL3301603', 'GILTERITINIB FUMARATE', 7.759499],\n",
       " ['CHEMBL1200678', 'ATAZANAVIR SULFATE', 7.5652604],\n",
       " ['CHEMBL1668', 'RESCINNAMINE', 7.5329623],\n",
       " ['CHEMBL3348963', 'TELOTRISTAT ETIPRATE', 7.1994147],\n",
       " ['CHEMBL1201244', 'ROCURONIUM', 6.9268174],\n",
       " ['CHEMBL6966', 'VERAPAMIL', 6.3693757],\n",
       " ['CHEMBL282724', 'SITAXENTAN', 5.7964606],\n",
       " ['CHEMBL2040682', 'CICLESONIDE', 5.6234417],\n",
       " ['CHEMBL3218576', 'COPANLISIB', 5.4535313],\n",
       " ['CHEMBL1678', 'DONEPEZIL HYDROCHLORIDE', 5.4348316],\n",
       " [' ', ' ', ' '],\n",
       " ['G12C Neural Network', ' ', ' '],\n",
       " ['CHEMBL1200728', 'GUANIDINE HYDROCHLORIDE', 10.190047],\n",
       " ['CHEMBL2107067', 'TESTOSTERONE UNDECANOATE', 7.7600026],\n",
       " ['CHEMBL1371', 'CHLORZOXAZONE', 7.4483685],\n",
       " ['CHEMBL492', 'ETIDOCAINE', 5.872513],\n",
       " ['CHEMBL878', 'METOLAZONE', 5.800352],\n",
       " ['CHEMBL1529', 'DIPHENIDOL HYDROCHLORIDE', 5.622511],\n",
       " ['CHEMBL1200410', 'PROCARBAZINE HYDROCHLORIDE', 5.469802],\n",
       " ['CHEMBL5315118', 'ILOPROST TROMETHAMINE', 4.2749567],\n",
       " ['CHEMBL730', 'NITROGLYCERIN', 3.3668554],\n",
       " ['CHEMBL1200968', 'HYDROCORTISONE SODIUM PHOSPHATE', nan],\n",
       " ['CHEMBL1371200', 'CANRENOATE POTASSIUM', nan],\n",
       " [' ', ' ', ' '],\n",
       " ['G12D Neural Network', ' ', ' '],\n",
       " ['CHEMBL4303454', 'DORIPENEM MONOHYDRATE', 6.483579],\n",
       " ['CHEMBL1200635', 'HYDROCORTAMATE HYDROCHLORIDE', 6.2385273],\n",
       " ['CHEMBL2107067', 'TESTOSTERONE UNDECANOATE', 5.975186],\n",
       " ['CHEMBL492', 'ETIDOCAINE', 5.768978],\n",
       " ['CHEMBL878', 'METOLAZONE', 5.024636],\n",
       " ['CHEMBL1529', 'DIPHENIDOL HYDROCHLORIDE', 4.085992],\n",
       " ['CHEMBL5315118', 'ILOPROST TROMETHAMINE', 3.448734],\n",
       " ['CHEMBL730', 'NITROGLYCERIN', 3.1568189],\n",
       " ['CHEMBL1200968', 'HYDROCORTISONE SODIUM PHOSPHATE', nan],\n",
       " ['CHEMBL1371200', 'CANRENOATE POTASSIUM', nan],\n",
       " ['CHEMBL1200487', 'ETHACRYNATE SODIUM', nan],\n",
       " [' ', ' ', ' ']]"
      ]
     },
     "execution_count": 49,
     "metadata": {},
     "output_type": "execute_result"
    }
   ],
   "execution_count": 49
  },
  {
   "metadata": {
    "ExecuteTime": {
     "end_time": "2025-05-04T14:21:26.106600Z",
     "start_time": "2025-05-04T14:21:26.102395Z"
    }
   },
   "cell_type": "code",
   "source": "final = pd.DataFrame(list)",
   "id": "459b5d3e6f789080",
   "outputs": [],
   "execution_count": 50
  },
  {
   "metadata": {
    "ExecuteTime": {
     "end_time": "2025-05-04T14:21:27.025508Z",
     "start_time": "2025-05-04T14:21:27.018794Z"
    }
   },
   "cell_type": "code",
   "source": "final.head()",
   "id": "39971124250e0987",
   "outputs": [
    {
     "data": {
      "text/plain": [
       "                      0                   1         2\n",
       "0  Gtpase Random Forest                              \n",
       "1         CHEMBL4594350           ADAGRASIB  8.106427\n",
       "2         CHEMBL2359966     QUININE SULFATE  7.497036\n",
       "3         CHEMBL2361370  PENBUTOLOL SULFATE  7.419709\n",
       "4         CHEMBL3989958          IVOSIDENIB  7.372708"
      ],
      "text/html": [
       "<div>\n",
       "<style scoped>\n",
       "    .dataframe tbody tr th:only-of-type {\n",
       "        vertical-align: middle;\n",
       "    }\n",
       "\n",
       "    .dataframe tbody tr th {\n",
       "        vertical-align: top;\n",
       "    }\n",
       "\n",
       "    .dataframe thead th {\n",
       "        text-align: right;\n",
       "    }\n",
       "</style>\n",
       "<table border=\"1\" class=\"dataframe\">\n",
       "  <thead>\n",
       "    <tr style=\"text-align: right;\">\n",
       "      <th></th>\n",
       "      <th>0</th>\n",
       "      <th>1</th>\n",
       "      <th>2</th>\n",
       "    </tr>\n",
       "  </thead>\n",
       "  <tbody>\n",
       "    <tr>\n",
       "      <th>0</th>\n",
       "      <td>Gtpase Random Forest</td>\n",
       "      <td></td>\n",
       "      <td></td>\n",
       "    </tr>\n",
       "    <tr>\n",
       "      <th>1</th>\n",
       "      <td>CHEMBL4594350</td>\n",
       "      <td>ADAGRASIB</td>\n",
       "      <td>8.106427</td>\n",
       "    </tr>\n",
       "    <tr>\n",
       "      <th>2</th>\n",
       "      <td>CHEMBL2359966</td>\n",
       "      <td>QUININE SULFATE</td>\n",
       "      <td>7.497036</td>\n",
       "    </tr>\n",
       "    <tr>\n",
       "      <th>3</th>\n",
       "      <td>CHEMBL2361370</td>\n",
       "      <td>PENBUTOLOL SULFATE</td>\n",
       "      <td>7.419709</td>\n",
       "    </tr>\n",
       "    <tr>\n",
       "      <th>4</th>\n",
       "      <td>CHEMBL3989958</td>\n",
       "      <td>IVOSIDENIB</td>\n",
       "      <td>7.372708</td>\n",
       "    </tr>\n",
       "  </tbody>\n",
       "</table>\n",
       "</div>"
      ]
     },
     "execution_count": 51,
     "metadata": {},
     "output_type": "execute_result"
    }
   ],
   "execution_count": 51
  },
  {
   "metadata": {
    "ExecuteTime": {
     "end_time": "2025-05-04T14:21:29.857179Z",
     "start_time": "2025-05-04T14:21:29.833022Z"
    }
   },
   "cell_type": "code",
   "source": "final.to_excel(\"list_for_Risha.xlsx\", index=False)",
   "id": "c48b50b0772146fd",
   "outputs": [],
   "execution_count": 52
  },
  {
   "metadata": {},
   "cell_type": "code",
   "outputs": [],
   "execution_count": null,
   "source": "",
   "id": "aab10f84f6fad5a7"
  }
 ],
 "metadata": {
  "kernelspec": {
   "display_name": "Python 3",
   "language": "python",
   "name": "python3"
  },
  "language_info": {
   "codemirror_mode": {
    "name": "ipython",
    "version": 2
   },
   "file_extension": ".py",
   "mimetype": "text/x-python",
   "name": "python",
   "nbconvert_exporter": "python",
   "pygments_lexer": "ipython2",
   "version": "2.7.6"
  }
 },
 "nbformat": 4,
 "nbformat_minor": 5
}
