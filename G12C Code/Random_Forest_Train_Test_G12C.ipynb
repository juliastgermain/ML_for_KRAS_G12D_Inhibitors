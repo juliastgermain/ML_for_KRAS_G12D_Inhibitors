{
 "cells": [
  {
   "cell_type": "code",
   "id": "initial_id",
   "metadata": {
    "collapsed": true,
    "ExecuteTime": {
     "end_time": "2025-02-27T16:01:11.017197Z",
     "start_time": "2025-02-27T16:01:11.011990Z"
    }
   },
   "source": [
    "import numpy as np\n",
    "import matplotlib.pyplot as plt\n",
    "import pandas as pd\n",
    "import warnings\n",
    "from sklearn.ensemble import RandomForestRegressor\n",
    "from sklearn.pipeline import Pipeline\n",
    "from sklearn.preprocessing import StandardScaler\n",
    "from sklearn.model_selection import KFold\n",
    "from sklearn.model_selection import cross_val_score\n",
    "from sklearn.metrics import make_scorer, mean_squared_error, r2_score"
   ],
   "outputs": [],
   "execution_count": 5
  },
  {
   "metadata": {
    "ExecuteTime": {
     "end_time": "2025-02-27T16:01:12.855154Z",
     "start_time": "2025-02-27T16:01:12.786880Z"
    }
   },
   "cell_type": "code",
   "source": [
    "import pandas as pd\n",
    "import numpy as np\n",
    "\n",
    "# Read the CSV file and drop rows with missing values\n",
    "df = pd.read_csv('new_merged_features_IC50_g12c.csv')\n",
    "df = df.dropna()  # or use df.dropna(inplace=True)\n",
    "\n",
    "# Prepare X by dropping the non-feature columns\n",
    "X = df.drop(columns=['IC50 (nM)', 'ChEMBL ID', 'Smiles'])\n",
    "\n",
    "# Clean the target values: remove '<' and '>' and convert to float\n",
    "y = df['IC50 (nM)'].str.lstrip('<>').astype(float)\n",
    "\n",
    "# Create a DataFrame for y\n",
    "y_df = pd.DataFrame({'IC50 (nM)': y})\n",
    "\n",
    "# Convert IC50 from nM to M and compute pIC50\n",
    "y_df['pIC50'] = -np.log10(y_df['IC50 (nM)'] / 1e9)\n",
    "\n",
    "y_df.head()\n",
    "\n",
    "y = y_df['pIC50']"
   ],
   "id": "6242730f94b0983e",
   "outputs": [],
   "execution_count": 6
  },
  {
   "metadata": {
    "ExecuteTime": {
     "end_time": "2025-02-27T16:04:23.178502Z",
     "start_time": "2025-02-27T16:01:16.980855Z"
    }
   },
   "cell_type": "code",
   "source": [
    "model = RandomForestRegressor(max_depth=20, min_samples_leaf=10)\n",
    "pipe = Pipeline([('scaler', StandardScaler()), ('model', model)])\n",
    "\n",
    "scorers = {\n",
    "    'r2': make_scorer(r2_score),\n",
    "    'mse': make_scorer(mean_squared_error)\n",
    "}\n",
    "\n",
    "cv = KFold(n_splits=15, shuffle=True, random_state=None)\n",
    "scores_r2 = cross_val_score(pipe, X, y, cv=cv, scoring=scorers['r2'])\n",
    "scores_mse = cross_val_score(pipe, X, y, cv=cv, scoring=scorers['mse'])\n",
    "\n",
    "mean_r2 = scores_r2.mean()\n",
    "mean_mse = scores_mse.mean()\n",
    "\n",
    "print(\"Mean R2 Score:\", mean_r2)\n",
    "# print(\"Mean MSE Score:\", mean_mse)"
   ],
   "id": "4c105593dd62f9ec",
   "outputs": [
    {
     "name": "stdout",
     "output_type": "stream",
     "text": [
      "Mean R2 Score: 0.7767330085352526\n"
     ]
    }
   ],
   "execution_count": 7
  },
  {
   "metadata": {},
   "cell_type": "code",
   "outputs": [],
   "execution_count": null,
   "source": "",
   "id": "47eea5c0e1522844"
  }
 ],
 "metadata": {
  "kernelspec": {
   "display_name": "Python 3",
   "language": "python",
   "name": "python3"
  },
  "language_info": {
   "codemirror_mode": {
    "name": "ipython",
    "version": 2
   },
   "file_extension": ".py",
   "mimetype": "text/x-python",
   "name": "python",
   "nbconvert_exporter": "python",
   "pygments_lexer": "ipython2",
   "version": "2.7.6"
  }
 },
 "nbformat": 4,
 "nbformat_minor": 5
}
